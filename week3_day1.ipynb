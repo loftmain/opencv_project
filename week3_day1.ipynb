{
 "cells": [
  {
   "cell_type": "markdown",
   "metadata": {},
   "source": [
    "# 다차원 데이터 표현\n",
    "---"
   ]
  },
  {
   "cell_type": "markdown",
   "metadata": {},
   "source": [
    "3차원 이상 데이터를 __다차원 데이터__ 라고 한다. Hyper plane"
   ]
  },
  {
   "cell_type": "markdown",
   "metadata": {},
   "source": [
    "공간 안에 한 점으로 표현할 수 있다.  \n",
    "\n",
    "행렬 형태를 n 차원으로 변경한다.  \n",
    "\n",
    "영상 인식의 첫번째는 2D 영상을 n차원으로 변경하는 것.  \n",
    "-> 신경망이든 어떤 방법이나 n차원(벡터)형태로 변경해야지 문제를 풀 수 있다.  \n",
    "\n",
    "w는 독립적으로 계산  \n",
    "\n"
   ]
  },
  {
   "cell_type": "markdown",
   "metadata": {},
   "source": [
    "## 위치정보가 중요한 다차원 데이터\n"
   ]
  },
  {
   "cell_type": "markdown",
   "metadata": {},
   "source": [
    "2d를 1d로 변경하는 것은 영상의 위치정보를 고려하지 않는다는 것임.  \n",
    "\n",
    "그럼 이것이 맞는 것인가?  \n",
    "\n"
   ]
  },
  {
   "cell_type": "markdown",
   "metadata": {},
   "source": [
    "## 주변 정보를 고려한 데이터 표현"
   ]
  },
  {
   "cell_type": "markdown",
   "metadata": {},
   "source": [
    "## 공간 정보 인코딩\n",
    "\n",
    "주변의 특징 정보를 추가해 데이터의 특징 차원을 늘림"
   ]
  },
  {
   "cell_type": "markdown",
   "metadata": {},
   "source": [
    "문제는 2차원 영상데이터에서는 문제가 생긴다.  \n",
    "\n",
    "9차원의 데이터는 81차원으로 변경된다.   \n",
    "\n",
    "128x128이면 147456  \n",
    "\n",
    "너무 데이터가 커진다.  \n",
    "\n",
    "그래서 주변 정보를 다 더하여 평균  \n",
    "\n",
    "전체 평균을 사용할 수도 있지만 상하좌우를 사용할 수도 있고   \n",
    "\n",
    "위아래의 차이를 넣는 것도 있다"
   ]
  },
  {
   "cell_type": "markdown",
   "metadata": {},
   "source": [
    "# 2D 컨볼루션\n",
    "---"
   ]
  },
  {
   "cell_type": "markdown",
   "metadata": {},
   "source": [
    "CNN은 영상처리에서 많이 사용하던 컨볼루션을 대려온 것\n",
    "\n"
   ]
  },
  {
   "cell_type": "markdown",
   "metadata": {},
   "source": [
    "## 2D 컨볼루션을 이용한 특징 검출"
   ]
  },
  {
   "cell_type": "markdown",
   "metadata": {},
   "source": [
    "특징 조건에 맞으면 반응, 그렇지 않으면 무반응  \n",
    "\n",
    "input image에 filter를 해서 나오는 output image의 크기가 크게 나온다는 것은 입력 이미지가 필터에 반응해서 하는 것임  \n",
    "\n",
    "필터의 장점은 정보의 양을 줄여준다.  \n",
    "\n",
    "\n"
   ]
  },
  {
   "cell_type": "markdown",
   "metadata": {},
   "source": [
    "## 영상을 위한 컨볼루션 필터 설계의 어려움\n",
    "\n",
    "영상의 기하학적 변화에도 강인하도록 필터가 설계되어야함.  \n",
    "크기, 각도  ,밝기 ,위치   \n",
    "\n",
    "필터수가 많아지면 차원수가 늘어나 계산 복잡도가 급격히 높아짐  \n",
    "\n",
    "어떤 필터가 적합한지 최적화 필요  \n",
    "\n",
    "\n",
    "2d 문제를 1d로 바꾸면 생기는 문제.  \n",
    "필터, 컨볼루션 문제.  "
   ]
  },
  {
   "cell_type": "code",
   "execution_count": null,
   "metadata": {},
   "outputs": [],
   "source": []
  }
 ],
 "metadata": {
  "kernelspec": {
   "display_name": "Python 3",
   "language": "python",
   "name": "python3"
  },
  "language_info": {
   "codemirror_mode": {
    "name": "ipython",
    "version": 3
   },
   "file_extension": ".py",
   "mimetype": "text/x-python",
   "name": "python",
   "nbconvert_exporter": "python",
   "pygments_lexer": "ipython3",
   "version": "3.7.6"
  }
 },
 "nbformat": 4,
 "nbformat_minor": 4
}
