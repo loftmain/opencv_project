{
 "cells": [
  {
   "cell_type": "markdown",
   "metadata": {},
   "source": [
    "# HOG 알고리즘과 보행자 검출\n",
    "---\n"
   ]
  },
  {
   "cell_type": "markdown",
   "metadata": {},
   "source": [
    "그래디언트 방향 히스토그램을 의미  \n",
    "\n",
    "히스토그램은 총 256개의 값이 나온다.  \n",
    "\n",
    "영상 크기에 관계없이 256개의 특징을 구할 수 있는 특징  \n",
    "\n",
    "엣지의 양을 보는 것이 아닌 엣지의 방향을 봄.  \n",
    "\n",
    "서포트 벡터 머신을 사용하여 입력 영상에서 보행자 위치를 검출하는 방법  \n",
    "\n"
   ]
  },
  {
   "cell_type": "markdown",
   "metadata": {},
   "source": [
    "하라이크와 검출방법은 동일함.  \n",
    "\n",
    "- 기본적으로 64 x 128 크기의 영상에서 계산함\n",
    "- 먼저 입력 영상으로부터 그래디언트를 계산 (소벨연산)\n",
    "- 그래디언트는 방향 성분으로 계산하며, 방향성분은 0도부터 180도까지로 설정\n",
    "- 전체영상을 8x8 픽셀로 나누어 가로 8개 세로 16개로 생성\n",
    "- 각각의 셀로부터 그래디언트 방향 성분에 대한 히스토그램을 구함\n",
    "    히스토그램의 장점으로 \n",
    "- 방향 성분을 20도 단위로 구분하여 총 아홉개의 빈으로 구성된 방향 히스토그램이 만들어짐.\n",
    "- 하나의 블록에는 네 개의 셀이 있고 각 셀에는 아홉개의 빈으로 히스토그램 저ㅇ보가 있음.\n",
    "- 3780 개의 실수 값이 64X128 영상을 표현하는 HOG 특징 벡터 역할을 함\n"
   ]
  },
  {
   "cell_type": "code",
   "execution_count": 3,
   "metadata": {},
   "outputs": [],
   "source": [
    "import sys\n",
    "import cv2\n",
    "import numpy as np\n",
    "import random\n",
    "import pytesseract\n",
    "from IPython.core.display import HTML\n",
    "import requests\n",
    "\n",
    "from matplotlib import pyplot as plt\n",
    "%matplotlib inline\n",
    "\n",
    "def imshow(tit, image) :\n",
    "    plt.title(tit)    \n",
    "    if len(image.shape) == 3 :\n",
    "        plt.imshow(cv2.cvtColor(image, cv2.COLOR_BGR2RGB))\n",
    "    else :\n",
    "        plt.imshow(image, cmap=\"gray\")\n",
    "    plt.show()"
   ]
  },
  {
   "cell_type": "markdown",
   "metadata": {},
   "source": [
    "- 두 특징 벡터를 구분하기 위해 SVM 알고리즘을 사용  \n",
    "= SVM 알고리즘은 마진이 최대가 되는 초평면을 만듬"
   ]
  },
  {
   "cell_type": "code",
   "execution_count": 6,
   "metadata": {},
   "outputs": [],
   "source": [
    "cap = cv2.VideoCapture('vision/vtest.avi')\n",
    "\n",
    "hog = cv2.HOGDescriptor()\n",
    "hog.setSVMDetector(cv2.HOGDescriptor_getDefaultPeopleDetector())\n",
    "\n",
    "while True:\n",
    "    ret, frame = cap.read()\n",
    "\n",
    "    if not ret: break\n",
    "\n",
    "    detected, _ = hog.detectMultiScale(frame)\n",
    "\n",
    "    for (x, y, w, h) in detected:\n",
    "        c = (random.randint(0, 255),\n",
    "             random.randint(0, 255), \n",
    "             random.randint(0, 255))\n",
    "        cv2.rectangle(frame, (x, y), (x + w, y + h), c, 3)\n",
    "\n",
    "    cv2.imshow('frame', frame)\n",
    "    if cv2.waitKey(10) == 27:  break\n",
    "\n",
    "cv2.destroyAllWindows()\n"
   ]
  },
  {
   "cell_type": "code",
   "execution_count": 5,
   "metadata": {},
   "outputs": [],
   "source": [
    "cap = cv2.VideoCapture('vision/vtest.avi')\n",
    "\n",
    "hog = cv2.HOGDescriptor()\n",
    "hog.setSVMDetector(cv2.HOGDescriptor_getDefaultPeopleDetector())\n",
    "\n",
    "fgbg = cv2.createBackgroundSubtractorMOG2(varThreshold=100)\n",
    "\n",
    "\n",
    "while True:\n",
    "    ret, frame = cap.read()\n",
    "    if not ret: break\n",
    "        \n",
    "    fgmask = fgbg.apply(frame)        \n",
    "    detected, _ = hog.detectMultiScale(frame)\n",
    "\n",
    "    for (x, y, w, h) in detected:\n",
    "        c = (random.randint(0, 255),\n",
    "             random.randint(0, 255), \n",
    "             random.randint(0, 255))\n",
    "        cv2.rectangle(frame, (x, y), (x + w, y + h), c, 3)        \n",
    "    cv2.imshow('mask', fgmask)\n",
    "    cv2.imshow('frame', frame)\n",
    "        \n",
    "    if cv2.waitKey(-1) == 27:  break\n",
    "\n",
    "cv2.destroyAllWindows()"
   ]
  },
  {
   "cell_type": "markdown",
   "metadata": {},
   "source": [
    "# 지역 특징점 검출과 매칭\n",
    "---"
   ]
  },
  {
   "cell_type": "code",
   "execution_count": null,
   "metadata": {},
   "outputs": [],
   "source": []
  }
 ],
 "metadata": {
  "kernelspec": {
   "display_name": "",
   "name": ""
  },
  "language_info": {
   "codemirror_mode": {
    "name": "ipython",
    "version": 3
   },
   "file_extension": ".py",
   "mimetype": "text/x-python",
   "name": "python",
   "nbconvert_exporter": "python",
   "pygments_lexer": "ipython3",
   "version": "3.7.6"
  }
 },
 "nbformat": 4,
 "nbformat_minor": 4
}
