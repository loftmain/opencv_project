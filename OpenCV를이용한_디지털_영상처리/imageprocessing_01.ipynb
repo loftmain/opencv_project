{
 "cells": [
  {
   "cell_type": "markdown",
   "metadata": {},
   "source": [
    "# 영상처리 개요\n",
    "---\n"
   ]
  },
  {
   "cell_type": "markdown",
   "metadata": {},
   "source": [
    "## 컬러영상을 그레이 스캐일 영상으로\n",
    "\n",
    "Grayscale = (Red + Green + Blue) / 3"
   ]
  },
  {
   "cell_type": "markdown",
   "metadata": {},
   "source": [
    "## 표본화와 양자화\n",
    "\n",
    "간단하게 설명하면  \n",
    "표본화(Sampling): 아날로그 영상에서 정당한 간격으로 샘플을 추출하는 것  \n",
    "양자화(quantization): 각 샘플들의 밝기를 제한된 수의 비트로 표시하는 것  \n",
    "\n",
    "표본화 하려는 점들을 화소(*pixel*) 라 한다.  \n",
    "\n",
    "\n",
    "이진 영상(binary image): 각 화소가 0과 1의 값만 갖는 영상  \n",
    "\n",
    "명도(gray level): 한 화소의 밝기(brightness)를 나타내는 정수값"
   ]
  },
  {
   "cell_type": "markdown",
   "metadata": {},
   "source": [
    "컬러 영상은 3가지 기본적인 적색(red), 녹색(green), 청색(blue)에 대하여 각각 하나의 M X N의 행렬을 필요로 한다.  \n",
    "따라서 각 행렬의 명도값은 각 화소 지점에서의 적색, 녹색, 청색 성분의 강도를 나타낸다. 따라서 컬러영상에서의 각 화소 f(x,y)는 R, G, B의 3 요소로 되어있다.  \n",
    "\n",
    "R,G,B가 각각 8비트인 경우 각 성분은 2^8 = 256 단계의 명도를 가진다.  \n",
    "8비트를 할당한 24비트 컬러 영상이 약 1680만 색을 표현할 수 있으므로 트루 컬러 영상(true color image)라고 한다.  \n",
    "\n"
   ]
  },
  {
   "cell_type": "markdown",
   "metadata": {},
   "source": [
    "### 영상의 좌표계\n",
    "\n",
    "영상의 좌표계는 수학에서와는 다르게 원점이 __좌측 상단__에 있다. "
   ]
  },
  {
   "cell_type": "markdown",
   "metadata": {},
   "source": [
    "### 정지 영상의 크기\n",
    "\n",
    "정지 영상 데이터양 = (가로 픽셀 수) * (세로 픽셀 수) * (픽셀당 비트 수)  \n",
    "\n",
    "동영상 데이터양 = (가로 픽셀 수) * (세로 픽셀 수) * (화소당 비트 수) * (초당 프레임 수)  \n",
    "\n"
   ]
  },
  {
   "cell_type": "markdown",
   "metadata": {},
   "source": [
    "## 영상 처리와 유사한 분야\n",
    "\n",
    "컴퓨터 비전(computer vision)은 입력 영상에서 어떤 정보를 추출하는 분야이다. 영상처리와 정말 많은 부분이 중복된다.  \n",
    "\n",
    "컴퓨터 그래픽(computer graphics)은 컴퓨터에서 가상의 영상을 생성하는 것을 다루는 학문이다. 영상처리는 실제 세계에서 획득된 영상을 컴퓨터로 처리한다.  \n",
    "\n",
    "신호 처리(signal processing)는 굉장히 방대한 분야이다. 영상처리도 신호처리의 일부라고 할 수 있다.  \n",
    "\n"
   ]
  },
  {
   "cell_type": "markdown",
   "metadata": {},
   "source": [
    "## 영상 처리 분야\n",
    "\n",
    "- 저수준 영상 처리: 입력 영상을 처리하여서 영상의 화질을 개선하거나 잡음을 제거하는 영상 처리  \n",
    "- 고수준 영상 처리: 영상을 분석하여서 영상을 분할하거나 영상안에 존재하는 사물을 인식하는 것\n",
    "\n"
   ]
  },
  {
   "cell_type": "markdown",
   "metadata": {},
   "source": [
    "### 영상 처리 기술\n",
    "\n",
    "- 영상 조작(image manipulation): 영상을 변형하는 것\n",
    "- 영상 분석(image analysis): 영상 안의 물체를 측정하거나 검사한다.\n",
    "- 영상 인식(image recognition): 영상 내 존재하는 물체의 종류와 개수 등을 식별하는 기술\n",
    "- 영상 압축(image compression): 영상의 크기를 줄이는 기술\n",
    "\n"
   ]
  },
  {
   "cell_type": "code",
   "execution_count": null,
   "metadata": {},
   "outputs": [],
   "source": []
  }
 ],
 "metadata": {
  "kernelspec": {
   "display_name": "Python 3",
   "language": "python",
   "name": "python3"
  },
  "language_info": {
   "codemirror_mode": {
    "name": "ipython",
    "version": 3
   },
   "file_extension": ".py",
   "mimetype": "text/x-python",
   "name": "python",
   "nbconvert_exporter": "python",
   "pygments_lexer": "ipython3",
   "version": "3.7.6"
  }
 },
 "nbformat": 4,
 "nbformat_minor": 4
}
