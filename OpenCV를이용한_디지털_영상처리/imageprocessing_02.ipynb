{
 "cells": [
  {
   "cell_type": "markdown",
   "metadata": {},
   "source": [
    "# OpenCV를 이용하여 도형 그리기\n",
    "---\n",
    "\n"
   ]
  },
  {
   "cell_type": "markdown",
   "metadata": {},
   "source": [
    "- line(): 직선을 그리는 함수\n",
    "- ellipse(): 타원을 그리는 함수\n",
    "- rectangle(): 사각형을 그리는 함수\n",
    "- circle(): 원을 그리는 함수\n",
    "- fillPoly(): 채워진 다각형을 그리는 함수\n"
   ]
  },
  {
   "cell_type": "code",
   "execution_count": 1,
   "metadata": {},
   "outputs": [],
   "source": [
    "import cv2\n",
    "import numpy as np\n",
    "from matplotlib import pyplot as plt\n",
    "import matplotlib.pyplot as plt\n",
    "%matplotlib inline\n",
    "\n",
    "plt.rcParams['figure.figsize'] = [10, 5]\n",
    "\n",
    "\n",
    "def imshow(tit, images):\n",
    "    plt.title(tit)\n",
    "    if len(images.shape) == 3:\n",
    "        plt.imshow(cv2.cvtColor(images, cv2.COLOR_BGR2RGB))\n",
    "    else:\n",
    "        plt.imshow(images, cmap='gray')\n",
    "    plt.show()"
   ]
  },
  {
   "cell_type": "code",
   "execution_count": 44,
   "metadata": {},
   "outputs": [
    {
     "data": {
      "text/plain": [
       "(512, 512, 3)"
      ]
     },
     "execution_count": 44,
     "metadata": {},
     "output_type": "execute_result"
    }
   ],
   "source": [
    "img1 = cv2.imread(\"../img/Lenna.png\", cv2.IMREAD_COLOR)\n",
    "img1.shape"
   ]
  },
  {
   "cell_type": "code",
   "execution_count": 2,
   "metadata": {},
   "outputs": [
    {
     "name": "stdout",
     "output_type": "stream",
     "text": [
      "uint8\n",
      "float64\n"
     ]
    }
   ],
   "source": [
    "img = np.ndarray((512, 512, 3)).astype(np.uint8)\n",
    "img2 = np.ndarray((512, 512, 3)) # 그냥 하면 안된다 float 64 이어서? -> uint8이나 float 32로 변경\n",
    "print(img.dtype)\n",
    "print(img2.dtype)\n"
   ]
  },
  {
   "cell_type": "code",
   "execution_count": 3,
   "metadata": {},
   "outputs": [
    {
     "name": "stdout",
     "output_type": "stream",
     "text": [
      "[[[0 0 0]\n",
      "  [0 0 0]\n",
      "  [0 0 0]\n",
      "  ...\n",
      "  [0 0 0]\n",
      "  [0 0 0]\n",
      "  [0 0 0]]\n",
      "\n",
      " [[0 0 0]\n",
      "  [0 0 0]\n",
      "  [0 0 0]\n",
      "  ...\n",
      "  [0 0 0]\n",
      "  [0 0 0]\n",
      "  [0 0 0]]\n",
      "\n",
      " [[0 0 0]\n",
      "  [0 0 0]\n",
      "  [0 0 0]\n",
      "  ...\n",
      "  [0 0 0]\n",
      "  [0 0 0]\n",
      "  [0 0 0]]\n",
      "\n",
      " ...\n",
      "\n",
      " [[0 0 0]\n",
      "  [0 0 0]\n",
      "  [0 0 0]\n",
      "  ...\n",
      "  [0 0 0]\n",
      "  [0 0 0]\n",
      "  [0 0 0]]\n",
      "\n",
      " [[0 0 0]\n",
      "  [0 0 0]\n",
      "  [0 0 0]\n",
      "  ...\n",
      "  [0 0 0]\n",
      "  [0 0 0]\n",
      "  [0 0 0]]\n",
      "\n",
      " [[0 0 0]\n",
      "  [0 0 0]\n",
      "  [0 0 0]\n",
      "  ...\n",
      "  [0 0 0]\n",
      "  [0 0 0]\n",
      "  [0 0 0]]]\n"
     ]
    },
    {
     "data": {
      "text/plain": [
       "<matplotlib.image.AxesImage at 0x142567e7cc8>"
      ]
     },
     "execution_count": 3,
     "metadata": {},
     "output_type": "execute_result"
    },
    {
     "data": {
      "image/png": "[encoded data removed]",
      "text/plain": [
       "<Figure size 720x360 with 1 Axes>"
      ]
     },
     "metadata": {
      "needs_background": "light"
     },
     "output_type": "display_data"
    }
   ],
   "source": [
    "print(img)\n",
    "# cv2.imshow(\"\", img2)\n",
    "# cv2.waitKey()\n",
    "# cv2.destroyAllWindows()\n",
    "\n",
    "plt.imshow(img2)"
   ]
  },
  {
   "cell_type": "code",
   "execution_count": 4,
   "metadata": {},
   "outputs": [
    {
     "data": {
      "image/png": "[encoded data removed]",
      "text/plain": [
       "<Figure size 720x360 with 1 Axes>"
      ]
     },
     "metadata": {
      "needs_background": "light"
     },
     "output_type": "display_data"
    }
   ],
   "source": [
    "cv2.line(img, (100,100), (300,400), color=(255, 0,255), thickness=7)\n",
    "cv2.line(img, (0,0), (400,50), color=(255, 0,255), thickness=7)\n",
    "\n",
    "imshow(\"\", img)"
   ]
  },
  {
   "cell_type": "code",
   "execution_count": 6,
   "metadata": {},
   "outputs": [
    {
     "data": {
      "image/png": "[encoded data removed]",
      "text/plain": [
       "<Figure size 720x360 with 1 Axes>"
      ]
     },
     "metadata": {
      "needs_background": "light"
     },
     "output_type": "display_data"
    }
   ],
   "source": [
    "cv2.rectangle(img, (100,100), (300, 200), color=(255, 0, 0), thickness=4)\n",
    "imshow(\"img\", img)"
   ]
  },
  {
   "cell_type": "code",
   "execution_count": 19,
   "metadata": {},
   "outputs": [
    {
     "ename": "TypeError",
     "evalue": "argument for ellipse() given by name ('color') and position (3)",
     "output_type": "error",
     "traceback": [
      "\u001b[1;31m---------------------------------------------------------------------------\u001b[0m",
      "\u001b[1;31mTypeError\u001b[0m                                 Traceback (most recent call last)",
      "\u001b[1;32m<ipython-input-19-9b433827d605>\u001b[0m in \u001b[0;36m<module>\u001b[1;34m\u001b[0m\n\u001b[1;32m----> 1\u001b[1;33m \u001b[0mcv2\u001b[0m\u001b[1;33m.\u001b[0m\u001b[0mellipse\u001b[0m\u001b[1;33m(\u001b[0m\u001b[0mimg\u001b[0m\u001b[1;33m,\u001b[0m \u001b[1;33m(\u001b[0m\u001b[1;36m250\u001b[0m\u001b[1;33m,\u001b[0m \u001b[1;36m250\u001b[0m\u001b[1;33m)\u001b[0m\u001b[1;33m,\u001b[0m \u001b[1;36m100\u001b[0m\u001b[1;33m,\u001b[0m \u001b[0mcolor\u001b[0m\u001b[1;33m=\u001b[0m\u001b[1;33m(\u001b[0m\u001b[1;36m0\u001b[0m\u001b[1;33m,\u001b[0m \u001b[1;36m0\u001b[0m\u001b[1;33m,\u001b[0m \u001b[1;36m255\u001b[0m\u001b[1;33m)\u001b[0m\u001b[1;33m)\u001b[0m\u001b[1;33m\u001b[0m\u001b[1;33m\u001b[0m\u001b[0m\n\u001b[0m",
      "\u001b[1;31mTypeError\u001b[0m: argument for ellipse() given by name ('color') and position (3)"
     ]
    }
   ],
   "source": [
    "# ellipse\n",
    "\n",
    "center_coordinates = (120, 100) \n",
    "  \n",
    "axesLength = (100, 50) \n",
    "  \n",
    "angle = 0\n",
    "  \n",
    "startAngle = 0\n",
    "  \n",
    "endAngle = 360\n",
    "   \n",
    "# Red color in BGR \n",
    "color = (0, 0, 255) \n",
    "   \n",
    "# Line thickness of 5 px \n",
    "thickness = 5\n",
    "   \n",
    "# Using cv2.ellipse() method \n",
    "# Draw a ellipse with red line borders of thickness of 5 px \n",
    "image = cv2.ellipse(img, center_coordinates, axesLength, \n",
    "           angle, startAngle, endAngle, color, thickness) "
   ]
  },
  {
   "cell_type": "markdown",
   "metadata": {},
   "source": [
    "자연수 n,m을 입력받아서 n이 m개의 자연수들의 합으로 표현될 때\n",
    "\n",
    "그 경우의 수와 // 그 때의 자연수들 쌍을 출력하는 프로그램을 작성하시오.\n",
    "\n",
    "ex) 입력 : 6 3 경우의 수 : 3 자연수들 쌍 : [4,1,1] [3,2,1] [2,2,2]"
   ]
  },
  {
   "cell_type": "code",
   "execution_count": 14,
   "metadata": {},
   "outputs": [
    {
     "name": "stdout",
     "output_type": "stream",
     "text": [
      "i= 4\n",
      "k= 1\n",
      "j= 1\n",
      "\n",
      "4 1 1\n",
      "i= 3\n",
      "k= 2\n",
      "j= 1\n",
      "\n",
      "3 2 1\n",
      "k= 1\n",
      "j= 2\n",
      "\n",
      "3 1 2\n",
      "j= 1\n",
      "\n",
      "i= 2\n",
      "k= 3\n",
      "j= 1\n",
      "\n",
      "2 3 1\n",
      "k= 2\n",
      "j= 2\n",
      "\n",
      "2 2 2\n",
      "j= 1\n",
      "\n",
      "k= 1\n",
      "j= 3\n",
      "\n",
      "2 1 3\n",
      "j= 2\n",
      "\n",
      "j= 1\n",
      "\n",
      "i= 1\n",
      "k= 4\n",
      "j= 1\n",
      "\n",
      "1 4 1\n",
      "k= 3\n",
      "j= 2\n",
      "\n",
      "1 3 2\n",
      "j= 1\n",
      "\n",
      "k= 2\n",
      "j= 3\n",
      "\n",
      "1 2 3\n",
      "j= 2\n",
      "\n",
      "j= 1\n",
      "\n",
      "k= 1\n",
      "j= 4\n",
      "\n",
      "1 1 4\n",
      "j= 3\n",
      "\n",
      "j= 2\n",
      "\n",
      "j= 1\n",
      "\n"
     ]
    }
   ],
   "source": [
    "n = 6\n",
    "m = 3\n",
    "\n",
    "for i in range(n-m+1, 0, -1):\n",
    "    print('i=', i)\n",
    "    for k in range(n-i-1, 0, -1):\n",
    "        print('k=', k)\n",
    "        for j in range (n-(i+k), 0, -1):\n",
    "            print('j=',j)\n",
    "            print(\"\")\n",
    "            if i+k+j == n:\n",
    "                print(i, k, j)\n",
    "\n"
   ]
  },
  {
   "cell_type": "code",
   "execution_count": null,
   "metadata": {},
   "outputs": [],
   "source": []
  }
 ],
 "metadata": {
  "kernelspec": {
   "display_name": "Python 3",
   "language": "python",
   "name": "python3"
  },
  "language_info": {
   "codemirror_mode": {
    "name": "ipython",
    "version": 3
   },
   "file_extension": ".py",
   "mimetype": "text/x-python",
   "name": "python",
   "nbconvert_exporter": "python",
   "pygments_lexer": "ipython3",
   "version": "3.7.6"
  }
 },
 "nbformat": 4,
 "nbformat_minor": 4
}
