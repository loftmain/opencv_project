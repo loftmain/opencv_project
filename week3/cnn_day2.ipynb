{
 "cells": [
  {
   "cell_type": "code",
   "execution_count": 20,
   "metadata": {},
   "outputs": [],
   "source": [
    "from sklearn import datasets\n",
    "import numpy.linalg as lin\n",
    "from sklearn.model_selection import train_test_split\n",
    "import numpy as np\n",
    "import matplotlib.pyplot as plt\n",
    "from keras.datasets import mnist, fashion_mnist\n",
    "from keras import models\n",
    "from keras.utils import to_categorical\n",
    "from keras.models import Sequential\n",
    "from keras import optimizers\n",
    "from keras.layers import Dense, Activation, Flatten, Conv2D, MaxPooling2D"
   ]
  },
  {
   "cell_type": "code",
   "execution_count": 33,
   "metadata": {},
   "outputs": [
    {
     "name": "stdout",
     "output_type": "stream",
     "text": [
      "unit:  20\n",
      "hello\n",
      "20 [3, 3, 4]\n",
      "[3, 3, 4]\n",
      "4\n",
      "unit:  20\n",
      "hello\n",
      "unit:  20\n",
      "hello\n"
     ]
    }
   ],
   "source": [
    "# 생성자를 호출하는 밥법\n",
    "class MyLayer : \n",
    "    def __init__(self, unit):\n",
    "        self.unit = unit\n",
    "        print('unit: ', unit)\n",
    "        print(\"hello\")\n",
    "        \n",
    "    def __call__(self, v): # 객체이름을 가지고 부를수 있는 함수\n",
    "        print(self.unit, v)\n",
    "        print(v)\n",
    "        return self # 객체이름을 함수로 사용가능\n",
    "    # 여러번 호출가능\n",
    "        \n",
    "    def test(self, v):\n",
    "        print(v)\n",
    "    \n",
    "#A = MyLayer()\n",
    "#A.test(10)\n",
    "#A(20)\n",
    "\n",
    "#A = MyLayer()(20)\n",
    "# A = MyLayer()\n",
    "# A(20)\n",
    "\n",
    "A = MyLayer(20)\n",
    "# A = MyLayer(20)([1,2,3,4,5])\n",
    "A([3,3,4])\n",
    "A.test(4)\n",
    "\n",
    "B = MyLayer(20)\n",
    "C = MyLayer(20)\n"
   ]
  },
  {
   "cell_type": "markdown",
   "metadata": {},
   "source": [
    "__callable__이란  \n",
    "이미 생성된 객체에 대해서 함수처럼 호출할 수 있도록 함"
   ]
  },
  {
   "cell_type": "markdown",
   "metadata": {},
   "source": [
    "# 얼굴인식 \n",
    "---"
   ]
  },
  {
   "cell_type": "code",
   "execution_count": 36,
   "metadata": {},
   "outputs": [
    {
     "name": "stdout",
     "output_type": "stream",
     "text": [
      "(400, 4096)\n",
      "(400,)\n"
     ]
    }
   ],
   "source": [
    "from sklearn.datasets import fetch_olivetti_faces\n",
    "import cv2\n",
    "\n",
    "orl = fetch_olivetti_faces()\n",
    "data = orl.data # 0~1로 정규화 되어있음.\n",
    "target = orl.target\n",
    "print(data.shape)\n",
    "print(target.shape)\n"
   ]
  },
  {
   "cell_type": "code",
   "execution_count": 56,
   "metadata": {},
   "outputs": [
    {
     "data": {
      "text/plain": [
       "array([ 0,  0,  0,  0,  0,  0,  0,  0,  0,  0,  1,  1,  1,  1,  1,  1,  1,\n",
       "        1,  1,  1,  2,  2,  2,  2,  2,  2,  2,  2,  2,  2,  3,  3,  3,  3,\n",
       "        3,  3,  3,  3,  3,  3,  4,  4,  4,  4,  4,  4,  4,  4,  4,  4,  5,\n",
       "        5,  5,  5,  5,  5,  5,  5,  5,  5,  6,  6,  6,  6,  6,  6,  6,  6,\n",
       "        6,  6,  7,  7,  7,  7,  7,  7,  7,  7,  7,  7,  8,  8,  8,  8,  8,\n",
       "        8,  8,  8,  8,  8,  9,  9,  9,  9,  9,  9,  9,  9,  9,  9, 10, 10,\n",
       "       10, 10, 10, 10, 10, 10, 10, 10, 11, 11, 11, 11, 11, 11, 11, 11, 11,\n",
       "       11, 12, 12, 12, 12, 12, 12, 12, 12, 12, 12, 13, 13, 13, 13, 13, 13,\n",
       "       13, 13, 13, 13, 14, 14, 14, 14, 14, 14, 14, 14, 14, 14, 15, 15, 15,\n",
       "       15, 15, 15, 15, 15, 15, 15, 16, 16, 16, 16, 16, 16, 16, 16, 16, 16,\n",
       "       17, 17, 17, 17, 17, 17, 17, 17, 17, 17, 18, 18, 18, 18, 18, 18, 18,\n",
       "       18, 18, 18, 19, 19, 19, 19, 19, 19, 19, 19, 19, 19, 20, 20, 20, 20,\n",
       "       20, 20, 20, 20, 20, 20, 21, 21, 21, 21, 21, 21, 21, 21, 21, 21, 22,\n",
       "       22, 22, 22, 22, 22, 22, 22, 22, 22, 23, 23, 23, 23, 23, 23, 23, 23,\n",
       "       23, 23, 24, 24, 24, 24, 24, 24, 24, 24, 24, 24, 25, 25, 25, 25, 25,\n",
       "       25, 25, 25, 25, 25, 26, 26, 26, 26, 26, 26, 26, 26, 26, 26, 27, 27,\n",
       "       27, 27, 27, 27, 27, 27, 27, 27, 28, 28, 28, 28, 28, 28, 28, 28, 28,\n",
       "       28, 29, 29, 29, 29, 29, 29, 29, 29, 29, 29, 30, 30, 30, 30, 30, 30,\n",
       "       30, 30, 30, 30, 31, 31, 31, 31, 31, 31, 31, 31, 31, 31, 32, 32, 32,\n",
       "       32, 32, 32, 32, 32, 32, 32, 33, 33, 33, 33, 33, 33, 33, 33, 33, 33,\n",
       "       34, 34, 34, 34, 34, 34, 34, 34, 34, 34, 35, 35, 35, 35, 35, 35, 35,\n",
       "       35, 35, 35, 36, 36, 36, 36, 36, 36, 36, 36, 36, 36, 37, 37, 37, 37,\n",
       "       37, 37, 37, 37, 37, 37, 38, 38, 38, 38, 38, 38, 38, 38, 38, 38, 39,\n",
       "       39, 39, 39, 39, 39, 39, 39, 39, 39])"
      ]
     },
     "execution_count": 56,
     "metadata": {},
     "output_type": "execute_result"
    }
   ],
   "source": [
    "target"
   ]
  },
  {
   "cell_type": "code",
   "execution_count": 37,
   "metadata": {},
   "outputs": [
    {
     "data": {
      "text/plain": [
       "<matplotlib.image.AxesImage at 0x1aa4de94b88>"
      ]
     },
     "execution_count": 37,
     "metadata": {},
     "output_type": "execute_result"
    },
    {
     "data": {
      "image/png": "[encoded data removed]",
      "text/plain": [
       "<Figure size 432x288 with 1 Axes>"
      ]
     },
     "metadata": {
      "needs_background": "light"
     },
     "output_type": "display_data"
    }
   ],
   "source": [
    "plt.imshow(data[0, :].reshape(64, 64), cmap=\"gray\")"
   ]
  },
  {
   "cell_type": "code",
   "execution_count": 38,
   "metadata": {},
   "outputs": [],
   "source": [
    "data = np.zeros((400, 32*32), dtype=\"uint8\")\n",
    "\n",
    "for i, d in enumerate(orl.data): # i: index d: value\n",
    "    image = cv2.resize(d.reshape(64, 64), (32,32))\n",
    "    data[i,:] = image.flatten()*255"
   ]
  },
  {
   "cell_type": "code",
   "execution_count": 40,
   "metadata": {},
   "outputs": [
    {
     "name": "stdout",
     "output_type": "stream",
     "text": [
      "(400, 1024)\n"
     ]
    },
    {
     "data": {
      "image/png": "[encoded data removed]",
      "text/plain": [
       "<Figure size 432x288 with 1 Axes>"
      ]
     },
     "metadata": {
      "needs_background": "light"
     },
     "output_type": "display_data"
    }
   ],
   "source": [
    "plt.imshow(data[0, :].reshape(32, 32), cmap=\"gray\")\n",
    "print(data.shape)"
   ]
  },
  {
   "cell_type": "code",
   "execution_count": 107,
   "metadata": {},
   "outputs": [
    {
     "name": "stdout",
     "output_type": "stream",
     "text": [
      "(320, 1024)\n",
      "(80, 1024)\n"
     ]
    }
   ],
   "source": [
    "from sklearn.model_selection import train_test_split\n",
    "\n",
    "X_train, X_val, y_train, y_val = \\\n",
    "    train_test_split(data, target, test_size=0.2)\n",
    "    \n",
    "print(X_train.shape)\n",
    "print(X_val.shape)\n"
   ]
  },
  {
   "cell_type": "code",
   "execution_count": 108,
   "metadata": {},
   "outputs": [],
   "source": [
    "# cnn을 돌리기위해 4차원 & 원핫 인코딩\n",
    "X_train = X_train.reshape(-1, 32, 32, 1)\n",
    "X_val = X_val.reshape(-1, 32, 32, 1)\n",
    "\n",
    "import keras.utils as utils\n",
    "y_train_e = utils.to_categorical(y_train, 40)\n",
    "y_val_e = utils.to_categorical(y_val, 40)"
   ]
  },
  {
   "cell_type": "code",
   "execution_count": 109,
   "metadata": {},
   "outputs": [
    {
     "name": "stdout",
     "output_type": "stream",
     "text": [
      "(320, 32, 32, 1)\n",
      "(320, 40)\n",
      "(80, 32, 32, 1)\n",
      "(80, 40)\n"
     ]
    }
   ],
   "source": [
    "print(X_train.shape)\n",
    "print(y_train_e.shape)\n",
    "print(X_val.shape)\n",
    "print(y_val_e.shape)\n",
    "\n",
    "X_train = X_train / 255\n",
    "X_val = X_val /255\n",
    "# y_train = y_train / 255"
   ]
  },
  {
   "cell_type": "code",
   "execution_count": 112,
   "metadata": {},
   "outputs": [
    {
     "name": "stdout",
     "output_type": "stream",
     "text": [
      "Model: \"sequential_10\"\n",
      "_________________________________________________________________\n",
      "Layer (type)                 Output Shape              Param #   \n",
      "=================================================================\n",
      "conv2d_24 (Conv2D)           (None, 32, 32, 16)        160       \n",
      "_________________________________________________________________\n",
      "max_pooling2d_22 (MaxPooling (None, 16, 16, 16)        0         \n",
      "_________________________________________________________________\n",
      "conv2d_25 (Conv2D)           (None, 16, 16, 32)        4640      \n",
      "_________________________________________________________________\n",
      "activation_23 (Activation)   (None, 16, 16, 32)        0         \n",
      "_________________________________________________________________\n",
      "max_pooling2d_23 (MaxPooling (None, 8, 8, 32)          0         \n",
      "_________________________________________________________________\n",
      "conv2d_26 (Conv2D)           (None, 8, 8, 50)          14450     \n",
      "_________________________________________________________________\n",
      "activation_24 (Activation)   (None, 8, 8, 50)          0         \n",
      "_________________________________________________________________\n",
      "max_pooling2d_24 (MaxPooling (None, 4, 4, 50)          0         \n",
      "_________________________________________________________________\n",
      "flatten_10 (Flatten)         (None, 800)               0         \n",
      "_________________________________________________________________\n",
      "dense_20 (Dense)             (None, 256)               205056    \n",
      "_________________________________________________________________\n",
      "dense_21 (Dense)             (None, 100)               25700     \n",
      "_________________________________________________________________\n",
      "dense_22 (Dense)             (None, 40)                4040      \n",
      "=================================================================\n",
      "Total params: 254,046\n",
      "Trainable params: 254,046\n",
      "Non-trainable params: 0\n",
      "_________________________________________________________________\n"
     ]
    }
   ],
   "source": [
    "model = Sequential()\n",
    "\n",
    "model.add(Conv2D(input_shape = (32,32,1), filters = 16, \n",
    "                 kernel_size = (3,3), strides = (1,1), padding = 'same'))\n",
    "model.add(MaxPooling2D(pool_size = (2,2)))\n",
    "\n",
    "model.add(Conv2D(filters = 32, \n",
    "                 kernel_size = (3,3), strides = (1,1), padding = 'same'))\n",
    "model.add(Activation('relu'))\n",
    "model.add(MaxPooling2D(pool_size = (2,2)))\n",
    "\n",
    "model.add(Conv2D(filters = 50, \n",
    "                 kernel_size = (3,3), strides = (1,1), padding = 'same'))\n",
    "model.add(Activation('relu'))\n",
    "model.add(MaxPooling2D(pool_size = (2,2)))\n",
    "\n",
    "model.add(Flatten())\n",
    "model.add(Dense(256, activation = 'relu'))\n",
    "model.add(Dense(100, activation = 'relu'))\n",
    "\n",
    "model.add(Dense(40, activation = 'softmax'))\n",
    "\n",
    "adam = optimizers.Adam(lr = 0.001)\n",
    "model.compile(loss = 'categorical_crossentropy', \n",
    "              optimizer = adam, metrics = ['accuracy'])\n",
    "model.summary()"
   ]
  },
  {
   "cell_type": "code",
   "execution_count": 113,
   "metadata": {},
   "outputs": [
    {
     "name": "stdout",
     "output_type": "stream",
     "text": [
      "Epoch 1/50\n",
      "320/320 [==============================] - 1s 2ms/step - loss: 3.7029 - accuracy: 0.0219\n",
      "Epoch 2/50\n",
      "320/320 [==============================] - 0s 894us/step - loss: 3.6831 - accuracy: 0.0500\n",
      "Epoch 3/50\n",
      "320/320 [==============================] - 0s 1ms/step - loss: 3.6742 - accuracy: 0.0312\n",
      "Epoch 4/50\n",
      "320/320 [==============================] - 0s 981us/step - loss: 3.6623 - accuracy: 0.0312\n",
      "Epoch 5/50\n",
      "320/320 [==============================] - 0s 1ms/step - loss: 3.6420 - accuracy: 0.0719\n",
      "Epoch 6/50\n",
      "320/320 [==============================] - 0s 1ms/step - loss: 3.6164 - accuracy: 0.0875\n",
      "Epoch 7/50\n",
      "320/320 [==============================] - 0s 978us/step - loss: 3.5674 - accuracy: 0.0562\n",
      "Epoch 8/50\n",
      "320/320 [==============================] - 0s 934us/step - loss: 3.4749 - accuracy: 0.1000\n",
      "Epoch 9/50\n",
      "320/320 [==============================] - 0s 903us/step - loss: 3.3007 - accuracy: 0.1562\n",
      "Epoch 10/50\n",
      "320/320 [==============================] - 0s 938us/step - loss: 3.1054 - accuracy: 0.1813\n",
      "Epoch 11/50\n",
      "320/320 [==============================] - 0s 937us/step - loss: 2.9728 - accuracy: 0.1969\n",
      "Epoch 12/50\n",
      "320/320 [==============================] - 0s 941us/step - loss: 2.7539 - accuracy: 0.2719\n",
      "Epoch 13/50\n",
      "320/320 [==============================] - 0s 1ms/step - loss: 2.3666 - accuracy: 0.3844\n",
      "Epoch 14/50\n",
      "320/320 [==============================] - 0s 1ms/step - loss: 2.1109 - accuracy: 0.4594\n",
      "Epoch 15/50\n",
      "320/320 [==============================] - 0s 1ms/step - loss: 1.8242 - accuracy: 0.5063\n",
      "Epoch 16/50\n",
      "320/320 [==============================] - 0s 1ms/step - loss: 1.5393 - accuracy: 0.6062\n",
      "Epoch 17/50\n",
      "320/320 [==============================] - 0s 947us/step - loss: 1.2308 - accuracy: 0.6812\n",
      "Epoch 18/50\n",
      "320/320 [==============================] - 0s 1ms/step - loss: 0.9688 - accuracy: 0.7437: 0s - loss: 0.9261 - accuracy\n",
      "Epoch 19/50\n",
      "320/320 [==============================] - 0s 1ms/step - loss: 0.7818 - accuracy: 0.7750\n",
      "Epoch 20/50\n",
      "320/320 [==============================] - 0s 912us/step - loss: 0.7523 - accuracy: 0.7812\n",
      "Epoch 21/50\n",
      "320/320 [==============================] - 0s 919us/step - loss: 0.6697 - accuracy: 0.8062\n",
      "Epoch 22/50\n",
      "320/320 [==============================] - 0s 925us/step - loss: 0.6085 - accuracy: 0.8250\n",
      "Epoch 23/50\n",
      "320/320 [==============================] - 0s 1ms/step - loss: 0.3961 - accuracy: 0.8906\n",
      "Epoch 24/50\n",
      "320/320 [==============================] - 0s 1ms/step - loss: 0.3305 - accuracy: 0.9219\n",
      "Epoch 25/50\n",
      "320/320 [==============================] - 0s 981us/step - loss: 0.2267 - accuracy: 0.9500\n",
      "Epoch 26/50\n",
      "320/320 [==============================] - 0s 912us/step - loss: 0.2256 - accuracy: 0.9312\n",
      "Epoch 27/50\n",
      "320/320 [==============================] - 0s 931us/step - loss: 0.1707 - accuracy: 0.9500\n",
      "Epoch 28/50\n",
      "320/320 [==============================] - 0s 1ms/step - loss: 0.1264 - accuracy: 0.9719\n",
      "Epoch 29/50\n",
      "320/320 [==============================] - 0s 1ms/step - loss: 0.1127 - accuracy: 0.9812\n",
      "Epoch 30/50\n",
      "320/320 [==============================] - 0s 944us/step - loss: 0.0889 - accuracy: 0.9781\n",
      "Epoch 31/50\n",
      "320/320 [==============================] - 0s 1ms/step - loss: 0.0721 - accuracy: 0.9906\n",
      "Epoch 32/50\n",
      "320/320 [==============================] - 0s 1ms/step - loss: 0.0527 - accuracy: 0.9906\n",
      "Epoch 33/50\n",
      "320/320 [==============================] - 0s 991us/step - loss: 0.0468 - accuracy: 0.9937\n",
      "Epoch 34/50\n",
      "320/320 [==============================] - 0s 941us/step - loss: 0.0545 - accuracy: 0.9937\n",
      "Epoch 35/50\n",
      "320/320 [==============================] - 0s 1ms/step - loss: 0.0730 - accuracy: 0.9844\n",
      "Epoch 36/50\n",
      "320/320 [==============================] - 0s 1ms/step - loss: 0.0742 - accuracy: 0.9844\n",
      "Epoch 37/50\n",
      "320/320 [==============================] - 0s 937us/step - loss: 0.1196 - accuracy: 0.9563\n",
      "Epoch 38/50\n",
      "320/320 [==============================] - 0s 912us/step - loss: 0.0931 - accuracy: 0.9844\n",
      "Epoch 39/50\n",
      "320/320 [==============================] - 0s 909us/step - loss: 0.0545 - accuracy: 1.0000\n",
      "Epoch 40/50\n",
      "320/320 [==============================] - 0s 1ms/step - loss: 0.0370 - accuracy: 0.9969\n",
      "Epoch 41/50\n",
      "320/320 [==============================] - 0s 900us/step - loss: 0.0228 - accuracy: 0.9969\n",
      "Epoch 42/50\n",
      "320/320 [==============================] - 0s 906us/step - loss: 0.0170 - accuracy: 1.0000\n",
      "Epoch 43/50\n",
      "320/320 [==============================] - ETA: 0s - loss: 0.0135 - accuracy: 1.00 - 0s 994us/step - loss: 0.0130 - accuracy: 1.0000\n",
      "Epoch 44/50\n",
      "320/320 [==============================] - 0s 962us/step - loss: 0.0098 - accuracy: 1.0000\n",
      "Epoch 45/50\n",
      "320/320 [==============================] - 0s 1ms/step - loss: 0.0070 - accuracy: 1.0000\n",
      "Epoch 46/50\n",
      "320/320 [==============================] - 0s 1ms/step - loss: 0.0057 - accuracy: 1.0000\n",
      "Epoch 47/50\n",
      "320/320 [==============================] - 0s 887us/step - loss: 0.0051 - accuracy: 1.0000\n",
      "Epoch 48/50\n",
      "320/320 [==============================] - 0s 997us/step - loss: 0.0049 - accuracy: 1.0000\n",
      "Epoch 49/50\n",
      "320/320 [==============================] - 0s 1ms/step - loss: 0.0041 - accuracy: 1.0000\n",
      "Epoch 50/50\n",
      "320/320 [==============================] - 0s 937us/step - loss: 0.0040 - accuracy: 1.0000\n"
     ]
    }
   ],
   "source": [
    "hist = model.fit(x = X_train, y = y_train_e, # 원핫 인코팅된 y\n",
    "                batch_size = 50,\n",
    "                epochs = 50, verbose = 1) \n"
   ]
  },
  {
   "cell_type": "code",
   "execution_count": 114,
   "metadata": {},
   "outputs": [
    {
     "name": "stdout",
     "output_type": "stream",
     "text": [
      "Test accuracy: 0.987500011920929\n"
     ]
    }
   ],
   "source": [
    "score = model.evaluate(X_val, y_val_e, verbose=0)\n",
    "print('Test accuracy:', score[1])"
   ]
  },
  {
   "cell_type": "code",
   "execution_count": 80,
   "metadata": {},
   "outputs": [],
   "source": [
    "p = model.predict(X_val[1,:].reshape(-1, 32, 32, 1))"
   ]
  },
  {
   "cell_type": "code",
   "execution_count": 81,
   "metadata": {},
   "outputs": [
    {
     "data": {
      "text/plain": [
       "<matplotlib.image.AxesImage at 0x1aa5434a888>"
      ]
     },
     "execution_count": 81,
     "metadata": {},
     "output_type": "execute_result"
    },
    {
     "data": {
      "image/png": "[encoded data removed]",
      "text/plain": [
       "<Figure size 432x288 with 1 Axes>"
      ]
     },
     "metadata": {
      "needs_background": "light"
     },
     "output_type": "display_data"
    }
   ],
   "source": [
    "plt.imshow(X_val[0,:].reshape(32,32), cmap='gray')"
   ]
  },
  {
   "cell_type": "code",
   "execution_count": null,
   "metadata": {},
   "outputs": [],
   "source": []
  }
 ],
 "metadata": {
  "kernelspec": {
   "display_name": "Python 3",
   "language": "python",
   "name": "python3"
  },
  "language_info": {
   "codemirror_mode": {
    "name": "ipython",
    "version": 3
   },
   "file_extension": ".py",
   "mimetype": "text/x-python",
   "name": "python",
   "nbconvert_exporter": "python",
   "pygments_lexer": "ipython3",
   "version": "3.7.6"
  }
 },
 "nbformat": 4,
 "nbformat_minor": 4
}
