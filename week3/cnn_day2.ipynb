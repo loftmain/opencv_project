{
 "cells": [
  {
   "cell_type": "code",
   "execution_count": 3,
   "metadata": {},
   "outputs": [],
   "source": [
    "from sklearn import datasets\n",
    "import numpy.linalg as lin\n",
    "from sklearn.model_selection import train_test_split\n",
    "import numpy as np\n",
    "import matplotlib.pyplot as plt\n",
    "from keras.datasets import mnist, fashion_mnist\n",
    "from keras import models\n",
    "from keras.utils import to_categorical\n",
    "from keras.models import Sequential\n",
    "from keras import optimizers\n",
    "from keras.layers import Dense, Activation, Flatten, Conv2D, MaxPooling2D, BatchNormalization, Dropout"
   ]
  },
  {
   "cell_type": "code",
   "execution_count": 33,
   "metadata": {},
   "outputs": [
    {
     "name": "stdout",
     "output_type": "stream",
     "text": [
      "unit:  20\n",
      "hello\n",
      "20 [3, 3, 4]\n",
      "[3, 3, 4]\n",
      "4\n",
      "unit:  20\n",
      "hello\n",
      "unit:  20\n",
      "hello\n"
     ]
    }
   ],
   "source": [
    "# 생성자를 호출하는 밥법\n",
    "class MyLayer : \n",
    "    def __init__(self, unit):\n",
    "        self.unit = unit\n",
    "        print('unit: ', unit)\n",
    "        print(\"hello\")\n",
    "        \n",
    "    def __call__(self, v): # 객체이름을 가지고 부를수 있는 함수\n",
    "        print(self.unit, v)\n",
    "        print(v)\n",
    "        return self # 객체이름을 함수로 사용가능\n",
    "    # 여러번 호출가능\n",
    "        \n",
    "    def test(self, v):\n",
    "        print(v)\n",
    "    \n",
    "#A = MyLayer()\n",
    "#A.test(10)\n",
    "#A(20)\n",
    "\n",
    "#A = MyLayer()(20)\n",
    "# A = MyLayer()\n",
    "# A(20)\n",
    "\n",
    "A = MyLayer(20)\n",
    "# A = MyLayer(20)([1,2,3,4,5])\n",
    "A([3,3,4])\n",
    "A.test(4)\n",
    "\n",
    "B = MyLayer(20)\n",
    "C = MyLayer(20)\n"
   ]
  },
  {
   "cell_type": "markdown",
   "metadata": {},
   "source": [
    "__callable__이란  \n",
    "이미 생성된 객체에 대해서 함수처럼 호출할 수 있도록 함"
   ]
  },
  {
   "cell_type": "markdown",
   "metadata": {},
   "source": [
    "# 얼굴인식 \n",
    "---"
   ]
  },
  {
   "cell_type": "code",
   "execution_count": 36,
   "metadata": {},
   "outputs": [
    {
     "name": "stdout",
     "output_type": "stream",
     "text": [
      "(400, 4096)\n",
      "(400,)\n"
     ]
    }
   ],
   "source": [
    "from sklearn.datasets import fetch_olivetti_faces\n",
    "import cv2\n",
    "\n",
    "orl = fetch_olivetti_faces()\n",
    "data = orl.data # 0~1로 정규화 되어있음.\n",
    "target = orl.target\n",
    "print(data.shape)\n",
    "print(target.shape)\n"
   ]
  },
  {
   "cell_type": "code",
   "execution_count": 56,
   "metadata": {},
   "outputs": [
    {
     "data": {
      "text/plain": [
       "array([ 0,  0,  0,  0,  0,  0,  0,  0,  0,  0,  1,  1,  1,  1,  1,  1,  1,\n",
       "        1,  1,  1,  2,  2,  2,  2,  2,  2,  2,  2,  2,  2,  3,  3,  3,  3,\n",
       "        3,  3,  3,  3,  3,  3,  4,  4,  4,  4,  4,  4,  4,  4,  4,  4,  5,\n",
       "        5,  5,  5,  5,  5,  5,  5,  5,  5,  6,  6,  6,  6,  6,  6,  6,  6,\n",
       "        6,  6,  7,  7,  7,  7,  7,  7,  7,  7,  7,  7,  8,  8,  8,  8,  8,\n",
       "        8,  8,  8,  8,  8,  9,  9,  9,  9,  9,  9,  9,  9,  9,  9, 10, 10,\n",
       "       10, 10, 10, 10, 10, 10, 10, 10, 11, 11, 11, 11, 11, 11, 11, 11, 11,\n",
       "       11, 12, 12, 12, 12, 12, 12, 12, 12, 12, 12, 13, 13, 13, 13, 13, 13,\n",
       "       13, 13, 13, 13, 14, 14, 14, 14, 14, 14, 14, 14, 14, 14, 15, 15, 15,\n",
       "       15, 15, 15, 15, 15, 15, 15, 16, 16, 16, 16, 16, 16, 16, 16, 16, 16,\n",
       "       17, 17, 17, 17, 17, 17, 17, 17, 17, 17, 18, 18, 18, 18, 18, 18, 18,\n",
       "       18, 18, 18, 19, 19, 19, 19, 19, 19, 19, 19, 19, 19, 20, 20, 20, 20,\n",
       "       20, 20, 20, 20, 20, 20, 21, 21, 21, 21, 21, 21, 21, 21, 21, 21, 22,\n",
       "       22, 22, 22, 22, 22, 22, 22, 22, 22, 23, 23, 23, 23, 23, 23, 23, 23,\n",
       "       23, 23, 24, 24, 24, 24, 24, 24, 24, 24, 24, 24, 25, 25, 25, 25, 25,\n",
       "       25, 25, 25, 25, 25, 26, 26, 26, 26, 26, 26, 26, 26, 26, 26, 27, 27,\n",
       "       27, 27, 27, 27, 27, 27, 27, 27, 28, 28, 28, 28, 28, 28, 28, 28, 28,\n",
       "       28, 29, 29, 29, 29, 29, 29, 29, 29, 29, 29, 30, 30, 30, 30, 30, 30,\n",
       "       30, 30, 30, 30, 31, 31, 31, 31, 31, 31, 31, 31, 31, 31, 32, 32, 32,\n",
       "       32, 32, 32, 32, 32, 32, 32, 33, 33, 33, 33, 33, 33, 33, 33, 33, 33,\n",
       "       34, 34, 34, 34, 34, 34, 34, 34, 34, 34, 35, 35, 35, 35, 35, 35, 35,\n",
       "       35, 35, 35, 36, 36, 36, 36, 36, 36, 36, 36, 36, 36, 37, 37, 37, 37,\n",
       "       37, 37, 37, 37, 37, 37, 38, 38, 38, 38, 38, 38, 38, 38, 38, 38, 39,\n",
       "       39, 39, 39, 39, 39, 39, 39, 39, 39])"
      ]
     },
     "execution_count": 56,
     "metadata": {},
     "output_type": "execute_result"
    }
   ],
   "source": [
    "target"
   ]
  },
  {
   "cell_type": "code",
   "execution_count": 37,
   "metadata": {},
   "outputs": [
    {
     "data": {
      "text/plain": [
       "<matplotlib.image.AxesImage at 0x1aa4de94b88>"
      ]
     },
     "execution_count": 37,
     "metadata": {},
     "output_type": "execute_result"
    },
    {
     "data": {
      "image/png": "[encoded data removed]",
      "text/plain": [
       "<Figure size 432x288 with 1 Axes>"
      ]
     },
     "metadata": {
      "needs_background": "light"
     },
     "output_type": "display_data"
    }
   ],
   "source": [
    "plt.imshow(data[0, :].reshape(64, 64), cmap=\"gray\")"
   ]
  },
  {
   "cell_type": "code",
   "execution_count": 38,
   "metadata": {},
   "outputs": [],
   "source": [
    "data = np.zeros((400, 32*32), dtype=\"uint8\")\n",
    "\n",
    "for i, d in enumerate(orl.data): # i: index d: value\n",
    "    image = cv2.resize(d.reshape(64, 64), (32,32))\n",
    "    data[i,:] = image.flatten()*255"
   ]
  },
  {
   "cell_type": "code",
   "execution_count": 40,
   "metadata": {},
   "outputs": [
    {
     "name": "stdout",
     "output_type": "stream",
     "text": [
      "(400, 1024)\n"
     ]
    },
    {
     "data": {
      "image/png": "[encoded data removed]",
      "text/plain": [
       "<Figure size 432x288 with 1 Axes>"
      ]
     },
     "metadata": {
      "needs_background": "light"
     },
     "output_type": "display_data"
    }
   ],
   "source": [
    "plt.imshow(data[0, :].reshape(32, 32), cmap=\"gray\")\n",
    "print(data.shape)"
   ]
  },
  {
   "cell_type": "code",
   "execution_count": 107,
   "metadata": {},
   "outputs": [
    {
     "name": "stdout",
     "output_type": "stream",
     "text": [
      "(320, 1024)\n",
      "(80, 1024)\n"
     ]
    }
   ],
   "source": [
    "from sklearn.model_selection import train_test_split\n",
    "\n",
    "X_train, X_val, y_train, y_val = \\\n",
    "    train_test_split(data, target, test_size=0.2)\n",
    "    \n",
    "print(X_train.shape)\n",
    "print(X_val.shape)\n"
   ]
  },
  {
   "cell_type": "code",
   "execution_count": 108,
   "metadata": {},
   "outputs": [],
   "source": [
    "# cnn을 돌리기위해 4차원 & 원핫 인코딩\n",
    "X_train = X_train.reshape(-1, 32, 32, 1)\n",
    "X_val = X_val.reshape(-1, 32, 32, 1)\n",
    "\n",
    "import keras.utils as utils\n",
    "y_train_e = utils.to_categorical(y_train, 40)\n",
    "y_val_e = utils.to_categorical(y_val, 40)"
   ]
  },
  {
   "cell_type": "code",
   "execution_count": 109,
   "metadata": {},
   "outputs": [
    {
     "name": "stdout",
     "output_type": "stream",
     "text": [
      "(320, 32, 32, 1)\n",
      "(320, 40)\n",
      "(80, 32, 32, 1)\n",
      "(80, 40)\n"
     ]
    }
   ],
   "source": [
    "print(X_train.shape)\n",
    "print(y_train_e.shape)\n",
    "print(X_val.shape)\n",
    "print(y_val_e.shape)\n",
    "\n",
    "X_train = X_train / 255\n",
    "X_val = X_val /255\n",
    "# y_train = y_train / 255"
   ]
  },
  {
   "cell_type": "code",
   "execution_count": 112,
   "metadata": {},
   "outputs": [
    {
     "name": "stdout",
     "output_type": "stream",
     "text": [
      "Model: \"sequential_10\"\n",
      "_________________________________________________________________\n",
      "Layer (type)                 Output Shape              Param #   \n",
      "=================================================================\n",
      "conv2d_24 (Conv2D)           (None, 32, 32, 16)        160       \n",
      "_________________________________________________________________\n",
      "max_pooling2d_22 (MaxPooling (None, 16, 16, 16)        0         \n",
      "_________________________________________________________________\n",
      "conv2d_25 (Conv2D)           (None, 16, 16, 32)        4640      \n",
      "_________________________________________________________________\n",
      "activation_23 (Activation)   (None, 16, 16, 32)        0         \n",
      "_________________________________________________________________\n",
      "max_pooling2d_23 (MaxPooling (None, 8, 8, 32)          0         \n",
      "_________________________________________________________________\n",
      "conv2d_26 (Conv2D)           (None, 8, 8, 50)          14450     \n",
      "_________________________________________________________________\n",
      "activation_24 (Activation)   (None, 8, 8, 50)          0         \n",
      "_________________________________________________________________\n",
      "max_pooling2d_24 (MaxPooling (None, 4, 4, 50)          0         \n",
      "_________________________________________________________________\n",
      "flatten_10 (Flatten)         (None, 800)               0         \n",
      "_________________________________________________________________\n",
      "dense_20 (Dense)             (None, 256)               205056    \n",
      "_________________________________________________________________\n",
      "dense_21 (Dense)             (None, 100)               25700     \n",
      "_________________________________________________________________\n",
      "dense_22 (Dense)             (None, 40)                4040      \n",
      "=================================================================\n",
      "Total params: 254,046\n",
      "Trainable params: 254,046\n",
      "Non-trainable params: 0\n",
      "_________________________________________________________________\n"
     ]
    }
   ],
   "source": [
    "model = Sequential()\n",
    "\n",
    "model.add(Conv2D(input_shape = (32,32,1), filters = 16, \n",
    "                 kernel_size = (3,3), strides = (1,1), padding = 'same'))\n",
    "model.add(MaxPooling2D(pool_size = (2,2)))\n",
    "\n",
    "model.add(Conv2D(filters = 32, \n",
    "                 kernel_size = (3,3), strides = (1,1), padding = 'same'))\n",
    "model.add(Activation('relu'))\n",
    "model.add(MaxPooling2D(pool_size = (2,2)))\n",
    "\n",
    "model.add(Conv2D(filters = 50, \n",
    "                 kernel_size = (3,3), strides = (1,1), padding = 'same'))\n",
    "model.add(Activation('relu'))\n",
    "model.add(MaxPooling2D(pool_size = (2,2)))\n",
    "\n",
    "model.add(Flatten())\n",
    "model.add(Dense(256, activation = 'relu'))\n",
    "model.add(Dense(100, activation = 'relu'))\n",
    "\n",
    "model.add(Dense(40, activation = 'softmax'))\n",
    "\n",
    "adam = optimizers.Adam(lr = 0.001)\n",
    "model.compile(loss = 'categorical_crossentropy', \n",
    "              optimizer = adam, metrics = ['accuracy'])\n",
    "model.summary()"
   ]
  },
  {
   "cell_type": "code",
   "execution_count": 113,
   "metadata": {},
   "outputs": [
    {
     "name": "stdout",
     "output_type": "stream",
     "text": [
      "Epoch 1/50\n",
      "320/320 [==============================] - 1s 2ms/step - loss: 3.7029 - accuracy: 0.0219\n",
      "Epoch 2/50\n",
      "320/320 [==============================] - 0s 894us/step - loss: 3.6831 - accuracy: 0.0500\n",
      "Epoch 3/50\n",
      "320/320 [==============================] - 0s 1ms/step - loss: 3.6742 - accuracy: 0.0312\n",
      "Epoch 4/50\n",
      "320/320 [==============================] - 0s 981us/step - loss: 3.6623 - accuracy: 0.0312\n",
      "Epoch 5/50\n",
      "320/320 [==============================] - 0s 1ms/step - loss: 3.6420 - accuracy: 0.0719\n",
      "Epoch 6/50\n",
      "320/320 [==============================] - 0s 1ms/step - loss: 3.6164 - accuracy: 0.0875\n",
      "Epoch 7/50\n",
      "320/320 [==============================] - 0s 978us/step - loss: 3.5674 - accuracy: 0.0562\n",
      "Epoch 8/50\n",
      "320/320 [==============================] - 0s 934us/step - loss: 3.4749 - accuracy: 0.1000\n",
      "Epoch 9/50\n",
      "320/320 [==============================] - 0s 903us/step - loss: 3.3007 - accuracy: 0.1562\n",
      "Epoch 10/50\n",
      "320/320 [==============================] - 0s 938us/step - loss: 3.1054 - accuracy: 0.1813\n",
      "Epoch 11/50\n",
      "320/320 [==============================] - 0s 937us/step - loss: 2.9728 - accuracy: 0.1969\n",
      "Epoch 12/50\n",
      "320/320 [==============================] - 0s 941us/step - loss: 2.7539 - accuracy: 0.2719\n",
      "Epoch 13/50\n",
      "320/320 [==============================] - 0s 1ms/step - loss: 2.3666 - accuracy: 0.3844\n",
      "Epoch 14/50\n",
      "320/320 [==============================] - 0s 1ms/step - loss: 2.1109 - accuracy: 0.4594\n",
      "Epoch 15/50\n",
      "320/320 [==============================] - 0s 1ms/step - loss: 1.8242 - accuracy: 0.5063\n",
      "Epoch 16/50\n",
      "320/320 [==============================] - 0s 1ms/step - loss: 1.5393 - accuracy: 0.6062\n",
      "Epoch 17/50\n",
      "320/320 [==============================] - 0s 947us/step - loss: 1.2308 - accuracy: 0.6812\n",
      "Epoch 18/50\n",
      "320/320 [==============================] - 0s 1ms/step - loss: 0.9688 - accuracy: 0.7437: 0s - loss: 0.9261 - accuracy\n",
      "Epoch 19/50\n",
      "320/320 [==============================] - 0s 1ms/step - loss: 0.7818 - accuracy: 0.7750\n",
      "Epoch 20/50\n",
      "320/320 [==============================] - 0s 912us/step - loss: 0.7523 - accuracy: 0.7812\n",
      "Epoch 21/50\n",
      "320/320 [==============================] - 0s 919us/step - loss: 0.6697 - accuracy: 0.8062\n",
      "Epoch 22/50\n",
      "320/320 [==============================] - 0s 925us/step - loss: 0.6085 - accuracy: 0.8250\n",
      "Epoch 23/50\n",
      "320/320 [==============================] - 0s 1ms/step - loss: 0.3961 - accuracy: 0.8906\n",
      "Epoch 24/50\n",
      "320/320 [==============================] - 0s 1ms/step - loss: 0.3305 - accuracy: 0.9219\n",
      "Epoch 25/50\n",
      "320/320 [==============================] - 0s 981us/step - loss: 0.2267 - accuracy: 0.9500\n",
      "Epoch 26/50\n",
      "320/320 [==============================] - 0s 912us/step - loss: 0.2256 - accuracy: 0.9312\n",
      "Epoch 27/50\n",
      "320/320 [==============================] - 0s 931us/step - loss: 0.1707 - accuracy: 0.9500\n",
      "Epoch 28/50\n",
      "320/320 [==============================] - 0s 1ms/step - loss: 0.1264 - accuracy: 0.9719\n",
      "Epoch 29/50\n",
      "320/320 [==============================] - 0s 1ms/step - loss: 0.1127 - accuracy: 0.9812\n",
      "Epoch 30/50\n",
      "320/320 [==============================] - 0s 944us/step - loss: 0.0889 - accuracy: 0.9781\n",
      "Epoch 31/50\n",
      "320/320 [==============================] - 0s 1ms/step - loss: 0.0721 - accuracy: 0.9906\n",
      "Epoch 32/50\n",
      "320/320 [==============================] - 0s 1ms/step - loss: 0.0527 - accuracy: 0.9906\n",
      "Epoch 33/50\n",
      "320/320 [==============================] - 0s 991us/step - loss: 0.0468 - accuracy: 0.9937\n",
      "Epoch 34/50\n",
      "320/320 [==============================] - 0s 941us/step - loss: 0.0545 - accuracy: 0.9937\n",
      "Epoch 35/50\n",
      "320/320 [==============================] - 0s 1ms/step - loss: 0.0730 - accuracy: 0.9844\n",
      "Epoch 36/50\n",
      "320/320 [==============================] - 0s 1ms/step - loss: 0.0742 - accuracy: 0.9844\n",
      "Epoch 37/50\n",
      "320/320 [==============================] - 0s 937us/step - loss: 0.1196 - accuracy: 0.9563\n",
      "Epoch 38/50\n",
      "320/320 [==============================] - 0s 912us/step - loss: 0.0931 - accuracy: 0.9844\n",
      "Epoch 39/50\n",
      "320/320 [==============================] - 0s 909us/step - loss: 0.0545 - accuracy: 1.0000\n",
      "Epoch 40/50\n",
      "320/320 [==============================] - 0s 1ms/step - loss: 0.0370 - accuracy: 0.9969\n",
      "Epoch 41/50\n",
      "320/320 [==============================] - 0s 900us/step - loss: 0.0228 - accuracy: 0.9969\n",
      "Epoch 42/50\n",
      "320/320 [==============================] - 0s 906us/step - loss: 0.0170 - accuracy: 1.0000\n",
      "Epoch 43/50\n",
      "320/320 [==============================] - ETA: 0s - loss: 0.0135 - accuracy: 1.00 - 0s 994us/step - loss: 0.0130 - accuracy: 1.0000\n",
      "Epoch 44/50\n",
      "320/320 [==============================] - 0s 962us/step - loss: 0.0098 - accuracy: 1.0000\n",
      "Epoch 45/50\n",
      "320/320 [==============================] - 0s 1ms/step - loss: 0.0070 - accuracy: 1.0000\n",
      "Epoch 46/50\n",
      "320/320 [==============================] - 0s 1ms/step - loss: 0.0057 - accuracy: 1.0000\n",
      "Epoch 47/50\n",
      "320/320 [==============================] - 0s 887us/step - loss: 0.0051 - accuracy: 1.0000\n",
      "Epoch 48/50\n",
      "320/320 [==============================] - 0s 997us/step - loss: 0.0049 - accuracy: 1.0000\n",
      "Epoch 49/50\n",
      "320/320 [==============================] - 0s 1ms/step - loss: 0.0041 - accuracy: 1.0000\n",
      "Epoch 50/50\n",
      "320/320 [==============================] - 0s 937us/step - loss: 0.0040 - accuracy: 1.0000\n"
     ]
    }
   ],
   "source": [
    "hist = model.fit(x = X_train, y = y_train_e, # 원핫 인코팅된 y\n",
    "                batch_size = 50,\n",
    "                epochs = 50, verbose = 1) \n"
   ]
  },
  {
   "cell_type": "code",
   "execution_count": 114,
   "metadata": {},
   "outputs": [
    {
     "name": "stdout",
     "output_type": "stream",
     "text": [
      "Test accuracy: 0.987500011920929\n"
     ]
    }
   ],
   "source": [
    "score = model.evaluate(X_val, y_val_e, verbose=0)\n",
    "print('Test accuracy:', score[1])"
   ]
  },
  {
   "cell_type": "code",
   "execution_count": 80,
   "metadata": {},
   "outputs": [],
   "source": [
    "p = model.predict(X_val[1,:].reshape(-1, 32, 32, 1))"
   ]
  },
  {
   "cell_type": "code",
   "execution_count": 81,
   "metadata": {},
   "outputs": [
    {
     "data": {
      "text/plain": [
       "<matplotlib.image.AxesImage at 0x1aa5434a888>"
      ]
     },
     "execution_count": 81,
     "metadata": {},
     "output_type": "execute_result"
    },
    {
     "data": {
      "image/png": "[encoded data removed]",
      "text/plain": [
       "<Figure size 432x288 with 1 Axes>"
      ]
     },
     "metadata": {
      "needs_background": "light"
     },
     "output_type": "display_data"
    }
   ],
   "source": [
    "plt.imshow(X_val[0,:].reshape(32,32), cmap='gray')"
   ]
  },
  {
   "cell_type": "markdown",
   "metadata": {},
   "source": [
    "## 레이어 정보가져오기"
   ]
  },
  {
   "cell_type": "code",
   "execution_count": 115,
   "metadata": {},
   "outputs": [
    {
     "name": "stdout",
     "output_type": "stream",
     "text": [
      "<class 'list'>\n",
      "conv2d_24\n",
      "max_pooling2d_22\n",
      "conv2d_25\n",
      "activation_23\n",
      "max_pooling2d_23\n",
      "conv2d_26\n",
      "activation_24\n",
      "max_pooling2d_24\n",
      "flatten_10\n",
      "dense_20\n",
      "dense_21\n",
      "dense_22\n"
     ]
    }
   ],
   "source": [
    "print(type(model.layers))\n",
    "\n",
    "for layer in model.layers:\n",
    "    print(layer.name)"
   ]
  },
  {
   "cell_type": "markdown",
   "metadata": {},
   "source": [
    "fit은 기존 구조를 가진채 wight를 변경하는 것.  \n",
    "\n",
    "model을 초기화하면 layer의 이름이 변경되는데 이것은 네트워크 구조가 바뀌었다는 것이다.  \n",
    "\n"
   ]
  },
  {
   "cell_type": "code",
   "execution_count": 120,
   "metadata": {},
   "outputs": [
    {
     "name": "stdout",
     "output_type": "stream",
     "text": [
      "2\n",
      "(3, 3, 1, 16)\n",
      "(16,)\n"
     ]
    }
   ],
   "source": [
    "W = model.layers[0].get_weights() # 가중치를 가져옴 (필터에서는 필터레이어)\n",
    "print(len(W)) # 2개의 리스트가 존재한다.\n",
    "print(W[0].shape) # 필터 \n",
    "print(W[1].shape) # 바이어스"
   ]
  },
  {
   "cell_type": "code",
   "execution_count": 122,
   "metadata": {},
   "outputs": [
    {
     "name": "stdout",
     "output_type": "stream",
     "text": [
      "[[ 0.01164547  0.07240806  0.29042676]\n",
      " [ 0.16785982 -0.01767077  0.26938114]\n",
      " [ 0.08800589  0.26112187  0.24568504]]\n",
      "[[ 0.0689042   0.22786412  0.10589252]\n",
      " [ 0.07116144  0.2695119   0.11613863]\n",
      " [-0.03956493  0.24412793  0.29277447]]\n"
     ]
    }
   ],
   "source": [
    "# 첫번째 레이어의 필터 (conv2d_24)\n",
    "filters = W[0]\n",
    "f1 = filters[:,:,0,0] \n",
    "print(f1) # 첫번째 필터\n",
    "\n",
    "f2 = filters[:,:,0,1] \n",
    "print(f2) # 두번째 필터"
   ]
  },
  {
   "cell_type": "code",
   "execution_count": 124,
   "metadata": {},
   "outputs": [
    {
     "name": "stdout",
     "output_type": "stream",
     "text": [
      "[]\n"
     ]
    }
   ],
   "source": [
    "print(model.layers[1].get_weights()) # 가중치를 가져옴 (필터에서는 필터레이어)\n",
    "# pooling layer는 가중치가 존재하지 않는다."
   ]
  },
  {
   "cell_type": "code",
   "execution_count": 126,
   "metadata": {},
   "outputs": [
    {
     "name": "stdout",
     "output_type": "stream",
     "text": [
      "(3, 3, 16, 32)\n",
      "[[-0.10617333 -0.04469669  0.15040165]\n",
      " [ 0.02060238 -0.00361833  0.14315619]\n",
      " [ 0.03138472  0.01841496  0.10223064]]\n"
     ]
    }
   ],
   "source": [
    "# conv2d_25\n",
    "W2 = model.layers[2].get_weights()\n",
    "filters = W2[0]\n",
    "print(filters.shape) # 3번째: 인풋채널 4: 출력채널\n",
    "f1 = filters[:,:,0,0]\n",
    "print(f1)"
   ]
  },
  {
   "cell_type": "markdown",
   "metadata": {},
   "source": [
    "weight가 있는 층은 param가 있어야한다.  \n",
    "param의 개수는 weight의 개수라 볼 수 있다.  \n",
    "\n"
   ]
  },
  {
   "cell_type": "code",
   "execution_count": 127,
   "metadata": {},
   "outputs": [
    {
     "data": {
      "text/plain": [
       "<matplotlib.image.AxesImage at 0x1aa5fd71e48>"
      ]
     },
     "execution_count": 127,
     "metadata": {},
     "output_type": "execute_result"
    },
    {
     "data": {
      "image/png": "[encoded data removed]",
      "text/plain": [
       "<Figure size 432x288 with 1 Axes>"
      ]
     },
     "metadata": {
      "needs_background": "light"
     },
     "output_type": "display_data"
    }
   ],
   "source": [
    "plt.imshow(f1, cmap='gray')"
   ]
  },
  {
   "cell_type": "markdown",
   "metadata": {},
   "source": [
    "필터를 적용한 중간 데이터를 구하려면??  \n",
    "\n",
    "-> 함수형 API를 사용"
   ]
  },
  {
   "cell_type": "code",
   "execution_count": 130,
   "metadata": {},
   "outputs": [
    {
     "name": "stderr",
     "output_type": "stream",
     "text": [
      "C:\\ProgramData\\Anaconda3\\lib\\site-packages\\ipykernel_launcher.py:3: UserWarning: Update your `Model` call to the Keras 2 API: `Model(inputs=[<tf.Tenso..., outputs=Tensor(\"co...)`\n",
      "  This is separate from the ipykernel package so we can avoid doing imports until\n"
     ]
    }
   ],
   "source": [
    "from keras.models import Model\n",
    "\n",
    "model2 = Model(inputs=model.inputs, output=model.layers[0].output)"
   ]
  },
  {
   "cell_type": "code",
   "execution_count": 171,
   "metadata": {},
   "outputs": [
    {
     "name": "stdout",
     "output_type": "stream",
     "text": [
      "(1, 32, 32, 1)\n"
     ]
    }
   ],
   "source": [
    "\n",
    "I = X_train[0, :, :, :] # X\n",
    " \n",
    "\n",
    "# 첫번쨰 이미지\n",
    "# 4차원을 유지해주기 위해서\n",
    "I = X_train[2:3, :, :, :] # 행 컬럼 유지\n",
    "print(I.shape)"
   ]
  },
  {
   "cell_type": "code",
   "execution_count": 134,
   "metadata": {},
   "outputs": [
    {
     "name": "stdout",
     "output_type": "stream",
     "text": [
      "[[1 2 3]\n",
      " [4 5 6]]\n",
      "1\n",
      "[[1]]\n"
     ]
    }
   ],
   "source": [
    "# 예시\n",
    "A = np.array([[1,2,3], [4,5,6]])\n",
    "\n",
    "print(A)\n",
    "print(A[0,0])\n",
    "print(A[0:1, 0:1]) # 행 컬럼 유지"
   ]
  },
  {
   "cell_type": "code",
   "execution_count": 183,
   "metadata": {},
   "outputs": [
    {
     "name": "stdout",
     "output_type": "stream",
     "text": [
      "(1, 32, 32, 16)\n"
     ]
    }
   ],
   "source": [
    "feature_maps = model2.predict(I)  # 특정 네트워크의 마지막 값을 알기 위해서 사용하는데 보통 예층값인데 여기서는 output을 했기 때문에 output을 의미한다.\n",
    "print(feature_maps.shape)"
   ]
  },
  {
   "cell_type": "code",
   "execution_count": 170,
   "metadata": {},
   "outputs": [
    {
     "data": {
      "text/plain": [
       "<matplotlib.image.AxesImage at 0x1aa6190fc88>"
      ]
     },
     "execution_count": 170,
     "metadata": {},
     "output_type": "execute_result"
    },
    {
     "data": {
      "image/png": "[encoded data removed]",
      "text/plain": [
       "<Figure size 432x288 with 2 Axes>"
      ]
     },
     "metadata": {
      "needs_background": "light"
     },
     "output_type": "display_data"
    }
   ],
   "source": [
    "img = feature_maps[0, :, :, 0]\n",
    "plt.subplot(121)\n",
    "\n",
    "plt.imshow(I[0, :, :, 0], cmap=\"gray\")\n",
    "plt.subplot(122)\n",
    "plt.imshow(img, cmap=\"gray\")"
   ]
  },
  {
   "cell_type": "code",
   "execution_count": 162,
   "metadata": {},
   "outputs": [
    {
     "name": "stdout",
     "output_type": "stream",
     "text": [
      "[[-0.4300461  -0.5786463  -0.57759607 ... -0.63400984 -0.5290855\n",
      "  -0.2500085 ]\n",
      " [-0.6423079  -0.8217037  -0.8219701  ... -0.9012755  -0.7617575\n",
      "  -0.39758945]\n",
      " [-0.65159786 -0.83283496 -0.8345157  ... -0.92980564 -0.7901319\n",
      "  -0.41443637]\n",
      " ...\n",
      " [-0.15990722 -0.2232241  -0.22158152 ... -0.87677646 -0.92290664\n",
      "  -0.5791923 ]\n",
      " [-0.16010389 -0.22102103 -0.21815255 ... -0.92438555 -0.97758067\n",
      "  -0.61088705]\n",
      " [-0.07208964 -0.10129525 -0.0974153  ... -0.54769444 -0.5813041\n",
      "  -0.3476119 ]]\n"
     ]
    }
   ],
   "source": [
    "img = feature_maps[0, :, :, 2]\n"
   ]
  },
  {
   "cell_type": "code",
   "execution_count": 184,
   "metadata": {},
   "outputs": [
    {
     "data": {
      "image/png": "[encoded data removed]",
      "text/plain": [
       "<Figure size 432x288 with 16 Axes>"
      ]
     },
     "metadata": {},
     "output_type": "display_data"
    }
   ],
   "source": [
    "for ix in range(16):\n",
    "    ax = plt.subplot(4,4,ix+1) # 4 X 4 공간에 1부터 시작해서 그림그리기\n",
    "    fm = feature_maps[0, :, :, ix]\n",
    "    plt.imshow(fm, cmap='gray')\n",
    "    ax.set_xticks([])\n",
    "    ax.set_yticks([])"
   ]
  },
  {
   "cell_type": "markdown",
   "metadata": {},
   "source": [
    "필터를 적용했을 때 완전 어둡거나 밝을 경우 무언가 잘못된 학습이 될 가능성이 높다.  \n",
    "\n",
    "현재 visualization에넌 크게 문제가 없는 것 같다.  \n",
    "\n"
   ]
  },
  {
   "cell_type": "code",
   "execution_count": 185,
   "metadata": {},
   "outputs": [
    {
     "name": "stderr",
     "output_type": "stream",
     "text": [
      "C:\\ProgramData\\Anaconda3\\lib\\site-packages\\ipykernel_launcher.py:1: UserWarning: Update your `Model` call to the Keras 2 API: `Model(inputs=[<tf.Tenso..., outputs=Tensor(\"co...)`\n",
      "  \"\"\"Entry point for launching an IPython kernel.\n"
     ]
    },
    {
     "name": "stdout",
     "output_type": "stream",
     "text": [
      "(1, 16, 16, 32)\n"
     ]
    }
   ],
   "source": [
    "model3 = Model(inputs=model.inputs, output=model.layers[2].output)\n",
    "I = X_train[189:190, :, :, :] # 행 컬럼 유지\n",
    "feature_maps = model3.predict(I)  \n",
    "print(feature_maps.shape)"
   ]
  },
  {
   "cell_type": "code",
   "execution_count": 186,
   "metadata": {},
   "outputs": [
    {
     "data": {
      "image/png": "[encoded data removed]",
      "text/plain": [
       "<Figure size 432x288 with 32 Axes>"
      ]
     },
     "metadata": {},
     "output_type": "display_data"
    }
   ],
   "source": [
    "for ix in range(32):\n",
    "    ax = plt.subplot(4,8,ix+1) # 4 X 4 공간에 1부터 시작해서 그림그리기\n",
    "    fm = feature_maps[0, :, :, ix]\n",
    "    plt.imshow(fm, cmap='gray')\n",
    "    ax.set_xticks([])\n",
    "    ax.set_yticks([])"
   ]
  },
  {
   "cell_type": "code",
   "execution_count": 187,
   "metadata": {},
   "outputs": [
    {
     "name": "stderr",
     "output_type": "stream",
     "text": [
      "C:\\ProgramData\\Anaconda3\\lib\\site-packages\\ipykernel_launcher.py:1: UserWarning: Update your `Model` call to the Keras 2 API: `Model(inputs=[<tf.Tenso..., outputs=Tensor(\"co...)`\n",
      "  \"\"\"Entry point for launching an IPython kernel.\n"
     ]
    },
    {
     "name": "stdout",
     "output_type": "stream",
     "text": [
      "(1, 8, 8, 50)\n"
     ]
    }
   ],
   "source": [
    "model3 = Model(inputs=model.inputs, output=model.layers[5].output)\n",
    "I = X_train[189:190, :, :, :] # 행 컬럼 유지\n",
    "feature_maps = model3.predict(I)  \n",
    "print(feature_maps.shape)"
   ]
  },
  {
   "cell_type": "code",
   "execution_count": 188,
   "metadata": {},
   "outputs": [
    {
     "data": {
      "image/png": "[encoded data removed]",
      "text/plain": [
       "<Figure size 432x288 with 50 Axes>"
      ]
     },
     "metadata": {},
     "output_type": "display_data"
    }
   ],
   "source": [
    "for ix in range(50):\n",
    "    ax = plt.subplot(5,10,ix+1) # 4 X 4 공간에 1부터 시작해서 그림그리기\n",
    "    fm = feature_maps[0, :, :, ix]\n",
    "    plt.imshow(fm, cmap='gray')\n",
    "    ax.set_xticks([])\n",
    "    ax.set_yticks([])"
   ]
  },
  {
   "cell_type": "markdown",
   "metadata": {},
   "source": [
    "이미 64 x 64 영상을 32로 줄였기 때문에 많은 정보가 손실되었을 것이다. "
   ]
  },
  {
   "cell_type": "markdown",
   "metadata": {},
   "source": [
    "# 더 세부적인 normalization"
   ]
  },
  {
   "cell_type": "code",
   "execution_count": 194,
   "metadata": {},
   "outputs": [
    {
     "name": "stdout",
     "output_type": "stream",
     "text": [
      "[0.125 1.    0.25  0.625 0.25  0.25  0.625]\n",
      "[-25.71428571  44.28571429 -15.71428571  14.28571429 -15.71428571\n",
      " -15.71428571  14.28571429]\n",
      "-1.0150610510858574e-15\n",
      "23.211538298959887\n",
      "[-1.10782342  1.90791811 -0.6770032   0.61545745 -0.6770032  -0.6770032\n",
      "  0.61545745]\n",
      "-7.930164461608261e-17\n",
      "0.9999999999999999\n"
     ]
    }
   ],
   "source": [
    "d = np.array([10, 80, 20, 50, 20, 20, 50])\n",
    "n = d / np.max(d) # 최대값으로 나눠 정규화\n",
    "print(n)\n",
    "\n",
    "d = np.array([10, 80, 20, 50, 20, 20, 50])\n",
    "n = d - np.mean(d)\n",
    "print(n)\n",
    "print(np.mean(n)) # zero mean -> 정규분포 곡선에 따라 해석하기 위해\n",
    "print(np.std(n)) # 표준편차\n",
    "\n",
    "n = (d - np.mean(d)) / np.std(d)\n",
    "print(n)\n",
    "print(np.mean(n)) # zero mean -> 정규분포 곡선에 따라 해석하기 위해\n",
    "print(np.std(n)) # 표준편차 -> 1에 가까워진다.  "
   ]
  },
  {
   "cell_type": "markdown",
   "metadata": {},
   "source": [
    "조명에 영향을 덜 받게 할 수 있음"
   ]
  },
  {
   "cell_type": "markdown",
   "metadata": {},
   "source": [
    "non-trainable params : 정규화 과정을 하면 파라미터가 추가된다.   \n",
    "\n",
    "h = wx + b   \n",
    "정규화?  <- 비선형 함수를 사용하기 전에 사용 (O) / -1\\~1   \n",
    "\n",
    "out = f(h)  <- 시그모이드일 경우 -4~4 / 큰 의미가 없음  \n",
    "정규화?  <-(X)   \n",
    " \n",
    "미분값 만큼 가중치를 변경하는 거라 정규화를 하고나서 시그모이드를 해도 잘 될 가능성이 높다. \n",
    "\n"
   ]
  },
  {
   "cell_type": "code",
   "execution_count": 201,
   "metadata": {},
   "outputs": [
    {
     "name": "stdout",
     "output_type": "stream",
     "text": [
      "Model: \"sequential_15\"\n",
      "_________________________________________________________________\n",
      "Layer (type)                 Output Shape              Param #   \n",
      "=================================================================\n",
      "conv2d_35 (Conv2D)           (None, 32, 32, 16)        160       \n",
      "_________________________________________________________________\n",
      "max_pooling2d_33 (MaxPooling (None, 16, 16, 16)        0         \n",
      "_________________________________________________________________\n",
      "batch_normalization_9 (Batch (None, 16, 16, 16)        64        \n",
      "_________________________________________________________________\n",
      "conv2d_36 (Conv2D)           (None, 16, 16, 32)        4640      \n",
      "_________________________________________________________________\n",
      "batch_normalization_10 (Batc (None, 16, 16, 32)        128       \n",
      "_________________________________________________________________\n",
      "activation_29 (Activation)   (None, 16, 16, 32)        0         \n",
      "_________________________________________________________________\n",
      "max_pooling2d_34 (MaxPooling (None, 8, 8, 32)          0         \n",
      "_________________________________________________________________\n",
      "flatten_13 (Flatten)         (None, 2048)              0         \n",
      "_________________________________________________________________\n",
      "dense_29 (Dense)             (None, 256)               524544    \n",
      "_________________________________________________________________\n",
      "batch_normalization_11 (Batc (None, 256)               1024      \n",
      "_________________________________________________________________\n",
      "dense_30 (Dense)             (None, 100)               25700     \n",
      "_________________________________________________________________\n",
      "batch_normalization_12 (Batc (None, 100)               400       \n",
      "_________________________________________________________________\n",
      "dense_31 (Dense)             (None, 40)                4040      \n",
      "=================================================================\n",
      "Total params: 560,700\n",
      "Trainable params: 559,892\n",
      "Non-trainable params: 808\n",
      "_________________________________________________________________\n"
     ]
    }
   ],
   "source": [
    "X_train, X_val, y_train, y_val = \\\n",
    "    train_test_split(data, target, test_size=0.2)\n",
    "# cnn을 돌리기위해 4차원 & 원핫 인코딩\n",
    "X_train = X_train.reshape(-1, 32, 32, 1)\n",
    "X_val = X_val.reshape(-1, 32, 32, 1)\n",
    "\n",
    "import keras.utils as utils\n",
    "y_train_e = utils.to_categorical(y_train, 40)\n",
    "y_val_e = utils.to_categorical(y_val, 40)\n",
    "\n",
    "model = Sequential()\n",
    "\n",
    "model.add(Conv2D(input_shape = (32,32,1), filters = 16, \n",
    "                 kernel_size = (3,3), strides = (1,1), padding = 'same'))\n",
    "model.add(MaxPooling2D(pool_size = (2,2)))\n",
    "model.add(BatchNormalization())\n",
    "\n",
    "model.add(Conv2D(filters = 32, \n",
    "                 kernel_size = (3,3), strides = (1,1), padding = 'same'))\n",
    "model.add(BatchNormalization()) # activation 전에!\n",
    "model.add(Activation('relu'))\n",
    "model.add(MaxPooling2D(pool_size = (2,2)))\n",
    "\n",
    "model.add(Flatten())\n",
    "model.add(Dense(256, activation = 'relu'))\n",
    "model.add(BatchNormalization())\n",
    "model.add(Dense(100, activation = 'relu'))\n",
    "model.add(BatchNormalization())\n",
    "model.add(Dense(40, activation = 'softmax'))\n",
    "\n",
    "adam = optimizers.Adam(lr = 0.001)\n",
    "model.compile(loss = 'categorical_crossentropy', \n",
    "              optimizer = adam, metrics = ['accuracy'])\n",
    "model.summary()\n"
   ]
  },
  {
   "cell_type": "code",
   "execution_count": 202,
   "metadata": {},
   "outputs": [
    {
     "name": "stdout",
     "output_type": "stream",
     "text": [
      "Train on 320 samples, validate on 80 samples\n",
      "Epoch 1/50\n",
      "320/320 [==============================] - 2s 7ms/step - loss: 2.6973 - accuracy: 0.3219 - val_loss: 32.1285 - val_accuracy: 0.0500\n",
      "Epoch 2/50\n",
      "320/320 [==============================] - 1s 3ms/step - loss: 0.7915 - accuracy: 0.9187 - val_loss: 16.2136 - val_accuracy: 0.0500\n",
      "Epoch 3/50\n",
      "320/320 [==============================] - 1s 5ms/step - loss: 0.3129 - accuracy: 0.9875 - val_loss: 13.6175 - val_accuracy: 0.0250\n",
      "Epoch 4/50\n",
      "320/320 [==============================] - 1s 3ms/step - loss: 0.1517 - accuracy: 1.0000 - val_loss: 8.8698 - val_accuracy: 0.0750\n",
      "Epoch 5/50\n",
      "320/320 [==============================] - 1s 3ms/step - loss: 0.0861 - accuracy: 1.0000 - val_loss: 5.5247 - val_accuracy: 0.1125\n",
      "Epoch 6/50\n",
      "320/320 [==============================] - 1s 3ms/step - loss: 0.0565 - accuracy: 1.0000 - val_loss: 4.4410 - val_accuracy: 0.1250\n",
      "Epoch 7/50\n",
      "320/320 [==============================] - 1s 3ms/step - loss: 0.0486 - accuracy: 1.0000 - val_loss: 3.1478 - val_accuracy: 0.2375\n",
      "Epoch 8/50\n",
      "320/320 [==============================] - 1s 3ms/step - loss: 0.0385 - accuracy: 1.0000 - val_loss: 2.2433 - val_accuracy: 0.3875\n",
      "Epoch 9/50\n",
      "320/320 [==============================] - 1s 3ms/step - loss: 0.0294 - accuracy: 1.0000 - val_loss: 1.6725 - val_accuracy: 0.5375\n",
      "Epoch 10/50\n",
      "320/320 [==============================] - 1s 3ms/step - loss: 0.0252 - accuracy: 1.0000 - val_loss: 1.1543 - val_accuracy: 0.7250\n",
      "Epoch 11/50\n",
      "320/320 [==============================] - 1s 3ms/step - loss: 0.0232 - accuracy: 1.0000 - val_loss: 0.8186 - val_accuracy: 0.8375\n",
      "Epoch 12/50\n",
      "320/320 [==============================] - 1s 3ms/step - loss: 0.0228 - accuracy: 1.0000 - val_loss: 0.6443 - val_accuracy: 0.8875\n",
      "Epoch 13/50\n",
      "320/320 [==============================] - 1s 3ms/step - loss: 0.0183 - accuracy: 1.0000 - val_loss: 0.4869 - val_accuracy: 0.9250\n",
      "Epoch 14/50\n",
      "320/320 [==============================] - 1s 3ms/step - loss: 0.0182 - accuracy: 1.0000 - val_loss: 0.3610 - val_accuracy: 0.9375\n",
      "Epoch 15/50\n",
      "320/320 [==============================] - 1s 4ms/step - loss: 0.0160 - accuracy: 1.0000 - val_loss: 0.3219 - val_accuracy: 0.9625\n",
      "Epoch 16/50\n",
      "320/320 [==============================] - 1s 3ms/step - loss: 0.0141 - accuracy: 1.0000 - val_loss: 0.2859 - val_accuracy: 0.9500\n",
      "Epoch 17/50\n",
      "320/320 [==============================] - 1s 3ms/step - loss: 0.0154 - accuracy: 1.0000 - val_loss: 1.4481 - val_accuracy: 0.6500\n",
      "Epoch 18/50\n",
      "320/320 [==============================] - 1s 3ms/step - loss: 0.0135 - accuracy: 1.0000 - val_loss: 0.5439 - val_accuracy: 0.8625\n",
      "Epoch 19/50\n",
      "320/320 [==============================] - 1s 4ms/step - loss: 0.0100 - accuracy: 1.0000 - val_loss: 0.3381 - val_accuracy: 0.9250\n",
      "Epoch 20/50\n",
      "320/320 [==============================] - 1s 3ms/step - loss: 0.0097 - accuracy: 1.0000 - val_loss: 0.2595 - val_accuracy: 0.9500\n",
      "Epoch 21/50\n",
      "320/320 [==============================] - 1s 3ms/step - loss: 0.0100 - accuracy: 1.0000 - val_loss: 0.2237 - val_accuracy: 0.9625\n",
      "Epoch 22/50\n",
      "320/320 [==============================] - 1s 3ms/step - loss: 0.0076 - accuracy: 1.0000 - val_loss: 0.1918 - val_accuracy: 0.9750\n",
      "Epoch 23/50\n",
      "320/320 [==============================] - 1s 3ms/step - loss: 0.0074 - accuracy: 1.0000 - val_loss: 0.1780 - val_accuracy: 0.9750\n",
      "Epoch 24/50\n",
      "320/320 [==============================] - 1s 3ms/step - loss: 0.0072 - accuracy: 1.0000 - val_loss: 0.1602 - val_accuracy: 0.9750\n",
      "Epoch 25/50\n",
      "320/320 [==============================] - 1s 3ms/step - loss: 0.0072 - accuracy: 1.0000 - val_loss: 0.1504 - val_accuracy: 0.9750\n",
      "Epoch 26/50\n",
      "320/320 [==============================] - 1s 3ms/step - loss: 0.0068 - accuracy: 1.0000 - val_loss: 0.1475 - val_accuracy: 0.9750\n",
      "Epoch 27/50\n",
      "320/320 [==============================] - 1s 3ms/step - loss: 0.0059 - accuracy: 1.0000 - val_loss: 0.1493 - val_accuracy: 0.9750\n",
      "Epoch 28/50\n",
      "320/320 [==============================] - 1s 3ms/step - loss: 0.0055 - accuracy: 1.0000 - val_loss: 0.1404 - val_accuracy: 0.9750\n",
      "Epoch 29/50\n",
      "320/320 [==============================] - 1s 3ms/step - loss: 0.0052 - accuracy: 1.0000 - val_loss: 0.1298 - val_accuracy: 0.9750\n",
      "Epoch 30/50\n",
      "320/320 [==============================] - 1s 3ms/step - loss: 0.0048 - accuracy: 1.0000 - val_loss: 0.1237 - val_accuracy: 0.9750\n",
      "Epoch 31/50\n",
      "320/320 [==============================] - 1s 3ms/step - loss: 0.0051 - accuracy: 1.0000 - val_loss: 0.1227 - val_accuracy: 0.9750\n",
      "Epoch 32/50\n",
      "320/320 [==============================] - 1s 3ms/step - loss: 0.0044 - accuracy: 1.0000 - val_loss: 0.1175 - val_accuracy: 0.9750\n",
      "Epoch 33/50\n",
      "320/320 [==============================] - 1s 3ms/step - loss: 0.0047 - accuracy: 1.0000 - val_loss: 0.1171 - val_accuracy: 0.9750\n",
      "Epoch 34/50\n",
      "320/320 [==============================] - 1s 3ms/step - loss: 0.0047 - accuracy: 1.0000 - val_loss: 0.1085 - val_accuracy: 0.9750\n",
      "Epoch 35/50\n",
      "320/320 [==============================] - 1s 3ms/step - loss: 0.0042 - accuracy: 1.0000 - val_loss: 0.1124 - val_accuracy: 0.9750\n",
      "Epoch 36/50\n",
      "320/320 [==============================] - 1s 3ms/step - loss: 0.0038 - accuracy: 1.0000 - val_loss: 0.1134 - val_accuracy: 0.9750\n",
      "Epoch 37/50\n",
      "320/320 [==============================] - 1s 3ms/step - loss: 0.0042 - accuracy: 1.0000 - val_loss: 0.1147 - val_accuracy: 0.9750\n",
      "Epoch 38/50\n",
      "320/320 [==============================] - 1s 3ms/step - loss: 0.0045 - accuracy: 1.0000 - val_loss: 0.1140 - val_accuracy: 0.9750\n",
      "Epoch 39/50\n",
      "320/320 [==============================] - 1s 3ms/step - loss: 0.0033 - accuracy: 1.0000 - val_loss: 0.1101 - val_accuracy: 0.9750\n",
      "Epoch 40/50\n",
      "320/320 [==============================] - 1s 3ms/step - loss: 0.0032 - accuracy: 1.0000 - val_loss: 0.1036 - val_accuracy: 0.9750\n",
      "Epoch 41/50\n",
      "320/320 [==============================] - 1s 3ms/step - loss: 0.0033 - accuracy: 1.0000 - val_loss: 0.1025 - val_accuracy: 0.9750\n",
      "Epoch 42/50\n",
      "320/320 [==============================] - 1s 3ms/step - loss: 0.0028 - accuracy: 1.0000 - val_loss: 0.1035 - val_accuracy: 0.9750\n",
      "Epoch 43/50\n",
      "320/320 [==============================] - 1s 3ms/step - loss: 0.0032 - accuracy: 1.0000 - val_loss: 0.0984 - val_accuracy: 0.9750\n",
      "Epoch 44/50\n",
      "320/320 [==============================] - 1s 3ms/step - loss: 0.0026 - accuracy: 1.0000 - val_loss: 0.0970 - val_accuracy: 0.9750\n",
      "Epoch 45/50\n",
      "320/320 [==============================] - 1s 3ms/step - loss: 0.0042 - accuracy: 1.0000 - val_loss: 0.0987 - val_accuracy: 0.9750\n",
      "Epoch 46/50\n",
      "320/320 [==============================] - 1s 3ms/step - loss: 0.0028 - accuracy: 1.0000 - val_loss: 0.1109 - val_accuracy: 0.9750\n",
      "Epoch 47/50\n",
      "320/320 [==============================] - 1s 3ms/step - loss: 0.0029 - accuracy: 1.0000 - val_loss: 0.1039 - val_accuracy: 0.9750\n",
      "Epoch 48/50\n",
      "320/320 [==============================] - 1s 3ms/step - loss: 0.0026 - accuracy: 1.0000 - val_loss: 0.0966 - val_accuracy: 0.9750\n",
      "Epoch 49/50\n",
      "320/320 [==============================] - 1s 3ms/step - loss: 0.0027 - accuracy: 1.0000 - val_loss: 0.0906 - val_accuracy: 0.9750\n",
      "Epoch 50/50\n",
      "320/320 [==============================] - 1s 3ms/step - loss: 0.0024 - accuracy: 1.0000 - val_loss: 0.0919 - val_accuracy: 0.9750\n",
      "80/80 [==============================] - 0s 900us/step\n"
     ]
    },
    {
     "data": {
      "text/plain": [
       "[0.09192074984312057, 0.9750000238418579]"
      ]
     },
     "execution_count": 202,
     "metadata": {},
     "output_type": "execute_result"
    }
   ],
   "source": [
    "history = model.fit(X_train, y_train_e ,\n",
    "                        batch_size=20,\n",
    "                        epochs=50,\n",
    "                        verbose=1,\n",
    "                        validation_data=(X_val, y_val_e ))\n",
    "model.evaluate(X_val, y_val_e)"
   ]
  },
  {
   "cell_type": "markdown",
   "metadata": {},
   "source": [
    "# fashion mnist"
   ]
  },
  {
   "cell_type": "code",
   "execution_count": 6,
   "metadata": {},
   "outputs": [
    {
     "name": "stdout",
     "output_type": "stream",
     "text": [
      "(60000, 28, 28)\n",
      "(10000, 28, 28)\n",
      "(60000,)\n"
     ]
    },
    {
     "data": {
      "image/png": "[encoded data removed]",
      "text/plain": [
       "<Figure size 432x288 with 1 Axes>"
      ]
     },
     "metadata": {
      "needs_background": "light"
     },
     "output_type": "display_data"
    }
   ],
   "source": [
    "from keras.datasets import mnist, fashion_mnist\n",
    "(X_train, y_train), (X_val, y_val) = fashion_mnist.load_data()\n",
    "print(X_train.shape)\n",
    "plt.imshow(X_train[2], cmap='gray')\n",
    "print(X_val.shape)\n",
    "plt.imshow(X_test[2], cmap='gray')\n",
    "print(y_train.shape)\n"
   ]
  },
  {
   "cell_type": "code",
   "execution_count": 17,
   "metadata": {},
   "outputs": [
    {
     "name": "stdout",
     "output_type": "stream",
     "text": [
      "Model: \"sequential_5\"\n",
      "_________________________________________________________________\n",
      "Layer (type)                 Output Shape              Param #   \n",
      "=================================================================\n",
      "conv2d_9 (Conv2D)            (None, 28, 28, 16)        160       \n",
      "_________________________________________________________________\n",
      "max_pooling2d_9 (MaxPooling2 (None, 14, 14, 16)        0         \n",
      "_________________________________________________________________\n",
      "batch_normalization_17 (Batc (None, 14, 14, 16)        64        \n",
      "_________________________________________________________________\n",
      "conv2d_10 (Conv2D)           (None, 14, 14, 32)        4640      \n",
      "_________________________________________________________________\n",
      "batch_normalization_18 (Batc (None, 14, 14, 32)        128       \n",
      "_________________________________________________________________\n",
      "activation_5 (Activation)    (None, 14, 14, 32)        0         \n",
      "_________________________________________________________________\n",
      "max_pooling2d_10 (MaxPooling (None, 7, 7, 32)          0         \n",
      "_________________________________________________________________\n",
      "flatten_5 (Flatten)          (None, 1568)              0         \n",
      "_________________________________________________________________\n",
      "dense_13 (Dense)             (None, 256)               401664    \n",
      "_________________________________________________________________\n",
      "batch_normalization_19 (Batc (None, 256)               1024      \n",
      "_________________________________________________________________\n",
      "dense_14 (Dense)             (None, 100)               25700     \n",
      "_________________________________________________________________\n",
      "batch_normalization_20 (Batc (None, 100)               400       \n",
      "_________________________________________________________________\n",
      "dense_15 (Dense)             (None, 10)                1010      \n",
      "=================================================================\n",
      "Total params: 434,790\n",
      "Trainable params: 433,982\n",
      "Non-trainable params: 808\n",
      "_________________________________________________________________\n"
     ]
    }
   ],
   "source": [
    "\n",
    "# cnn을 돌리기위해 4차원 & 원핫 인코딩\n",
    "X_train = X_train.reshape(-1, 28, 28, 1)\n",
    "X_val = X_val.reshape(-1, 28, 28, 1)\n",
    "\n",
    "import keras.utils as utils\n",
    "y_train_e = utils.to_categorical(y_train, 10)\n",
    "y_val_e = utils.to_categorical(y_val, 10)\n",
    "\n",
    "model = Sequential()\n",
    "\n",
    "model.add(Conv2D(input_shape = (28,28,1), filters = 16, \n",
    "                 kernel_size = (3,3), strides = (1,1), padding = 'same'))\n",
    "model.add(MaxPooling2D(pool_size = (2,2)))\n",
    "model.add(BatchNormalization())\n",
    "\n",
    "model.add(Conv2D(filters = 32, \n",
    "                 kernel_size = (3,3), strides = (1,1), padding = 'same'))\n",
    "model.add(BatchNormalization()) # activation 전에!\n",
    "model.add(Activation('sigmoid'))\n",
    "model.add(MaxPooling2D(pool_size = (2,2)))\n",
    "\n",
    "model.add(Flatten())\n",
    "model.add(Dense(256, activation = 'sigmoid'))\n",
    "model.add(BatchNormalization())\n",
    "model.add(Dense(100, activation = 'sigmoid'))\n",
    "model.add(BatchNormalization())\n",
    "model.add(Dense(10, activation = 'softmax'))\n",
    "\n",
    "adam = optimizers.Adam(lr = 0.001)\n",
    "model.compile(loss = 'categorical_crossentropy', \n",
    "              optimizer = adam, metrics = ['accuracy'])\n",
    "model.summary()"
   ]
  },
  {
   "cell_type": "code",
   "execution_count": 18,
   "metadata": {},
   "outputs": [
    {
     "name": "stdout",
     "output_type": "stream",
     "text": [
      "Epoch 1/1\n",
      "60000/60000 [==============================] - 81s 1ms/step - loss: 1.7034 - accuracy: 0.4460\n",
      "10000/10000 [==============================] - 6s 571us/step\n"
     ]
    },
    {
     "data": {
      "text/plain": [
       "[2.273030219268799, 0.10000000149011612]"
      ]
     },
     "execution_count": 18,
     "metadata": {},
     "output_type": "execute_result"
    }
   ],
   "source": [
    "history = model.fit(X_train, y_train_e ,\n",
    "                        batch_size=20000,\n",
    "                        epochs=1,\n",
    "                        verbose=1)\n",
    "model.evaluate(X_val, y_val_e)"
   ]
  },
  {
   "cell_type": "markdown",
   "metadata": {},
   "source": [
    "일단 시그모이드는 값이 커져 기울기가 발산하거나 수렴하여 구림  \n",
    "\n",
    "배치사이즈가 크다고 좋은 것이 아니다.  \n",
    "또한 너무 작다고 좋은것도 아니다.  \n",
    "\n",
    "만약 10개의 class 라면 배치 사이즈가 100은 되야하지 않을까..?"
   ]
  },
  {
   "cell_type": "code",
   "execution_count": 21,
   "metadata": {},
   "outputs": [
    {
     "name": "stdout",
     "output_type": "stream",
     "text": [
      "Model: \"sequential_7\"\n",
      "_________________________________________________________________\n",
      "Layer (type)                 Output Shape              Param #   \n",
      "=================================================================\n",
      "conv2d_13 (Conv2D)           (None, 28, 28, 16)        160       \n",
      "_________________________________________________________________\n",
      "max_pooling2d_13 (MaxPooling (None, 14, 14, 16)        0         \n",
      "_________________________________________________________________\n",
      "conv2d_14 (Conv2D)           (None, 14, 14, 32)        4640      \n",
      "_________________________________________________________________\n",
      "activation_7 (Activation)    (None, 14, 14, 32)        0         \n",
      "_________________________________________________________________\n",
      "max_pooling2d_14 (MaxPooling (None, 7, 7, 32)          0         \n",
      "_________________________________________________________________\n",
      "flatten_7 (Flatten)          (None, 1568)              0         \n",
      "_________________________________________________________________\n",
      "dense_19 (Dense)             (None, 256)               401664    \n",
      "_________________________________________________________________\n",
      "dense_20 (Dense)             (None, 100)               25700     \n",
      "_________________________________________________________________\n",
      "dense_21 (Dense)             (None, 10)                1010      \n",
      "=================================================================\n",
      "Total params: 433,174\n",
      "Trainable params: 433,174\n",
      "Non-trainable params: 0\n",
      "_________________________________________________________________\n"
     ]
    }
   ],
   "source": [
    "\n",
    "# cnn을 돌리기위해 4차원 & 원핫 인코딩\n",
    "X_train = X_train.reshape(-1, 28, 28, 1)\n",
    "X_val = X_val.reshape(-1, 28, 28, 1)\n",
    "\n",
    "import keras.utils as utils\n",
    "y_train_e = utils.to_categorical(y_train, 10)\n",
    "y_val_e = utils.to_categorical(y_val, 10)\n",
    "\n",
    "model = Sequential()\n",
    "\n",
    "model.add(Conv2D(input_shape = (28,28,1), filters = 16, \n",
    "                 kernel_size = (3,3), strides = (1,1), padding = 'same'))\n",
    "model.add(MaxPooling2D(pool_size = (2,2)))\n",
    "# model.add(BatchNormalization())\n",
    "\n",
    "model.add(Conv2D(filters = 32, \n",
    "                 kernel_size = (3,3), strides = (1,1), padding = 'same'))\n",
    "# model.add(BatchNormalization()) # activation 전에!\n",
    "model.add(Activation('relu'))\n",
    "model.add(MaxPooling2D(pool_size = (2,2)))\n",
    "\n",
    "model.add(Flatten())\n",
    "model.add(Dense(256, activation = 'relu'))\n",
    "# model.add(BatchNormalization())\n",
    "model.add(Dense(100, activation = 'relu'))\n",
    "# model.add(BatchNormalization())\n",
    "model.add(Dense(10, activation = 'softmax'))\n",
    "\n",
    "adam = optimizers.Adam(lr = 0.001)\n",
    "model.compile(loss = 'categorical_crossentropy', \n",
    "              optimizer = adam, metrics = ['accuracy'])\n",
    "model.summary()"
   ]
  },
  {
   "cell_type": "code",
   "execution_count": 20,
   "metadata": {},
   "outputs": [
    {
     "name": "stdout",
     "output_type": "stream",
     "text": [
      "Epoch 1/1\n",
      "60000/60000 [==============================] - 44s 740us/step - loss: 0.6788 - accuracy: 0.8369\n",
      "10000/10000 [==============================] - 2s 249us/step\n"
     ]
    },
    {
     "data": {
      "text/plain": [
       "[0.3682535144686699, 0.8695999979972839]"
      ]
     },
     "execution_count": 20,
     "metadata": {},
     "output_type": "execute_result"
    }
   ],
   "source": [
    "history = model.fit(X_train, y_train_e ,\n",
    "                        epochs=1,\n",
    "                        verbose=1)\n",
    "model.evaluate(X_val, y_val_e)"
   ]
  },
  {
   "cell_type": "markdown",
   "metadata": {},
   "source": [
    "배치 없이 relu만 사용하여도 어느정도 성능이 나오는 것을 볼 수 있음  "
   ]
  },
  {
   "cell_type": "code",
   "execution_count": 22,
   "metadata": {},
   "outputs": [
    {
     "name": "stdout",
     "output_type": "stream",
     "text": [
      "Epoch 1/1\n",
      "60000/60000 [==============================] - 39s 656us/step - loss: 0.7732 - accuracy: 0.8236\n",
      "10000/10000 [==============================] - 3s 336us/step\n"
     ]
    },
    {
     "data": {
      "text/plain": [
       "[0.3703761920928955, 0.8657000064849854]"
      ]
     },
     "execution_count": 22,
     "metadata": {},
     "output_type": "execute_result"
    }
   ],
   "source": [
    "history = model.fit(X_train, y_train_e ,\n",
    "                        batch_size=100,\n",
    "                        epochs=1,\n",
    "                        verbose=1)\n",
    "model.evaluate(X_val, y_val_e)"
   ]
  },
  {
   "cell_type": "markdown",
   "metadata": {},
   "source": [
    "음 배치를 써도 비슷함  \n",
    "\n",
    "정규화도 추가해보자  "
   ]
  },
  {
   "cell_type": "code",
   "execution_count": 23,
   "metadata": {},
   "outputs": [
    {
     "name": "stdout",
     "output_type": "stream",
     "text": [
      "Model: \"sequential_8\"\n",
      "_________________________________________________________________\n",
      "Layer (type)                 Output Shape              Param #   \n",
      "=================================================================\n",
      "conv2d_15 (Conv2D)           (None, 28, 28, 16)        160       \n",
      "_________________________________________________________________\n",
      "max_pooling2d_15 (MaxPooling (None, 14, 14, 16)        0         \n",
      "_________________________________________________________________\n",
      "batch_normalization_21 (Batc (None, 14, 14, 16)        64        \n",
      "_________________________________________________________________\n",
      "conv2d_16 (Conv2D)           (None, 14, 14, 32)        4640      \n",
      "_________________________________________________________________\n",
      "batch_normalization_22 (Batc (None, 14, 14, 32)        128       \n",
      "_________________________________________________________________\n",
      "activation_8 (Activation)    (None, 14, 14, 32)        0         \n",
      "_________________________________________________________________\n",
      "max_pooling2d_16 (MaxPooling (None, 7, 7, 32)          0         \n",
      "_________________________________________________________________\n",
      "flatten_8 (Flatten)          (None, 1568)              0         \n",
      "_________________________________________________________________\n",
      "dense_22 (Dense)             (None, 256)               401664    \n",
      "_________________________________________________________________\n",
      "batch_normalization_23 (Batc (None, 256)               1024      \n",
      "_________________________________________________________________\n",
      "dense_23 (Dense)             (None, 100)               25700     \n",
      "_________________________________________________________________\n",
      "batch_normalization_24 (Batc (None, 100)               400       \n",
      "_________________________________________________________________\n",
      "dense_24 (Dense)             (None, 10)                1010      \n",
      "=================================================================\n",
      "Total params: 434,790\n",
      "Trainable params: 433,982\n",
      "Non-trainable params: 808\n",
      "_________________________________________________________________\n"
     ]
    }
   ],
   "source": [
    "\n",
    "# cnn을 돌리기위해 4차원 & 원핫 인코딩\n",
    "X_train = X_train.reshape(-1, 28, 28, 1)\n",
    "X_val = X_val.reshape(-1, 28, 28, 1)\n",
    "\n",
    "import keras.utils as utils\n",
    "y_train_e = utils.to_categorical(y_train, 10)\n",
    "y_val_e = utils.to_categorical(y_val, 10)\n",
    "\n",
    "model = Sequential()\n",
    "\n",
    "model.add(Conv2D(input_shape = (28,28,1), filters = 16, \n",
    "                 kernel_size = (3,3), strides = (1,1), padding = 'same'))\n",
    "model.add(MaxPooling2D(pool_size = (2,2)))\n",
    "model.add(BatchNormalization())\n",
    "\n",
    "model.add(Conv2D(filters = 32, \n",
    "                 kernel_size = (3,3), strides = (1,1), padding = 'same'))\n",
    "model.add(BatchNormalization()) # activation 전에!\n",
    "model.add(Activation('relu'))\n",
    "model.add(MaxPooling2D(pool_size = (2,2)))\n",
    "\n",
    "model.add(Flatten())\n",
    "model.add(Dense(256, activation = 'relu'))\n",
    "model.add(BatchNormalization())\n",
    "model.add(Dense(100, activation = 'relu'))\n",
    "model.add(BatchNormalization())\n",
    "model.add(Dense(10, activation = 'softmax'))\n",
    "\n",
    "adam = optimizers.Adam(lr = 0.001)\n",
    "model.compile(loss = 'categorical_crossentropy', \n",
    "              optimizer = adam, metrics = ['accuracy'])\n",
    "model.summary()"
   ]
  },
  {
   "cell_type": "code",
   "execution_count": 24,
   "metadata": {},
   "outputs": [
    {
     "name": "stdout",
     "output_type": "stream",
     "text": [
      "Epoch 1/1\n",
      "60000/60000 [==============================] - 92s 2ms/step - loss: 0.3716 - accuracy: 0.8680\n",
      "10000/10000 [==============================] - 6s 561us/step\n"
     ]
    },
    {
     "data": {
      "text/plain": [
       "[0.3316890867948532, 0.879800021648407]"
      ]
     },
     "execution_count": 24,
     "metadata": {},
     "output_type": "execute_result"
    }
   ],
   "source": [
    "history = model.fit(X_train, y_train_e ,\n",
    "                        batch_size=100,\n",
    "                        epochs=1,\n",
    "                        verbose=1)\n",
    "model.evaluate(X_val, y_val_e)"
   ]
  },
  {
   "cell_type": "markdown",
   "metadata": {},
   "source": [
    "## dropout"
   ]
  },
  {
   "cell_type": "code",
   "execution_count": 25,
   "metadata": {},
   "outputs": [
    {
     "name": "stdout",
     "output_type": "stream",
     "text": [
      "Model: \"sequential_9\"\n",
      "_________________________________________________________________\n",
      "Layer (type)                 Output Shape              Param #   \n",
      "=================================================================\n",
      "conv2d_17 (Conv2D)           (None, 28, 28, 16)        160       \n",
      "_________________________________________________________________\n",
      "batch_normalization_25 (Batc (None, 28, 28, 16)        64        \n",
      "_________________________________________________________________\n",
      "dropout_1 (Dropout)          (None, 28, 28, 16)        0         \n",
      "_________________________________________________________________\n",
      "max_pooling2d_17 (MaxPooling (None, 14, 14, 16)        0         \n",
      "_________________________________________________________________\n",
      "conv2d_18 (Conv2D)           (None, 14, 14, 32)        4640      \n",
      "_________________________________________________________________\n",
      "batch_normalization_26 (Batc (None, 14, 14, 32)        128       \n",
      "_________________________________________________________________\n",
      "dropout_2 (Dropout)          (None, 14, 14, 32)        0         \n",
      "_________________________________________________________________\n",
      "activation_9 (Activation)    (None, 14, 14, 32)        0         \n",
      "_________________________________________________________________\n",
      "max_pooling2d_18 (MaxPooling (None, 7, 7, 32)          0         \n",
      "_________________________________________________________________\n",
      "flatten_9 (Flatten)          (None, 1568)              0         \n",
      "_________________________________________________________________\n",
      "dense_25 (Dense)             (None, 256)               401664    \n",
      "_________________________________________________________________\n",
      "batch_normalization_27 (Batc (None, 256)               1024      \n",
      "_________________________________________________________________\n",
      "dense_26 (Dense)             (None, 100)               25700     \n",
      "_________________________________________________________________\n",
      "batch_normalization_28 (Batc (None, 100)               400       \n",
      "_________________________________________________________________\n",
      "dense_27 (Dense)             (None, 10)                1010      \n",
      "=================================================================\n",
      "Total params: 434,790\n",
      "Trainable params: 433,982\n",
      "Non-trainable params: 808\n",
      "_________________________________________________________________\n"
     ]
    }
   ],
   "source": [
    "\n",
    "# cnn을 돌리기위해 4차원 & 원핫 인코딩\n",
    "X_train = X_train.reshape(-1, 28, 28, 1)\n",
    "X_val = X_val.reshape(-1, 28, 28, 1)\n",
    "\n",
    "import keras.utils as utils\n",
    "y_train_e = utils.to_categorical(y_train, 10)\n",
    "y_val_e = utils.to_categorical(y_val, 10)\n",
    "\n",
    "model = Sequential()\n",
    "\n",
    "model.add(Conv2D(input_shape = (28,28,1), filters = 16, \n",
    "                 kernel_size = (3,3), strides = (1,1), padding = 'same'))\n",
    "model.add(BatchNormalization())\n",
    "model.add(Dropout(0.25)) # 25%를 제거 weight를 0으로 만든다. \n",
    "model.add(MaxPooling2D(pool_size = (2,2)))\n",
    "\n",
    "model.add(Conv2D(filters = 32, \n",
    "                 kernel_size = (3,3), strides = (1,1), padding = 'same'))\n",
    "model.add(BatchNormalization()) # activation 전에!\n",
    "model.add(Dropout(0.25)) # 25%를 제거 weight를 0으로 만든다. \n",
    "\n",
    "model.add(Activation('relu'))\n",
    "model.add(MaxPooling2D(pool_size = (2,2)))\n",
    "\n",
    "model.add(Flatten())\n",
    "model.add(Dense(256, activation = 'relu'))\n",
    "model.add(BatchNormalization())\n",
    "model.add(Dense(100, activation = 'relu'))\n",
    "model.add(BatchNormalization())\n",
    "model.add(Dense(10, activation = 'softmax'))\n",
    "\n",
    "adam = optimizers.Adam(lr = 0.001)\n",
    "model.compile(loss = 'categorical_crossentropy', \n",
    "              optimizer = adam, metrics = ['accuracy'])\n",
    "model.summary()"
   ]
  },
  {
   "cell_type": "code",
   "execution_count": 26,
   "metadata": {},
   "outputs": [
    {
     "name": "stdout",
     "output_type": "stream",
     "text": [
      "Epoch 1/1\n",
      "60000/60000 [==============================] - 157s 3ms/step - loss: 0.4052 - accuracy: 0.8536\n",
      "10000/10000 [==============================] - 11s 1ms/step\n"
     ]
    },
    {
     "data": {
      "text/plain": [
       "[0.4278967083930969, 0.8525000214576721]"
      ]
     },
     "execution_count": 26,
     "metadata": {},
     "output_type": "execute_result"
    }
   ],
   "source": [
    "history = model.fit(X_train, y_train_e ,\n",
    "                        batch_size=100,\n",
    "                        epochs=1,\n",
    "                        verbose=1)\n",
    "model.evaluate(X_val, y_val_e)"
   ]
  },
  {
   "cell_type": "markdown",
   "metadata": {},
   "source": [
    "옵티마이저의 경우 작은 값이 좋긴하다.  \n",
    "\n"
   ]
  },
  {
   "cell_type": "code",
   "execution_count": null,
   "metadata": {},
   "outputs": [],
   "source": []
  }
 ],
 "metadata": {
  "kernelspec": {
   "display_name": "Python 3",
   "language": "python",
   "name": "python3"
  },
  "language_info": {
   "codemirror_mode": {
    "name": "ipython",
    "version": 3
   },
   "file_extension": ".py",
   "mimetype": "text/x-python",
   "name": "python",
   "nbconvert_exporter": "python",
   "pygments_lexer": "ipython3",
   "version": "3.7.6"
  }
 },
 "nbformat": 4,
 "nbformat_minor": 4
}
