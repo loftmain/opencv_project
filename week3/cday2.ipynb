{
 "cells": [
  {
   "cell_type": "code",
   "execution_count": 258,
   "metadata": {},
   "outputs": [],
   "source": [
    "from sklearn import datasets\n",
    "import numpy.linalg as lin\n",
    "from sklearn.model_selection import train_test_split\n",
    "import numpy as np\n",
    "import matplotlib.pyplot as plt\n",
    "from keras.datasets import mnist, fashion_mnist\n",
    "from keras import models\n",
    "from keras.utils import to_categorical\n",
    "from keras.models import Sequential\n",
    "from keras import optimizers\n",
    "from keras.layers import Dense, Activation, Flatten, Conv2D, MaxPooling2D, BatchNormalization, Dropout\n",
    "from matplotlib import pyplot as plt\n",
    "from sklearn.datasets import fetch_olivetti_faces\n",
    "import cv2\n",
    "from sklearn.model_selection import train_test_split\n",
    "import keras.utils as utils"
   ]
  },
  {
   "cell_type": "code",
   "execution_count": 3,
   "metadata": {},
   "outputs": [
    {
     "name": "stdout",
     "output_type": "stream",
     "text": [
      "unit  20\n",
      "hello\n",
      "20 [1, 2, 3, 4, 5]\n",
      "20 [3, 3, 4]\n",
      "[3, 3, 4]\n",
      "unit  50\n",
      "hello\n",
      "unit  50\n",
      "hello\n"
     ]
    }
   ],
   "source": [
    "class MyLayer :\n",
    "    def __init__(self, unit ) :\n",
    "        self.unit = unit\n",
    "        print('unit ', unit)\n",
    "        print(\"hello\")\n",
    "        \n",
    "    def test(self, v) :\n",
    "        print(v)                   \n",
    "        \n",
    "    def __call__(self, v) :\n",
    "        print(self.unit, v)        \n",
    "        return self\n",
    "        \n",
    "        \n",
    "#A = MyLayer()\n",
    "#A.test(10)\n",
    "#A(20)\n",
    "\n",
    "#A = MyLayer()(20)\n",
    "# A = MyLayer()\n",
    "# A(20)\n",
    "\n",
    "#A = MyLayer(20)([1,2,3,4,5])\n",
    "A = MyLayer(20)\n",
    "A([1,2,3,4,5])\n",
    "\n",
    "A([3,3,4])\n",
    "A.test([3,3,4])\n",
    "\n",
    "B = MyLayer(50)\n",
    "C = MyLayer(50)   \n",
    "# callable :  이미 생성된 객체에 대해서 함수처럼 호출할 수 있도록 함"
   ]
  },
  {
   "cell_type": "code",
   "execution_count": 196,
   "metadata": {},
   "outputs": [
    {
     "name": "stdout",
     "output_type": "stream",
     "text": [
      "(400, 4096)\n",
      "(400,)\n"
     ]
    }
   ],
   "source": [
    "orl = fetch_olivetti_faces()\n",
    "data = orl.data   # 0~1로 정규화 되어 있음.\n",
    "target = orl.target\n",
    "print(data.shape)\n",
    "print(target.shape)"
   ]
  },
  {
   "cell_type": "code",
   "execution_count": 3,
   "metadata": {},
   "outputs": [
    {
     "data": {
      "text/plain": [
       "<matplotlib.image.AxesImage at 0x1ba0136ee08>"
      ]
     },
     "execution_count": 3,
     "metadata": {},
     "output_type": "execute_result"
    },
    {
     "data": {
      "image/png": "[encoded data removed]",
      "text/plain": [
       "<Figure size 432x288 with 1 Axes>"
      ]
     },
     "metadata": {
      "needs_background": "light"
     },
     "output_type": "display_data"
    }
   ],
   "source": [
    "plt.imshow( data[2,:].reshape(64,64), cmap='gray'  )"
   ]
  },
  {
   "cell_type": "code",
   "execution_count": 197,
   "metadata": {},
   "outputs": [
    {
     "name": "stdout",
     "output_type": "stream",
     "text": [
      "(400, 1024)\n"
     ]
    }
   ],
   "source": [
    "data = np.zeros((400, 32*32), dtype='uint8')\n",
    "\n",
    "for i, d in enumerate(orl.data) :      \n",
    "    image = cv2.resize(d.reshape(64, 64), (32, 32))\n",
    "    data[i, :] = image.flatten() * 255 \n",
    "    \n",
    "print(data.shape)"
   ]
  },
  {
   "cell_type": "code",
   "execution_count": 198,
   "metadata": {},
   "outputs": [
    {
     "name": "stdout",
     "output_type": "stream",
     "text": [
      "(320, 1024)\n",
      "(80, 1024)\n"
     ]
    }
   ],
   "source": [
    "X_train, X_val, y_train, y_val = train_test_split(data, target, test_size = 0.2)\n",
    "print(X_train.shape)\n",
    "print(X_val.shape)  "
   ]
  },
  {
   "cell_type": "code",
   "execution_count": 199,
   "metadata": {},
   "outputs": [],
   "source": [
    "X_train = X_train.reshape(-1, 32, 32, 1) / 255\n",
    "X_val = X_val.reshape(-1, 32, 32, 1)  / 255\n",
    "\n",
    "y_train_e = utils.to_categorical(y_train, 40)\n",
    "y_val_e = utils.to_categorical(y_val, 40)"
   ]
  },
  {
   "cell_type": "code",
   "execution_count": 200,
   "metadata": {},
   "outputs": [
    {
     "name": "stdout",
     "output_type": "stream",
     "text": [
      "(320, 32, 32, 1)\n",
      "(320, 40)\n",
      "(80, 32, 32, 1)\n",
      "(80, 40)\n"
     ]
    }
   ],
   "source": [
    "print(X_train.shape)\n",
    "print(y_train_e.shape)\n",
    "print(X_val.shape)\n",
    "print(y_val_e.shape)"
   ]
  },
  {
   "cell_type": "code",
   "execution_count": 210,
   "metadata": {},
   "outputs": [
    {
     "name": "stdout",
     "output_type": "stream",
     "text": [
      "Model: \"sequential_22\"\n",
      "_________________________________________________________________\n",
      "Layer (type)                 Output Shape              Param #   \n",
      "=================================================================\n",
      "conv1_1 (Conv2D)             (None, 32, 32, 32)        320       \n",
      "_________________________________________________________________\n",
      "conv2d_32 (Conv2D)           (None, 32, 32, 32)        9248      \n",
      "_________________________________________________________________\n",
      "max_pooling2d_41 (MaxPooling (None, 16, 16, 32)        0         \n",
      "_________________________________________________________________\n",
      "conv2d_33 (Conv2D)           (None, 16, 16, 32)        9248      \n",
      "_________________________________________________________________\n",
      "conv2d_34 (Conv2D)           (None, 16, 16, 32)        9248      \n",
      "_________________________________________________________________\n",
      "max_pooling2d_42 (MaxPooling (None, 8, 8, 32)          0         \n",
      "_________________________________________________________________\n",
      "flatten_21 (Flatten)         (None, 2048)              0         \n",
      "_________________________________________________________________\n",
      "dense_43 (Dense)             (None, 1024)              2098176   \n",
      "_________________________________________________________________\n",
      "dense_44 (Dense)             (None, 512)               524800    \n",
      "_________________________________________________________________\n",
      "dense_45 (Dense)             (None, 40)                20520     \n",
      "=================================================================\n",
      "Total params: 2,671,560\n",
      "Trainable params: 2,671,560\n",
      "Non-trainable params: 0\n",
      "_________________________________________________________________\n"
     ]
    }
   ],
   "source": [
    "input_shape = (32, 32, 1)\n",
    "model = Sequential()\n",
    "model.add(Conv2D(32, kernel_size=(3, 3), padding = 'same',\n",
    "                     activation='relu',input_shape=input_shape, name=\"conv1_1\"))\n",
    "model.add(Conv2D(32, kernel_size=(3, 3), padding = 'same',\n",
    "                     activation='relu'))\n",
    "model.add(MaxPooling2D(pool_size=(2, 2)))\n",
    "\n",
    "model.add(Conv2D(32, kernel_size=(3, 3), padding = 'same',\n",
    "                     activation='relu'))\n",
    "model.add(Conv2D(32, kernel_size=(3, 3), padding = 'same',\n",
    "                     activation='relu'))\n",
    "model.add(MaxPooling2D(pool_size=(2, 2)))\n",
    "\n",
    "model.add(Flatten())\n",
    "\n",
    "model.add(Dense(1024, activation='relu')) \n",
    "model.add(Dense(512, activation='relu')) \n",
    "model.add(Dense(40, activation='softmax'))\n",
    "model.summary()\n",
    "model.compile(loss='categorical_crossentropy',  optimizer='adam', metrics=['accuracy'])"
   ]
  },
  {
   "cell_type": "code",
   "execution_count": 211,
   "metadata": {},
   "outputs": [
    {
     "name": "stdout",
     "output_type": "stream",
     "text": [
      "Train on 320 samples, validate on 80 samples\n",
      "Epoch 1/40\n",
      " - 2s - loss: 3.6998 - accuracy: 0.0250 - val_loss: 3.6953 - val_accuracy: 0.0000e+00\n",
      "Epoch 2/40\n",
      " - 1s - loss: 3.6862 - accuracy: 0.0469 - val_loss: 3.7131 - val_accuracy: 0.0000e+00\n",
      "Epoch 3/40\n",
      " - 1s - loss: 3.6804 - accuracy: 0.0500 - val_loss: 3.7451 - val_accuracy: 0.0000e+00\n",
      "Epoch 4/40\n",
      " - 1s - loss: 3.6233 - accuracy: 0.0531 - val_loss: 3.7312 - val_accuracy: 0.0375\n",
      "Epoch 5/40\n",
      " - 1s - loss: 3.1533 - accuracy: 0.2375 - val_loss: 3.1843 - val_accuracy: 0.1750\n",
      "Epoch 6/40\n",
      " - 1s - loss: 1.7751 - accuracy: 0.4969 - val_loss: 1.5306 - val_accuracy: 0.6250\n",
      "Epoch 7/40\n",
      " - 1s - loss: 0.7513 - accuracy: 0.7688 - val_loss: 1.0439 - val_accuracy: 0.6375\n",
      "Epoch 8/40\n",
      " - 1s - loss: 0.3582 - accuracy: 0.8656 - val_loss: 0.2972 - val_accuracy: 0.9375\n",
      "Epoch 9/40\n",
      " - 1s - loss: 0.1152 - accuracy: 0.9875 - val_loss: 0.7442 - val_accuracy: 0.7875\n",
      "Epoch 10/40\n",
      " - 1s - loss: 0.1024 - accuracy: 0.9750 - val_loss: 0.3691 - val_accuracy: 0.9125\n",
      "Epoch 11/40\n",
      " - 1s - loss: 0.0588 - accuracy: 0.9844 - val_loss: 0.4663 - val_accuracy: 0.8500\n",
      "Epoch 12/40\n",
      " - 1s - loss: 0.0314 - accuracy: 0.9969 - val_loss: 0.1918 - val_accuracy: 0.9375\n",
      "Epoch 13/40\n",
      " - 1s - loss: 0.0174 - accuracy: 0.9937 - val_loss: 0.2057 - val_accuracy: 0.9500\n",
      "Epoch 14/40\n",
      " - 1s - loss: 0.0096 - accuracy: 0.9969 - val_loss: 0.2087 - val_accuracy: 0.9250\n",
      "Epoch 15/40\n",
      " - 1s - loss: 0.0044 - accuracy: 1.0000 - val_loss: 0.1621 - val_accuracy: 0.9875\n",
      "Epoch 16/40\n",
      " - 1s - loss: 5.6360e-04 - accuracy: 1.0000 - val_loss: 0.0815 - val_accuracy: 0.9875\n",
      "Epoch 17/40\n",
      " - 1s - loss: 4.7955e-04 - accuracy: 1.0000 - val_loss: 0.0930 - val_accuracy: 0.9875\n",
      "Epoch 18/40\n",
      " - 1s - loss: 2.5629e-04 - accuracy: 1.0000 - val_loss: 0.1076 - val_accuracy: 0.9875\n",
      "Epoch 19/40\n",
      " - 1s - loss: 1.7868e-04 - accuracy: 1.0000 - val_loss: 0.1057 - val_accuracy: 0.9875\n",
      "Epoch 20/40\n",
      " - 1s - loss: 1.4539e-04 - accuracy: 1.0000 - val_loss: 0.1046 - val_accuracy: 0.9875\n",
      "Epoch 21/40\n",
      " - 1s - loss: 1.2425e-04 - accuracy: 1.0000 - val_loss: 0.1069 - val_accuracy: 0.9875\n",
      "Epoch 22/40\n",
      " - 1s - loss: 1.1059e-04 - accuracy: 1.0000 - val_loss: 0.1066 - val_accuracy: 0.9875\n",
      "Epoch 23/40\n",
      " - 1s - loss: 9.8796e-05 - accuracy: 1.0000 - val_loss: 0.1069 - val_accuracy: 0.9875\n",
      "Epoch 24/40\n",
      " - 1s - loss: 9.0737e-05 - accuracy: 1.0000 - val_loss: 0.1075 - val_accuracy: 0.9875\n",
      "Epoch 25/40\n",
      " - 1s - loss: 7.9474e-05 - accuracy: 1.0000 - val_loss: 0.1065 - val_accuracy: 0.9875\n",
      "Epoch 26/40\n",
      " - 1s - loss: 7.4177e-05 - accuracy: 1.0000 - val_loss: 0.1085 - val_accuracy: 0.9875\n",
      "Epoch 27/40\n",
      " - 1s - loss: 6.6678e-05 - accuracy: 1.0000 - val_loss: 0.1069 - val_accuracy: 0.9875\n",
      "Epoch 28/40\n",
      " - 1s - loss: 5.9632e-05 - accuracy: 1.0000 - val_loss: 0.1090 - val_accuracy: 0.9875\n",
      "Epoch 29/40\n",
      " - 1s - loss: 5.3879e-05 - accuracy: 1.0000 - val_loss: 0.1085 - val_accuracy: 0.9875\n",
      "Epoch 30/40\n",
      " - 1s - loss: 4.9517e-05 - accuracy: 1.0000 - val_loss: 0.1065 - val_accuracy: 0.9875\n",
      "Epoch 31/40\n",
      " - 1s - loss: 4.3639e-05 - accuracy: 1.0000 - val_loss: 0.1102 - val_accuracy: 0.9875\n",
      "Epoch 32/40\n",
      " - 1s - loss: 4.0624e-05 - accuracy: 1.0000 - val_loss: 0.1083 - val_accuracy: 0.9875\n",
      "Epoch 33/40\n",
      " - 1s - loss: 3.7040e-05 - accuracy: 1.0000 - val_loss: 0.1064 - val_accuracy: 0.9875\n",
      "Epoch 34/40\n",
      " - 1s - loss: 3.3654e-05 - accuracy: 1.0000 - val_loss: 0.1073 - val_accuracy: 0.9875\n",
      "Epoch 35/40\n",
      " - 1s - loss: 3.1642e-05 - accuracy: 1.0000 - val_loss: 0.1118 - val_accuracy: 0.9750\n",
      "Epoch 36/40\n",
      " - 1s - loss: 2.8683e-05 - accuracy: 1.0000 - val_loss: 0.1099 - val_accuracy: 0.9875\n",
      "Epoch 37/40\n",
      " - 1s - loss: 2.5860e-05 - accuracy: 1.0000 - val_loss: 0.1109 - val_accuracy: 0.9750\n",
      "Epoch 38/40\n",
      " - 1s - loss: 2.3594e-05 - accuracy: 1.0000 - val_loss: 0.1106 - val_accuracy: 0.9875\n",
      "Epoch 39/40\n",
      " - 1s - loss: 2.1862e-05 - accuracy: 1.0000 - val_loss: 0.1123 - val_accuracy: 0.9875\n",
      "Epoch 40/40\n",
      " - 1s - loss: 2.0329e-05 - accuracy: 1.0000 - val_loss: 0.1131 - val_accuracy: 0.9750\n"
     ]
    }
   ],
   "source": [
    "history = model.fit(X_train, y_train_e ,\n",
    "                        batch_size=20,\n",
    "                        epochs=40,\n",
    "                        verbose=2,\n",
    "                        validation_data=(X_val, y_val_e ))"
   ]
  },
  {
   "cell_type": "code",
   "execution_count": 212,
   "metadata": {},
   "outputs": [
    {
     "name": "stdout",
     "output_type": "stream",
     "text": [
      "80/80 [==============================] - 0s 512us/step\n"
     ]
    },
    {
     "data": {
      "text/plain": [
       "[0.11312396824359894, 0.9750000238418579]"
      ]
     },
     "execution_count": 212,
     "metadata": {},
     "output_type": "execute_result"
    }
   ],
   "source": [
    "model.evaluate(X_val, y_val_e)"
   ]
  },
  {
   "cell_type": "code",
   "execution_count": 215,
   "metadata": {},
   "outputs": [
    {
     "name": "stdout",
     "output_type": "stream",
     "text": [
      "Model: \"sequential_22\"\n",
      "_________________________________________________________________\n",
      "Layer (type)                 Output Shape              Param #   \n",
      "=================================================================\n",
      "conv1_1 (Conv2D)             (None, 32, 32, 32)        320       \n",
      "_________________________________________________________________\n",
      "conv2d_32 (Conv2D)           (None, 32, 32, 32)        9248      \n",
      "_________________________________________________________________\n",
      "max_pooling2d_41 (MaxPooling (None, 16, 16, 32)        0         \n",
      "_________________________________________________________________\n",
      "conv2d_33 (Conv2D)           (None, 16, 16, 32)        9248      \n",
      "_________________________________________________________________\n",
      "conv2d_34 (Conv2D)           (None, 16, 16, 32)        9248      \n",
      "_________________________________________________________________\n",
      "max_pooling2d_42 (MaxPooling (None, 8, 8, 32)          0         \n",
      "_________________________________________________________________\n",
      "flatten_21 (Flatten)         (None, 2048)              0         \n",
      "_________________________________________________________________\n",
      "dense_43 (Dense)             (None, 1024)              2098176   \n",
      "_________________________________________________________________\n",
      "dense_44 (Dense)             (None, 512)               524800    \n",
      "_________________________________________________________________\n",
      "dense_45 (Dense)             (None, 40)                20520     \n",
      "=================================================================\n",
      "Total params: 2,671,560\n",
      "Trainable params: 2,671,560\n",
      "Non-trainable params: 0\n",
      "_________________________________________________________________\n",
      "<class 'list'>\n"
     ]
    }
   ],
   "source": [
    "model.summary()\n",
    "print(type(model.layers))"
   ]
  },
  {
   "cell_type": "code",
   "execution_count": 70,
   "metadata": {},
   "outputs": [
    {
     "name": "stdout",
     "output_type": "stream",
     "text": [
      "conv1_1\n",
      "max_pooling2d_27\n",
      "conv2d_25\n",
      "max_pooling2d_28\n",
      "flatten_14\n",
      "dense_27\n",
      "dense_28\n",
      "conv1_1\n"
     ]
    }
   ],
   "source": [
    "for layer in model.layers:\n",
    "    print(layer.name)\n",
    "\n",
    "print(model.layers[0].name)"
   ]
  },
  {
   "cell_type": "code",
   "execution_count": 99,
   "metadata": {},
   "outputs": [
    {
     "name": "stdout",
     "output_type": "stream",
     "text": [
      "2\n",
      "(3, 3, 1, 16)\n",
      "(16,)\n"
     ]
    }
   ],
   "source": [
    "W = model.layers[0].get_weights()\n",
    "print(len(W))\n",
    "print(W[0].shape)\n",
    "print(W[1].shape)"
   ]
  },
  {
   "cell_type": "code",
   "execution_count": 83,
   "metadata": {},
   "outputs": [],
   "source": [
    "filters = W[0]"
   ]
  },
  {
   "cell_type": "code",
   "execution_count": 161,
   "metadata": {},
   "outputs": [
    {
     "name": "stdout",
     "output_type": "stream",
     "text": [
      "[[0.07678232 0.34190795 0.146504  ]\n",
      " [0.14134705 0.43327117 0.39510193]\n",
      " [0.4205303  0.18616171 0.49230945]]\n",
      "[[-0.07157938  0.28079307  0.20438272]\n",
      " [ 0.28405577  0.13809189  0.35002577]\n",
      " [ 0.18982638  0.34501594  0.18919358]]\n"
     ]
    }
   ],
   "source": [
    "f1= filters[:,:,0, 0]\n",
    "print(f1)\n",
    "f2= filters[:,:,0, 1]\n",
    "print(f2)"
   ]
  },
  {
   "cell_type": "code",
   "execution_count": 86,
   "metadata": {},
   "outputs": [
    {
     "name": "stdout",
     "output_type": "stream",
     "text": [
      "[]\n"
     ]
    }
   ],
   "source": [
    "# max pooling\n",
    "print( model.layers[1].get_weights())"
   ]
  },
  {
   "cell_type": "code",
   "execution_count": 162,
   "metadata": {},
   "outputs": [
    {
     "name": "stdout",
     "output_type": "stream",
     "text": [
      "(3, 3, 16, 32)\n",
      "[[-0.03682064 -0.00074931  0.05236206]\n",
      " [-0.06017359  0.00503225 -0.10840616]\n",
      " [ 0.01368103 -0.11158139  0.06894418]]\n"
     ]
    },
    {
     "data": {
      "text/plain": [
       "<matplotlib.image.AxesImage at 0x1ba1d230c88>"
      ]
     },
     "execution_count": 162,
     "metadata": {},
     "output_type": "execute_result"
    },
    {
     "data": {
      "image/png": "[encoded data removed]",
      "text/plain": [
       "<Figure size 432x288 with 1 Axes>"
      ]
     },
     "metadata": {
      "needs_background": "light"
     },
     "output_type": "display_data"
    }
   ],
   "source": [
    "W2 = model.layers[2].get_weights()\n",
    "filters = W2[0]\n",
    "print(filters.shape)\n",
    "\n",
    "f1= filters[:,:,0, 0]\n",
    "print(f1)\n",
    "\n",
    "plt.imshow(f1, cmap='gray')"
   ]
  },
  {
   "cell_type": "code",
   "execution_count": 173,
   "metadata": {},
   "outputs": [],
   "source": [
    "from keras.models import Model\n",
    "\n",
    "model2 = Model(inputs=model.inputs, outputs=model.layers[0].output)"
   ]
  },
  {
   "cell_type": "code",
   "execution_count": 178,
   "metadata": {},
   "outputs": [
    {
     "name": "stdout",
     "output_type": "stream",
     "text": [
      "(28, 28, 1)\n",
      "(1, 28, 28, 1)\n"
     ]
    }
   ],
   "source": [
    "l = X_train[0,:,:,:]\n",
    "print(l.shape)\n",
    "\n",
    "l = X_train[200:201,:,:,:]\n",
    "print(l.shape)"
   ]
  },
  {
   "cell_type": "code",
   "execution_count": 179,
   "metadata": {},
   "outputs": [
    {
     "data": {
      "text/plain": [
       "<matplotlib.image.AxesImage at 0x1ba1d402f08>"
      ]
     },
     "execution_count": 179,
     "metadata": {},
     "output_type": "execute_result"
    },
    {
     "data": {
      "image/png": "[encoded data removed]",
      "text/plain": [
       "<Figure size 432x288 with 1 Axes>"
      ]
     },
     "metadata": {
      "needs_background": "light"
     },
     "output_type": "display_data"
    }
   ],
   "source": [
    "plt.imshow(l[0, :,:,0], cmap='gray')"
   ]
  },
  {
   "cell_type": "code",
   "execution_count": 110,
   "metadata": {},
   "outputs": [
    {
     "name": "stdout",
     "output_type": "stream",
     "text": [
      "[[1 2 3]\n",
      " [4 5 6]]\n",
      "1\n",
      "[[1]]\n"
     ]
    }
   ],
   "source": [
    "A = np.array([[1,2,3], [4,5,6]])\n",
    "print(A)\n",
    "print( A[0, 0])\n",
    "print( A[0:1, 0:1])"
   ]
  },
  {
   "cell_type": "code",
   "execution_count": 180,
   "metadata": {},
   "outputs": [
    {
     "name": "stdout",
     "output_type": "stream",
     "text": [
      "(1, 28, 28, 16)\n"
     ]
    },
    {
     "data": {
      "text/plain": [
       "<matplotlib.image.AxesImage at 0x1ba1d51cd08>"
      ]
     },
     "execution_count": 180,
     "metadata": {},
     "output_type": "execute_result"
    },
    {
     "data": {
      "image/png": "[encoded data removed]",
      "text/plain": [
       "<Figure size 432x288 with 2 Axes>"
      ]
     },
     "metadata": {
      "needs_background": "light"
     },
     "output_type": "display_data"
    }
   ],
   "source": [
    "feature_maps = model2.predict(l)\n",
    "\n",
    "print(feature_maps.shape)\n",
    "\n",
    "img = feature_maps[0, :,:, 0]\n",
    "\n",
    "plt.subplot(121)\n",
    "plt.imshow(l[0, :,:,0], cmap='gray')\n",
    "plt.subplot(122)\n",
    "plt.imshow(img, cmap='gray')"
   ]
  },
  {
   "cell_type": "code",
   "execution_count": 146,
   "metadata": {},
   "outputs": [
    {
     "name": "stdout",
     "output_type": "stream",
     "text": [
      "[[ 0.05764334  0.0188739   0.15785088]\n",
      " [-0.15046956 -0.18231577 -0.18899447]\n",
      " [-0.05983679 -0.18051739 -0.15247342]]\n",
      "[[0. 0. 0. 0. 0. 0. 0. 0. 0. 0. 0. 0. 0. 0. 0. 0. 0. 0. 0. 0. 0. 0. 0. 0.\n",
      "  0. 0.]\n",
      " [0. 0. 0. 0. 0. 0. 0. 0. 0. 0. 0. 0. 0. 0. 0. 0. 0. 0. 0. 0. 0. 0. 0. 0.\n",
      "  0. 0.]\n",
      " [0. 0. 0. 0. 0. 0. 0. 0. 0. 0. 0. 0. 0. 0. 0. 0. 0. 0. 0. 0. 0. 0. 0. 0.\n",
      "  0. 0.]\n",
      " [0. 0. 0. 0. 0. 0. 0. 0. 0. 0. 0. 0. 0. 0. 0. 0. 0. 0. 0. 0. 0. 0. 0. 0.\n",
      "  0. 0.]\n",
      " [0. 0. 0. 0. 0. 0. 0. 0. 0. 0. 0. 0. 0. 0. 0. 0. 0. 0. 0. 0. 0. 0. 0. 0.\n",
      "  0. 0.]\n",
      " [0. 0. 0. 0. 0. 0. 0. 0. 0. 0. 0. 0. 0. 0. 0. 0. 0. 0. 0. 0. 0. 0. 0. 0.\n",
      "  0. 0.]\n",
      " [0. 0. 0. 0. 0. 0. 0. 0. 0. 0. 0. 0. 0. 0. 0. 0. 0. 0. 0. 0. 0. 0. 0. 0.\n",
      "  0. 0.]\n",
      " [0. 0. 0. 0. 0. 0. 0. 0. 0. 0. 0. 0. 0. 0. 0. 0. 0. 0. 0. 0. 0. 0. 0. 0.\n",
      "  0. 0.]\n",
      " [0. 0. 0. 0. 0. 0. 0. 0. 0. 0. 0. 0. 0. 0. 0. 0. 0. 0. 0. 0. 0. 0. 0. 0.\n",
      "  0. 0.]\n",
      " [0. 0. 0. 0. 0. 0. 0. 0. 0. 0. 0. 0. 0. 0. 0. 0. 0. 0. 0. 0. 0. 0. 0. 0.\n",
      "  0. 0.]\n",
      " [0. 0. 0. 0. 0. 0. 0. 0. 0. 0. 0. 0. 0. 0. 0. 0. 0. 0. 0. 0. 0. 0. 0. 0.\n",
      "  0. 0.]\n",
      " [0. 0. 0. 0. 0. 0. 0. 0. 0. 0. 0. 0. 0. 0. 0. 0. 0. 0. 0. 0. 0. 0. 0. 0.\n",
      "  0. 0.]\n",
      " [0. 0. 0. 0. 0. 0. 0. 0. 0. 0. 0. 0. 0. 0. 0. 0. 0. 0. 0. 0. 0. 0. 0. 0.\n",
      "  0. 0.]\n",
      " [0. 0. 0. 0. 0. 0. 0. 0. 0. 0. 0. 0. 0. 0. 0. 0. 0. 0. 0. 0. 0. 0. 0. 0.\n",
      "  0. 0.]\n",
      " [0. 0. 0. 0. 0. 0. 0. 0. 0. 0. 0. 0. 0. 0. 0. 0. 0. 0. 0. 0. 0. 0. 0. 0.\n",
      "  0. 0.]\n",
      " [0. 0. 0. 0. 0. 0. 0. 0. 0. 0. 0. 0. 0. 0. 0. 0. 0. 0. 0. 0. 0. 0. 0. 0.\n",
      "  0. 0.]\n",
      " [0. 0. 0. 0. 0. 0. 0. 0. 0. 0. 0. 0. 0. 0. 0. 0. 0. 0. 0. 0. 0. 0. 0. 0.\n",
      "  0. 0.]\n",
      " [0. 0. 0. 0. 0. 0. 0. 0. 0. 0. 0. 0. 0. 0. 0. 0. 0. 0. 0. 0. 0. 0. 0. 0.\n",
      "  0. 0.]\n",
      " [0. 0. 0. 0. 0. 0. 0. 0. 0. 0. 0. 0. 0. 0. 0. 0. 0. 0. 0. 0. 0. 0. 0. 0.\n",
      "  0. 0.]\n",
      " [0. 0. 0. 0. 0. 0. 0. 0. 0. 0. 0. 0. 0. 0. 0. 0. 0. 0. 0. 0. 0. 0. 0. 0.\n",
      "  0. 0.]\n",
      " [0. 0. 0. 0. 0. 0. 0. 0. 0. 0. 0. 0. 0. 0. 0. 0. 0. 0. 0. 0. 0. 0. 0. 0.\n",
      "  0. 0.]\n",
      " [0. 0. 0. 0. 0. 0. 0. 0. 0. 0. 0. 0. 0. 0. 0. 0. 0. 0. 0. 0. 0. 0. 0. 0.\n",
      "  0. 0.]\n",
      " [0. 0. 0. 0. 0. 0. 0. 0. 0. 0. 0. 0. 0. 0. 0. 0. 0. 0. 0. 0. 0. 0. 0. 0.\n",
      "  0. 0.]\n",
      " [0. 0. 0. 0. 0. 0. 0. 0. 0. 0. 0. 0. 0. 0. 0. 0. 0. 0. 0. 0. 0. 0. 0. 0.\n",
      "  0. 0.]\n",
      " [0. 0. 0. 0. 0. 0. 0. 0. 0. 0. 0. 0. 0. 0. 0. 0. 0. 0. 0. 0. 0. 0. 0. 0.\n",
      "  0. 0.]\n",
      " [0. 0. 0. 0. 0. 0. 0. 0. 0. 0. 0. 0. 0. 0. 0. 0. 0. 0. 0. 0. 0. 0. 0. 0.\n",
      "  0. 0.]]\n"
     ]
    }
   ],
   "source": [
    "W2 = model.layers[0].get_weights()\n",
    "filters = W2[0]\n",
    "f1= filters[:,:,0, 2]\n",
    "print(f1)\n",
    "\n",
    "img = feature_maps[0, :,:, 2]\n",
    "print(img)"
   ]
  },
  {
   "cell_type": "code",
   "execution_count": 181,
   "metadata": {},
   "outputs": [
    {
     "data": {
      "image/png": "[encoded data removed]",
      "text/plain": [
       "<Figure size 432x288 with 16 Axes>"
      ]
     },
     "metadata": {},
     "output_type": "display_data"
    }
   ],
   "source": [
    "for ix in range(16) :\n",
    "    ax = plt.subplot(4,4, ix+1)     \n",
    "    fm = feature_maps[0,:,:,ix]\n",
    "    plt.imshow(fm, cmap='gray')  \n",
    "    ax.set_xticks([])\n",
    "    ax.set_yticks([])"
   ]
  },
  {
   "cell_type": "code",
   "execution_count": 219,
   "metadata": {},
   "outputs": [
    {
     "name": "stdout",
     "output_type": "stream",
     "text": [
      "(1, 16, 16, 32)\n"
     ]
    },
    {
     "data": {
      "image/png": "[encoded data removed]",
      "text/plain": [
       "<Figure size 432x288 with 32 Axes>"
      ]
     },
     "metadata": {},
     "output_type": "display_data"
    }
   ],
   "source": [
    "model3 = Model(inputs=model.inputs, outputs=model.layers[4].output)\n",
    "l = X_train[187:188,:,:,:]\n",
    "feature_maps = model3.predict(l)\n",
    "print(feature_maps.shape)\n",
    "\n",
    "for ix in range(32) :\n",
    "    ax = plt.subplot(4, 8, ix+1)     \n",
    "    fm = feature_maps[0,:,:,ix]\n",
    "    plt.imshow(fm, cmap='gray')  \n",
    "    ax.set_xticks([])\n",
    "    ax.set_yticks([])"
   ]
  },
  {
   "cell_type": "code",
   "execution_count": 225,
   "metadata": {},
   "outputs": [
    {
     "data": {
      "text/plain": [
       "[<matplotlib.lines.Line2D at 0x1ba1f847d88>]"
      ]
     },
     "execution_count": 225,
     "metadata": {},
     "output_type": "execute_result"
    },
    {
     "data": {
      "image/png": "[encoded data removed]",
      "text/plain": [
       "<Figure size 432x288 with 1 Axes>"
      ]
     },
     "metadata": {
      "needs_background": "light"
     },
     "output_type": "display_data"
    }
   ],
   "source": [
    "p = model.predict(X_val)\n",
    "\n",
    "p = np.max(p, axis=1)\n",
    "\n",
    "plt.plot(p)"
   ]
  },
  {
   "cell_type": "code",
   "execution_count": 231,
   "metadata": {},
   "outputs": [
    {
     "name": "stdout",
     "output_type": "stream",
     "text": [
      "[0.16666667 0.16666667 0.16666667 0.16666667 0.33333333]\n",
      "[0.93333333 0.01333333 0.01333333 0.01333333 0.02666667]\n"
     ]
    }
   ],
   "source": [
    "p = [0.01, 0.01, 0.01, 0.01, 0.02]\n",
    "p =p / np.sum(p)\n",
    "print(p)\n",
    "\n",
    "p = [0.7, 0.01, 0.01, 0.01, 0.02]\n",
    "p =p / np.sum(p)\n",
    "print(p)\n",
    "\n"
   ]
  },
  {
   "cell_type": "code",
   "execution_count": 244,
   "metadata": {},
   "outputs": [
    {
     "name": "stdout",
     "output_type": "stream",
     "text": [
      "Train on 320 samples, validate on 80 samples\n",
      "Epoch 1/50\n",
      "320/320 [==============================] - 1s 4ms/step - loss: 3.0411 - accuracy: 0.2969 - val_loss: 33.0497 - val_accuracy: 0.0500\n",
      "Epoch 2/50\n",
      "320/320 [==============================] - 1s 2ms/step - loss: 0.8232 - accuracy: 0.7844 - val_loss: 23.6028 - val_accuracy: 0.0625\n",
      "Epoch 3/50\n",
      "320/320 [==============================] - 1s 2ms/step - loss: 0.1832 - accuracy: 0.9625 - val_loss: 21.2789 - val_accuracy: 0.0625\n",
      "Epoch 4/50\n",
      "320/320 [==============================] - 1s 2ms/step - loss: 0.0448 - accuracy: 0.9906 - val_loss: 13.1868 - val_accuracy: 0.0625\n",
      "Epoch 5/50\n",
      "320/320 [==============================] - 1s 2ms/step - loss: 0.0474 - accuracy: 0.9875 - val_loss: 9.8875 - val_accuracy: 0.0875\n",
      "Epoch 6/50\n",
      "320/320 [==============================] - 1s 2ms/step - loss: 0.0403 - accuracy: 0.9906 - val_loss: 8.4116 - val_accuracy: 0.1250\n",
      "Epoch 7/50\n",
      "320/320 [==============================] - 1s 2ms/step - loss: 0.0165 - accuracy: 0.9969 - val_loss: 6.1795 - val_accuracy: 0.2000\n",
      "Epoch 8/50\n",
      "320/320 [==============================] - 1s 2ms/step - loss: 0.0159 - accuracy: 0.9969 - val_loss: 4.2474 - val_accuracy: 0.3250\n",
      "Epoch 9/50\n",
      "320/320 [==============================] - 1s 2ms/step - loss: 0.0101 - accuracy: 1.0000 - val_loss: 2.2110 - val_accuracy: 0.4500\n",
      "Epoch 10/50\n",
      "320/320 [==============================] - 1s 2ms/step - loss: 0.0036 - accuracy: 1.0000 - val_loss: 0.9931 - val_accuracy: 0.7625\n",
      "Epoch 11/50\n",
      "320/320 [==============================] - 1s 2ms/step - loss: 0.0023 - accuracy: 1.0000 - val_loss: 0.6654 - val_accuracy: 0.8375\n",
      "Epoch 12/50\n",
      "320/320 [==============================] - 1s 2ms/step - loss: 0.0031 - accuracy: 1.0000 - val_loss: 0.5012 - val_accuracy: 0.8750\n",
      "Epoch 13/50\n",
      "320/320 [==============================] - 1s 2ms/step - loss: 0.0019 - accuracy: 1.0000 - val_loss: 0.3924 - val_accuracy: 0.8750\n",
      "Epoch 14/50\n",
      "320/320 [==============================] - 1s 2ms/step - loss: 0.0028 - accuracy: 1.0000 - val_loss: 0.2965 - val_accuracy: 0.9125\n",
      "Epoch 15/50\n",
      "320/320 [==============================] - 1s 2ms/step - loss: 0.0020 - accuracy: 1.0000 - val_loss: 0.2422 - val_accuracy: 0.9375\n",
      "Epoch 16/50\n",
      "320/320 [==============================] - 1s 2ms/step - loss: 0.0015 - accuracy: 1.0000 - val_loss: 0.2116 - val_accuracy: 0.9375\n",
      "Epoch 17/50\n",
      "320/320 [==============================] - 1s 2ms/step - loss: 0.0018 - accuracy: 1.0000 - val_loss: 0.1812 - val_accuracy: 0.9500\n",
      "Epoch 18/50\n",
      "320/320 [==============================] - 1s 2ms/step - loss: 0.0012 - accuracy: 1.0000 - val_loss: 0.1436 - val_accuracy: 0.9500\n",
      "Epoch 19/50\n",
      "320/320 [==============================] - 1s 2ms/step - loss: 0.0011 - accuracy: 1.0000 - val_loss: 0.1253 - val_accuracy: 0.9625\n",
      "Epoch 20/50\n",
      "320/320 [==============================] - 1s 2ms/step - loss: 0.0023 - accuracy: 1.0000 - val_loss: 0.1163 - val_accuracy: 0.9625\n",
      "Epoch 21/50\n",
      "320/320 [==============================] - 1s 2ms/step - loss: 0.0013 - accuracy: 1.0000 - val_loss: 0.1149 - val_accuracy: 0.9625\n",
      "Epoch 22/50\n",
      "320/320 [==============================] - 1s 2ms/step - loss: 0.0025 - accuracy: 1.0000 - val_loss: 0.2257 - val_accuracy: 0.9125\n",
      "Epoch 23/50\n",
      "320/320 [==============================] - 1s 2ms/step - loss: 0.0044 - accuracy: 1.0000 - val_loss: 0.1056 - val_accuracy: 0.9750\n",
      "Epoch 24/50\n",
      "320/320 [==============================] - 1s 2ms/step - loss: 0.0017 - accuracy: 1.0000 - val_loss: 0.0763 - val_accuracy: 1.0000\n",
      "Epoch 25/50\n",
      "320/320 [==============================] - 1s 2ms/step - loss: 0.0042 - accuracy: 0.9969 - val_loss: 0.0854 - val_accuracy: 0.9875\n",
      "Epoch 26/50\n",
      "320/320 [==============================] - 1s 2ms/step - loss: 0.0120 - accuracy: 0.9969 - val_loss: 0.2652 - val_accuracy: 0.9125\n",
      "Epoch 27/50\n",
      "320/320 [==============================] - 1s 2ms/step - loss: 0.0052 - accuracy: 1.0000 - val_loss: 0.2218 - val_accuracy: 0.9375\n",
      "Epoch 28/50\n",
      "320/320 [==============================] - 1s 2ms/step - loss: 0.0046 - accuracy: 1.0000 - val_loss: 0.1462 - val_accuracy: 0.9750\n",
      "Epoch 29/50\n",
      "320/320 [==============================] - 1s 2ms/step - loss: 0.0014 - accuracy: 1.0000 - val_loss: 0.1446 - val_accuracy: 0.9750\n",
      "Epoch 30/50\n",
      "320/320 [==============================] - 1s 2ms/step - loss: 0.0023 - accuracy: 1.0000 - val_loss: 0.1427 - val_accuracy: 0.9500\n",
      "Epoch 31/50\n",
      "320/320 [==============================] - 1s 2ms/step - loss: 0.0013 - accuracy: 1.0000 - val_loss: 0.1608 - val_accuracy: 0.9375\n",
      "Epoch 32/50\n",
      "320/320 [==============================] - 1s 2ms/step - loss: 0.0031 - accuracy: 1.0000 - val_loss: 0.1413 - val_accuracy: 0.9500\n",
      "Epoch 33/50\n",
      "320/320 [==============================] - 1s 2ms/step - loss: 0.0030 - accuracy: 1.0000 - val_loss: 0.1908 - val_accuracy: 0.9375\n",
      "Epoch 34/50\n",
      "320/320 [==============================] - 1s 2ms/step - loss: 0.0011 - accuracy: 1.0000 - val_loss: 0.1871 - val_accuracy: 0.9500\n",
      "Epoch 35/50\n",
      "320/320 [==============================] - 1s 2ms/step - loss: 0.0012 - accuracy: 1.0000 - val_loss: 0.1684 - val_accuracy: 0.9375\n",
      "Epoch 36/50\n",
      "320/320 [==============================] - 1s 2ms/step - loss: 0.0013 - accuracy: 1.0000 - val_loss: 0.1493 - val_accuracy: 0.9375\n",
      "Epoch 37/50\n",
      "320/320 [==============================] - 1s 2ms/step - loss: 5.0927e-04 - accuracy: 1.0000 - val_loss: 0.1316 - val_accuracy: 0.9375\n",
      "Epoch 38/50\n",
      "320/320 [==============================] - 1s 2ms/step - loss: 4.7389e-04 - accuracy: 1.0000 - val_loss: 0.1263 - val_accuracy: 0.9375\n",
      "Epoch 39/50\n",
      "320/320 [==============================] - 1s 2ms/step - loss: 2.9012e-04 - accuracy: 1.0000 - val_loss: 0.1229 - val_accuracy: 0.9375\n",
      "Epoch 40/50\n",
      "320/320 [==============================] - 1s 2ms/step - loss: 4.2794e-04 - accuracy: 1.0000 - val_loss: 0.1210 - val_accuracy: 0.9375\n",
      "Epoch 41/50\n",
      "320/320 [==============================] - 1s 2ms/step - loss: 5.3589e-04 - accuracy: 1.0000 - val_loss: 0.1138 - val_accuracy: 0.9375\n",
      "Epoch 42/50\n",
      "320/320 [==============================] - 1s 2ms/step - loss: 1.9217e-04 - accuracy: 1.0000 - val_loss: 0.1113 - val_accuracy: 0.9375\n",
      "Epoch 43/50\n",
      "320/320 [==============================] - 1s 2ms/step - loss: 5.0216e-04 - accuracy: 1.0000 - val_loss: 0.1134 - val_accuracy: 0.9500\n",
      "Epoch 44/50\n",
      "320/320 [==============================] - 1s 2ms/step - loss: 2.0879e-04 - accuracy: 1.0000 - val_loss: 0.1136 - val_accuracy: 0.9500\n",
      "Epoch 45/50\n",
      "320/320 [==============================] - 1s 2ms/step - loss: 3.0280e-04 - accuracy: 1.0000 - val_loss: 0.1150 - val_accuracy: 0.9500\n",
      "Epoch 46/50\n",
      "320/320 [==============================] - 1s 2ms/step - loss: 3.3409e-04 - accuracy: 1.0000 - val_loss: 0.1187 - val_accuracy: 0.9500\n",
      "Epoch 47/50\n",
      "320/320 [==============================] - 1s 2ms/step - loss: 1.4298e-04 - accuracy: 1.0000 - val_loss: 0.1211 - val_accuracy: 0.9500\n",
      "Epoch 48/50\n",
      "320/320 [==============================] - 1s 2ms/step - loss: 1.9098e-04 - accuracy: 1.0000 - val_loss: 0.1200 - val_accuracy: 0.9500\n",
      "Epoch 49/50\n",
      "320/320 [==============================] - 1s 2ms/step - loss: 4.3145e-04 - accuracy: 1.0000 - val_loss: 0.1217 - val_accuracy: 0.9500\n",
      "Epoch 50/50\n",
      "320/320 [==============================] - 1s 2ms/step - loss: 3.6122e-04 - accuracy: 1.0000 - val_loss: 0.1233 - val_accuracy: 0.9625\n",
      "80/80 [==============================] - 0s 462us/step\n"
     ]
    },
    {
     "data": {
      "text/plain": [
       "[0.12327032312750816, 0.9624999761581421]"
      ]
     },
     "execution_count": 244,
     "metadata": {},
     "output_type": "execute_result"
    }
   ],
   "source": [
    "X_train, X_val, y_train, y_val = train_test_split(data, target, test_size = 0.2)\n",
    "X_train = X_train.reshape(-1, 32, 32, 1)\n",
    "X_val = X_val.reshape(-1, 32, 32, 1)\n",
    "y_train_e = utils.to_categorical(y_train, 40)\n",
    "y_val_e = utils.to_categorical(y_val, 40)\n",
    "\n",
    "input_shape = (32, 32, 1)\n",
    "model = Sequential()\n",
    "model.add(Conv2D(32, kernel_size=(3, 3), padding = 'same',\n",
    "                     activation='relu',input_shape=input_shape, name=\"conv1_1\"))\n",
    "model.add(MaxPooling2D(pool_size=(2, 2)))\n",
    "\n",
    "model.add(Conv2D(32, kernel_size=(3, 3), padding = 'same',\n",
    "                     activation='relu'))\n",
    "model.add(MaxPooling2D(pool_size=(2, 2)))\n",
    "\n",
    "model.add(Flatten())\n",
    "\n",
    "model.add(Dense(512, activation='relu')) \n",
    "model.add(Dense(40, activation='softmax'))\n",
    "model.compile(loss='categorical_crossentropy',  optimizer='adam', metrics=['accuracy'])\n",
    "\n",
    "history = model.fit(X_train, y_train_e ,\n",
    "                        batch_size=20,\n",
    "                        epochs=50,\n",
    "                        verbose=1,\n",
    "                        validation_data=(X_val, y_val_e ))\n",
    "model.evaluate(X_val, y_val_e)"
   ]
  },
  {
   "cell_type": "code",
   "execution_count": 251,
   "metadata": {},
   "outputs": [
    {
     "name": "stdout",
     "output_type": "stream",
     "text": [
      "[0.125 1.    0.25  0.625 0.25  0.25  0.625]\n",
      "[-25.71428571  44.28571429 -15.71428571  14.28571429 -15.71428571\n",
      " -15.71428571  14.28571429]\n",
      "-1.0150610510858574e-15\n",
      "23.211538298959887\n",
      "[-0.47896718 -0.28846887 -0.45175313 -0.370111    2.79216093  0.07075651\n",
      " -0.45175313 -0.45175313 -0.370111  ]\n",
      "-1.850371707708594e-17\n",
      "1.0\n"
     ]
    }
   ],
   "source": [
    "d = np.array([10,80,20,50,20,20,50])\n",
    "n = d / np.max(d)\n",
    "print(n)\n",
    "\n",
    "n = d - np.mean(d)\n",
    "print(n)\n",
    "\n",
    "print(np.mean(n))\n",
    "print(np.std(n))\n",
    "\n",
    "d = np.array([10,80,20,50,1212, 212, 20,20,50])\n",
    "n = ( d - np.mean(d) ) / np.std(d)\n",
    "print(n)\n",
    "\n",
    "print(np.mean(n))\n",
    "print(np.std(n))\n"
   ]
  },
  {
   "cell_type": "code",
   "execution_count": 254,
   "metadata": {},
   "outputs": [],
   "source": [
    "X_train, X_val, y_train, y_val =     train_test_split(data, target, test_size = 0.2)\n",
    "X_train = X_train.reshape(-1, 32, 32, 1)\n",
    "X_val = X_val.reshape(-1, 32, 32, 1)\n",
    "y_train_e = utils.to_categorical(y_train, 40)\n",
    "y_val_e = utils.to_categorical(y_val, 40)"
   ]
  },
  {
   "cell_type": "code",
   "execution_count": 255,
   "metadata": {},
   "outputs": [
    {
     "name": "stdout",
     "output_type": "stream",
     "text": [
      "Model: \"sequential_32\"\n",
      "_________________________________________________________________\n",
      "Layer (type)                 Output Shape              Param #   \n",
      "=================================================================\n",
      "conv1_1 (Conv2D)             (None, 32, 32, 32)        320       \n",
      "_________________________________________________________________\n",
      "max_pooling2d_61 (MaxPooling (None, 16, 16, 32)        0         \n",
      "_________________________________________________________________\n",
      "batch_normalization_19 (Batc (None, 16, 16, 32)        128       \n",
      "_________________________________________________________________\n",
      "conv2d_44 (Conv2D)           (None, 16, 16, 32)        9248      \n",
      "_________________________________________________________________\n",
      "max_pooling2d_62 (MaxPooling (None, 8, 8, 32)          0         \n",
      "_________________________________________________________________\n",
      "batch_normalization_20 (Batc (None, 8, 8, 32)          128       \n",
      "_________________________________________________________________\n",
      "flatten_30 (Flatten)         (None, 2048)              0         \n",
      "_________________________________________________________________\n",
      "dense_62 (Dense)             (None, 512)               1049088   \n",
      "_________________________________________________________________\n",
      "batch_normalization_21 (Batc (None, 512)               2048      \n",
      "_________________________________________________________________\n",
      "dense_63 (Dense)             (None, 40)                20520     \n",
      "=================================================================\n",
      "Total params: 1,081,480\n",
      "Trainable params: 1,080,328\n",
      "Non-trainable params: 1,152\n",
      "_________________________________________________________________\n",
      "Train on 320 samples, validate on 80 samples\n",
      "Epoch 1/50\n",
      "320/320 [==============================] - 1s 4ms/step - loss: 2.1883 - accuracy: 0.4938 - val_loss: 15.2972 - val_accuracy: 0.0875\n",
      "Epoch 2/50\n",
      "320/320 [==============================] - 1s 2ms/step - loss: 0.1642 - accuracy: 0.9750 - val_loss: 12.3397 - val_accuracy: 0.0500\n",
      "Epoch 3/50\n",
      "320/320 [==============================] - 1s 2ms/step - loss: 0.0290 - accuracy: 1.0000 - val_loss: 8.6102 - val_accuracy: 0.0125\n",
      "Epoch 4/50\n",
      "320/320 [==============================] - 1s 2ms/step - loss: 0.0141 - accuracy: 1.0000 - val_loss: 5.2514 - val_accuracy: 0.1375\n",
      "Epoch 5/50\n",
      "320/320 [==============================] - 1s 2ms/step - loss: 0.0086 - accuracy: 1.0000 - val_loss: 3.7656 - val_accuracy: 0.2875\n",
      "Epoch 6/50\n",
      "320/320 [==============================] - 1s 2ms/step - loss: 0.0078 - accuracy: 1.0000 - val_loss: 2.6642 - val_accuracy: 0.4000\n",
      "Epoch 7/50\n",
      "320/320 [==============================] - 1s 2ms/step - loss: 0.0050 - accuracy: 1.0000 - val_loss: 1.8462 - val_accuracy: 0.5125\n",
      "Epoch 8/50\n",
      "320/320 [==============================] - 1s 2ms/step - loss: 0.0045 - accuracy: 1.0000 - val_loss: 1.2678 - val_accuracy: 0.6375\n",
      "Epoch 9/50\n",
      "320/320 [==============================] - 1s 2ms/step - loss: 0.0040 - accuracy: 1.0000 - val_loss: 0.8257 - val_accuracy: 0.7000\n",
      "Epoch 10/50\n",
      "320/320 [==============================] - 1s 2ms/step - loss: 0.0031 - accuracy: 1.0000 - val_loss: 0.5366 - val_accuracy: 0.8500\n",
      "Epoch 11/50\n",
      "320/320 [==============================] - 1s 2ms/step - loss: 0.0027 - accuracy: 1.0000 - val_loss: 0.3602 - val_accuracy: 0.9125\n",
      "Epoch 12/50\n",
      "320/320 [==============================] - 1s 2ms/step - loss: 0.0024 - accuracy: 1.0000 - val_loss: 0.2590 - val_accuracy: 0.9125\n",
      "Epoch 13/50\n",
      "320/320 [==============================] - 1s 2ms/step - loss: 0.0024 - accuracy: 1.0000 - val_loss: 0.1990 - val_accuracy: 0.9375\n",
      "Epoch 14/50\n",
      "320/320 [==============================] - 1s 2ms/step - loss: 0.0026 - accuracy: 1.0000 - val_loss: 0.1672 - val_accuracy: 0.9500\n",
      "Epoch 15/50\n",
      "320/320 [==============================] - 1s 2ms/step - loss: 0.0020 - accuracy: 1.0000 - val_loss: 0.1470 - val_accuracy: 0.9500\n",
      "Epoch 16/50\n",
      "320/320 [==============================] - 1s 2ms/step - loss: 0.0019 - accuracy: 1.0000 - val_loss: 0.1321 - val_accuracy: 0.9625\n",
      "Epoch 17/50\n",
      "320/320 [==============================] - 1s 2ms/step - loss: 0.0017 - accuracy: 1.0000 - val_loss: 0.1227 - val_accuracy: 0.9625\n",
      "Epoch 18/50\n",
      "320/320 [==============================] - 1s 2ms/step - loss: 0.0016 - accuracy: 1.0000 - val_loss: 0.1175 - val_accuracy: 0.9625\n",
      "Epoch 19/50\n",
      "320/320 [==============================] - 1s 2ms/step - loss: 0.0014 - accuracy: 1.0000 - val_loss: 0.1144 - val_accuracy: 0.9625\n",
      "Epoch 20/50\n",
      "320/320 [==============================] - 1s 2ms/step - loss: 0.0014 - accuracy: 1.0000 - val_loss: 0.1063 - val_accuracy: 0.9625\n",
      "Epoch 21/50\n",
      "320/320 [==============================] - 1s 2ms/step - loss: 0.0013 - accuracy: 1.0000 - val_loss: 0.1046 - val_accuracy: 0.9625\n",
      "Epoch 22/50\n",
      "320/320 [==============================] - 1s 2ms/step - loss: 0.0013 - accuracy: 1.0000 - val_loss: 0.1062 - val_accuracy: 0.9625\n",
      "Epoch 23/50\n",
      "320/320 [==============================] - 1s 2ms/step - loss: 0.0011 - accuracy: 1.0000 - val_loss: 0.1068 - val_accuracy: 0.9625\n",
      "Epoch 24/50\n",
      "320/320 [==============================] - 1s 2ms/step - loss: 0.0011 - accuracy: 1.0000 - val_loss: 0.1041 - val_accuracy: 0.9625\n",
      "Epoch 25/50\n",
      "320/320 [==============================] - 1s 2ms/step - loss: 0.0010 - accuracy: 1.0000 - val_loss: 0.1024 - val_accuracy: 0.9625\n",
      "Epoch 26/50\n",
      "320/320 [==============================] - 1s 2ms/step - loss: 8.8191e-04 - accuracy: 1.0000 - val_loss: 0.1034 - val_accuracy: 0.9625\n",
      "Epoch 27/50\n",
      "320/320 [==============================] - 1s 2ms/step - loss: 8.4471e-04 - accuracy: 1.0000 - val_loss: 0.0999 - val_accuracy: 0.9625\n",
      "Epoch 28/50\n",
      "320/320 [==============================] - 1s 2ms/step - loss: 8.7624e-04 - accuracy: 1.0000 - val_loss: 0.1006 - val_accuracy: 0.9625\n",
      "Epoch 29/50\n",
      "320/320 [==============================] - 1s 2ms/step - loss: 7.9412e-04 - accuracy: 1.0000 - val_loss: 0.1014 - val_accuracy: 0.9625\n",
      "Epoch 30/50\n",
      "320/320 [==============================] - 1s 2ms/step - loss: 6.8637e-04 - accuracy: 1.0000 - val_loss: 0.1007 - val_accuracy: 0.9625\n",
      "Epoch 31/50\n",
      "320/320 [==============================] - 1s 2ms/step - loss: 8.8207e-04 - accuracy: 1.0000 - val_loss: 0.1022 - val_accuracy: 0.9625\n",
      "Epoch 32/50\n",
      "320/320 [==============================] - 1s 2ms/step - loss: 6.6366e-04 - accuracy: 1.0000 - val_loss: 0.1013 - val_accuracy: 0.9625\n",
      "Epoch 33/50\n",
      "320/320 [==============================] - 1s 2ms/step - loss: 6.6120e-04 - accuracy: 1.0000 - val_loss: 0.1006 - val_accuracy: 0.9625\n",
      "Epoch 34/50\n",
      "320/320 [==============================] - 1s 2ms/step - loss: 6.3085e-04 - accuracy: 1.0000 - val_loss: 0.1016 - val_accuracy: 0.9625\n",
      "Epoch 35/50\n",
      "320/320 [==============================] - 1s 2ms/step - loss: 6.7135e-04 - accuracy: 1.0000 - val_loss: 0.1030 - val_accuracy: 0.9625\n",
      "Epoch 36/50\n",
      "320/320 [==============================] - 1s 2ms/step - loss: 5.8358e-04 - accuracy: 1.0000 - val_loss: 0.1043 - val_accuracy: 0.9625\n",
      "Epoch 37/50\n",
      "320/320 [==============================] - 1s 2ms/step - loss: 6.5091e-04 - accuracy: 1.0000 - val_loss: 0.1045 - val_accuracy: 0.9625\n",
      "Epoch 38/50\n",
      "320/320 [==============================] - 1s 2ms/step - loss: 6.2983e-04 - accuracy: 1.0000 - val_loss: 0.1046 - val_accuracy: 0.9500\n",
      "Epoch 39/50\n",
      "320/320 [==============================] - 1s 2ms/step - loss: 4.7100e-04 - accuracy: 1.0000 - val_loss: 0.1044 - val_accuracy: 0.9500\n",
      "Epoch 40/50\n",
      "320/320 [==============================] - 1s 2ms/step - loss: 5.1955e-04 - accuracy: 1.0000 - val_loss: 0.1043 - val_accuracy: 0.9500\n",
      "Epoch 41/50\n",
      "320/320 [==============================] - 1s 2ms/step - loss: 4.1654e-04 - accuracy: 1.0000 - val_loss: 0.1043 - val_accuracy: 0.9500\n",
      "Epoch 42/50\n",
      "320/320 [==============================] - 1s 2ms/step - loss: 4.0350e-04 - accuracy: 1.0000 - val_loss: 0.1031 - val_accuracy: 0.9500\n",
      "Epoch 43/50\n",
      "320/320 [==============================] - 1s 2ms/step - loss: 4.3360e-04 - accuracy: 1.0000 - val_loss: 0.1018 - val_accuracy: 0.9500\n",
      "Epoch 44/50\n",
      "320/320 [==============================] - 1s 2ms/step - loss: 4.5263e-04 - accuracy: 1.0000 - val_loss: 0.1023 - val_accuracy: 0.9500\n",
      "Epoch 45/50\n",
      "320/320 [==============================] - 1s 2ms/step - loss: 4.4452e-04 - accuracy: 1.0000 - val_loss: 0.1024 - val_accuracy: 0.9500\n",
      "Epoch 46/50\n",
      "320/320 [==============================] - 1s 2ms/step - loss: 4.3299e-04 - accuracy: 1.0000 - val_loss: 0.1032 - val_accuracy: 0.9500\n",
      "Epoch 47/50\n",
      "320/320 [==============================] - 1s 2ms/step - loss: 3.9866e-04 - accuracy: 1.0000 - val_loss: 0.1022 - val_accuracy: 0.9500\n",
      "Epoch 48/50\n",
      "320/320 [==============================] - 1s 2ms/step - loss: 4.5018e-04 - accuracy: 1.0000 - val_loss: 0.1032 - val_accuracy: 0.9500\n",
      "Epoch 49/50\n",
      "320/320 [==============================] - 1s 2ms/step - loss: 3.8546e-04 - accuracy: 1.0000 - val_loss: 0.1034 - val_accuracy: 0.9500\n",
      "Epoch 50/50\n",
      "320/320 [==============================] - 1s 2ms/step - loss: 3.9113e-04 - accuracy: 1.0000 - val_loss: 0.1023 - val_accuracy: 0.9500\n",
      "80/80 [==============================] - 0s 475us/step\n"
     ]
    },
    {
     "data": {
      "text/plain": [
       "[0.10227670818567276, 0.949999988079071]"
      ]
     },
     "execution_count": 255,
     "metadata": {},
     "output_type": "execute_result"
    }
   ],
   "source": [
    "input_shape = (32, 32, 1)\n",
    "model = Sequential()\n",
    "model.add(Conv2D(32, kernel_size=(3, 3), padding = 'same',\n",
    "                     activation='relu',input_shape=input_shape, name=\"conv1_1\"))\n",
    "model.add(MaxPooling2D(pool_size=(2, 2)))\n",
    "model.add(BatchNormalization())\n",
    "\n",
    "model.add(Conv2D(32, kernel_size=(3, 3), padding = 'same',\n",
    "                     activation='relu'))\n",
    "model.add(MaxPooling2D(pool_size=(2, 2)))\n",
    "model.add(BatchNormalization())\n",
    "\n",
    "model.add(Flatten())\n",
    "\n",
    "model.add(Dense(512, activation='relu')) \n",
    "model.add(BatchNormalization())\n",
    "\n",
    "model.add(Dense(40, activation='softmax'))\n",
    "model.compile(loss='categorical_crossentropy',  optimizer='adam', metrics=['accuracy'])\n",
    "model.summary()\n",
    "history = model.fit(X_train, y_train_e ,\n",
    "                        batch_size=20,\n",
    "                        epochs=50,\n",
    "                        verbose=1,\n",
    "                        validation_data=(X_val, y_val_e ))\n",
    "model.evaluate(X_val, y_val_e)"
   ]
  }
 ],
 "metadata": {
  "kernelspec": {
   "display_name": "Python 3",
   "language": "python",
   "name": "python3"
  },
  "language_info": {
   "codemirror_mode": {
    "name": "ipython",
    "version": 3
   },
   "file_extension": ".py",
   "mimetype": "text/x-python",
   "name": "python",
   "nbconvert_exporter": "python",
   "pygments_lexer": "ipython3",
   "version": "3.7.6"
  }
 },
 "nbformat": 4,
 "nbformat_minor": 4
}
