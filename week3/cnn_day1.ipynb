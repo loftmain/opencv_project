{
 "cells": [
  {
   "cell_type": "code",
   "execution_count": 4,
   "metadata": {},
   "outputs": [
    {
     "name": "stderr",
     "output_type": "stream",
     "text": [
      "Using TensorFlow backend.\n",
      "C:\\ProgramData\\Anaconda3\\lib\\site-packages\\tensorflow\\python\\framework\\dtypes.py:516: FutureWarning: Passing (type, 1) or '1type' as a synonym of type is deprecated; in a future version of numpy, it will be understood as (type, (1,)) / '(1,)type'.\n",
      "  _np_qint8 = np.dtype([(\"qint8\", np.int8, 1)])\n",
      "C:\\ProgramData\\Anaconda3\\lib\\site-packages\\tensorflow\\python\\framework\\dtypes.py:517: FutureWarning: Passing (type, 1) or '1type' as a synonym of type is deprecated; in a future version of numpy, it will be understood as (type, (1,)) / '(1,)type'.\n",
      "  _np_quint8 = np.dtype([(\"quint8\", np.uint8, 1)])\n",
      "C:\\ProgramData\\Anaconda3\\lib\\site-packages\\tensorflow\\python\\framework\\dtypes.py:518: FutureWarning: Passing (type, 1) or '1type' as a synonym of type is deprecated; in a future version of numpy, it will be understood as (type, (1,)) / '(1,)type'.\n",
      "  _np_qint16 = np.dtype([(\"qint16\", np.int16, 1)])\n",
      "C:\\ProgramData\\Anaconda3\\lib\\site-packages\\tensorflow\\python\\framework\\dtypes.py:519: FutureWarning: Passing (type, 1) or '1type' as a synonym of type is deprecated; in a future version of numpy, it will be understood as (type, (1,)) / '(1,)type'.\n",
      "  _np_quint16 = np.dtype([(\"quint16\", np.uint16, 1)])\n",
      "C:\\ProgramData\\Anaconda3\\lib\\site-packages\\tensorflow\\python\\framework\\dtypes.py:520: FutureWarning: Passing (type, 1) or '1type' as a synonym of type is deprecated; in a future version of numpy, it will be understood as (type, (1,)) / '(1,)type'.\n",
      "  _np_qint32 = np.dtype([(\"qint32\", np.int32, 1)])\n",
      "C:\\ProgramData\\Anaconda3\\lib\\site-packages\\tensorflow\\python\\framework\\dtypes.py:525: FutureWarning: Passing (type, 1) or '1type' as a synonym of type is deprecated; in a future version of numpy, it will be understood as (type, (1,)) / '(1,)type'.\n",
      "  np_resource = np.dtype([(\"resource\", np.ubyte, 1)])\n",
      "C:\\ProgramData\\Anaconda3\\lib\\site-packages\\tensorboard\\compat\\tensorflow_stub\\dtypes.py:541: FutureWarning: Passing (type, 1) or '1type' as a synonym of type is deprecated; in a future version of numpy, it will be understood as (type, (1,)) / '(1,)type'.\n",
      "  _np_qint8 = np.dtype([(\"qint8\", np.int8, 1)])\n",
      "C:\\ProgramData\\Anaconda3\\lib\\site-packages\\tensorboard\\compat\\tensorflow_stub\\dtypes.py:542: FutureWarning: Passing (type, 1) or '1type' as a synonym of type is deprecated; in a future version of numpy, it will be understood as (type, (1,)) / '(1,)type'.\n",
      "  _np_quint8 = np.dtype([(\"quint8\", np.uint8, 1)])\n",
      "C:\\ProgramData\\Anaconda3\\lib\\site-packages\\tensorboard\\compat\\tensorflow_stub\\dtypes.py:543: FutureWarning: Passing (type, 1) or '1type' as a synonym of type is deprecated; in a future version of numpy, it will be understood as (type, (1,)) / '(1,)type'.\n",
      "  _np_qint16 = np.dtype([(\"qint16\", np.int16, 1)])\n",
      "C:\\ProgramData\\Anaconda3\\lib\\site-packages\\tensorboard\\compat\\tensorflow_stub\\dtypes.py:544: FutureWarning: Passing (type, 1) or '1type' as a synonym of type is deprecated; in a future version of numpy, it will be understood as (type, (1,)) / '(1,)type'.\n",
      "  _np_quint16 = np.dtype([(\"quint16\", np.uint16, 1)])\n",
      "C:\\ProgramData\\Anaconda3\\lib\\site-packages\\tensorboard\\compat\\tensorflow_stub\\dtypes.py:545: FutureWarning: Passing (type, 1) or '1type' as a synonym of type is deprecated; in a future version of numpy, it will be understood as (type, (1,)) / '(1,)type'.\n",
      "  _np_qint32 = np.dtype([(\"qint32\", np.int32, 1)])\n",
      "C:\\ProgramData\\Anaconda3\\lib\\site-packages\\tensorboard\\compat\\tensorflow_stub\\dtypes.py:550: FutureWarning: Passing (type, 1) or '1type' as a synonym of type is deprecated; in a future version of numpy, it will be understood as (type, (1,)) / '(1,)type'.\n",
      "  np_resource = np.dtype([(\"resource\", np.ubyte, 1)])\n"
     ]
    }
   ],
   "source": [
    "from sklearn import datasets\n",
    "import numpy.linalg as lin\n",
    "from sklearn.model_selection import train_test_split\n",
    "import numpy as np\n",
    "import matplotlib.pyplot as plt\n",
    "from keras.datasets import mnist, fashion_mnist\n",
    "from keras import models\n",
    "from keras.utils import to_categorical\n",
    "from keras.models import Sequential\n",
    "from keras import optimizers\n",
    "from keras.layers import Dense, Activation, Flatten, Conv2D, MaxPooling2D"
   ]
  },
  {
   "cell_type": "markdown",
   "metadata": {},
   "source": [
    "# MNIST 기초"
   ]
  },
  {
   "cell_type": "markdown",
   "metadata": {},
   "source": [
    "- inverse를 통한 mnist 학습\n",
    "- 신경망을 통한 mnist 학습\n",
    "- cnn통한 mnist 학습 \n",
    "- fashon mnist, fast db 학습\n",
    "- web 연동(한글, 스케치 인식)\n"
   ]
  },
  {
   "cell_type": "code",
   "execution_count": 5,
   "metadata": {},
   "outputs": [
    {
     "name": "stdout",
     "output_type": "stream",
     "text": [
      "Downloading data from https://s3.amazonaws.com/img-datasets/mnist.npz\n",
      "11493376/11490434 [==============================] - 2s 0us/step\n"
     ]
    }
   ],
   "source": [
    "(X_train, y_train), (X_test, y_test) = mnist.load_data()"
   ]
  },
  {
   "cell_type": "code",
   "execution_count": 6,
   "metadata": {},
   "outputs": [
    {
     "name": "stdout",
     "output_type": "stream",
     "text": [
      "(60000, 28, 28)\n",
      "(10000, 28, 28)\n",
      "[[  0   0   0   0   0   0   0   0   0   0   0   0   0   0   0   0   0   0\n",
      "    0   0   0   0   0   0   0   0   0   0]\n",
      " [  0   0   0   0   0   0   0   0   0   0   0   0   0   0   0   0   0   0\n",
      "    0   0   0   0   0   0   0   0   0   0]\n",
      " [  0   0   0   0   0   0   0   0   0   0   0   0   0   0   0   0   0   0\n",
      "    0   0   0   0   0   0   0   0   0   0]\n",
      " [  0   0   0   0   0   0   0   0   0   0   0   0   0   0   0   0   0   0\n",
      "    0   0   0   0   0   0   0   0   0   0]\n",
      " [  0   0   0   0   0   0   0   0   0   0   0   0   0   0   0   0  38 254\n",
      "  109   0   0   0   0   0   0   0   0   0]\n",
      " [  0   0   0   0   0   0   0   0   0   0   0   0   0   0   0   0  87 252\n",
      "   82   0   0   0   0   0   0   0   0   0]\n",
      " [  0   0   0   0   0   0   0   0   0   0   0   0   0   0   0   0 135 241\n",
      "    0   0   0   0   0   0   0   0   0   0]\n",
      " [  0   0   0   0   0   0   0   0   0   0   0   0   0   0   0  45 244 150\n",
      "    0   0   0   0   0   0   0   0   0   0]\n",
      " [  0   0   0   0   0   0   0   0   0   0   0   0   0   0   0  84 254  63\n",
      "    0   0   0   0   0   0   0   0   0   0]\n",
      " [  0   0   0   0   0   0   0   0   0   0   0   0   0   0   0 202 223  11\n",
      "    0   0   0   0   0   0   0   0   0   0]\n",
      " [  0   0   0   0   0   0   0   0   0   0   0   0   0   0  32 254 216   0\n",
      "    0   0   0   0   0   0   0   0   0   0]\n",
      " [  0   0   0   0   0   0   0   0   0   0   0   0   0   0  95 254 195   0\n",
      "    0   0   0   0   0   0   0   0   0   0]\n",
      " [  0   0   0   0   0   0   0   0   0   0   0   0   0   0 140 254  77   0\n",
      "    0   0   0   0   0   0   0   0   0   0]\n",
      " [  0   0   0   0   0   0   0   0   0   0   0   0   0  57 237 205   8   0\n",
      "    0   0   0   0   0   0   0   0   0   0]\n",
      " [  0   0   0   0   0   0   0   0   0   0   0   0   0 124 255 165   0   0\n",
      "    0   0   0   0   0   0   0   0   0   0]\n",
      " [  0   0   0   0   0   0   0   0   0   0   0   0   0 171 254  81   0   0\n",
      "    0   0   0   0   0   0   0   0   0   0]\n",
      " [  0   0   0   0   0   0   0   0   0   0   0   0  24 232 215   0   0   0\n",
      "    0   0   0   0   0   0   0   0   0   0]\n",
      " [  0   0   0   0   0   0   0   0   0   0   0   0 120 254 159   0   0   0\n",
      "    0   0   0   0   0   0   0   0   0   0]\n",
      " [  0   0   0   0   0   0   0   0   0   0   0   0 151 254 142   0   0   0\n",
      "    0   0   0   0   0   0   0   0   0   0]\n",
      " [  0   0   0   0   0   0   0   0   0   0   0   0 228 254  66   0   0   0\n",
      "    0   0   0   0   0   0   0   0   0   0]\n",
      " [  0   0   0   0   0   0   0   0   0   0   0  61 251 254  66   0   0   0\n",
      "    0   0   0   0   0   0   0   0   0   0]\n",
      " [  0   0   0   0   0   0   0   0   0   0   0 141 254 205   3   0   0   0\n",
      "    0   0   0   0   0   0   0   0   0   0]\n",
      " [  0   0   0   0   0   0   0   0   0   0  10 215 254 121   0   0   0   0\n",
      "    0   0   0   0   0   0   0   0   0   0]\n",
      " [  0   0   0   0   0   0   0   0   0   0   5 198 176  10   0   0   0   0\n",
      "    0   0   0   0   0   0   0   0   0   0]\n",
      " [  0   0   0   0   0   0   0   0   0   0   0   0   0   0   0   0   0   0\n",
      "    0   0   0   0   0   0   0   0   0   0]\n",
      " [  0   0   0   0   0   0   0   0   0   0   0   0   0   0   0   0   0   0\n",
      "    0   0   0   0   0   0   0   0   0   0]\n",
      " [  0   0   0   0   0   0   0   0   0   0   0   0   0   0   0   0   0   0\n",
      "    0   0   0   0   0   0   0   0   0   0]\n",
      " [  0   0   0   0   0   0   0   0   0   0   0   0   0   0   0   0   0   0\n",
      "    0   0   0   0   0   0   0   0   0   0]]\n",
      "(60000,)\n",
      "[5 0 4 ... 5 6 8]\n"
     ]
    },
    {
     "data": {
      "image/png": "[encoded data removed]",
      "text/plain": [
       "<Figure size 432x288 with 1 Axes>"
      ]
     },
     "metadata": {
      "needs_background": "light"
     },
     "output_type": "display_data"
    }
   ],
   "source": [
    "print(X_train.shape)\n",
    "plt.imshow(X_train[2], cmap='gray')\n",
    "print(X_test.shape)\n",
    "plt.imshow(X_test[2], cmap='gray')\n",
    "print(X_test[2])\n",
    "print(y_train.shape)\n",
    "print(y_train)"
   ]
  },
  {
   "cell_type": "code",
   "execution_count": 8,
   "metadata": {},
   "outputs": [
    {
     "name": "stdout",
     "output_type": "stream",
     "text": [
      "(60000, 784)\n",
      "(10000, 784)\n"
     ]
    }
   ],
   "source": [
    "X_train = X_train.reshape((X_train.shape[0], 784))\n",
    "X_test = X_test.reshape((X_test.shape[0], 784))\n",
    "print(X_train.shape)\n",
    "print(X_test.shape)"
   ]
  },
  {
   "cell_type": "markdown",
   "metadata": {},
   "source": [
    "원핫 인코딩"
   ]
  },
  {
   "cell_type": "code",
   "execution_count": 11,
   "metadata": {},
   "outputs": [],
   "source": [
    "y_train_e = to_categorical(y_train)\n",
    "y_test_e = to_categorical(y_test)"
   ]
  },
  {
   "cell_type": "markdown",
   "metadata": {},
   "source": [
    "## 1. 역행렬을 이용한 학습"
   ]
  },
  {
   "cell_type": "markdown",
   "metadata": {},
   "source": [
    "y = wx + b  \n",
    "\n",
    "1 = w2.3 + b*1  -> 2.3  1  [w   = [1  \n",
    "6 = w1.5 + b*1  -> 1.5  1   b]     6]  \n",
    "\n",
    "역행렬만 구해주면 됨.  \n",
    "\n",
    "- y = W x .[x 1].\n",
    "- A 60000 X 785(=784 + 1)  \n",
    "- W = int(A) * y  , where Y = 60000*10, W= 785X 10\n",
    "                                              2x 1\n",
    "- predict ([x 1] * W), where x = 1x784 w=785x10  , 1x10\n",
    "\n"
   ]
  },
  {
   "cell_type": "code",
   "execution_count": 12,
   "metadata": {},
   "outputs": [],
   "source": [
    "A = np.hstack(((X_train, np.ones((60000, 1))) ))"
   ]
  },
  {
   "cell_type": "code",
   "execution_count": 14,
   "metadata": {},
   "outputs": [
    {
     "data": {
      "text/plain": [
       "(60000, 785)"
      ]
     },
     "execution_count": 14,
     "metadata": {},
     "output_type": "execute_result"
    }
   ],
   "source": [
    "A.shape"
   ]
  },
  {
   "cell_type": "code",
   "execution_count": 15,
   "metadata": {},
   "outputs": [
    {
     "name": "stdout",
     "output_type": "stream",
     "text": [
      "(785, 10)\n",
      "[[ 7.44778176e-17  3.08116485e-17  6.24517735e-17 ... -1.88247215e-17\n",
      "  -9.68761667e-17  2.74183832e-17]\n",
      " [ 6.37351236e-16 -2.76720495e-15 -2.38747509e-15 ...  1.19908305e-15\n",
      "   1.98622008e-15  1.90420431e-15]\n",
      " [ 5.70720542e-15  1.07908655e-14  1.08314732e-14 ... -1.04222601e-14\n",
      "  -1.36075550e-14 -4.14879462e-15]\n",
      " ...\n",
      " [ 0.00000000e+00  0.00000000e+00  0.00000000e+00 ...  0.00000000e+00\n",
      "   0.00000000e+00  0.00000000e+00]\n",
      " [ 0.00000000e+00  0.00000000e+00  0.00000000e+00 ...  0.00000000e+00\n",
      "   0.00000000e+00  0.00000000e+00]\n",
      " [ 1.57799659e-01  2.41326501e-01  4.98284745e-02 ...  1.41540555e-01\n",
      "  -1.23002061e-01  4.55121243e-02]]\n",
      "Wall time: 11.4 s\n"
     ]
    }
   ],
   "source": [
    "%%time\n",
    "W = np.matmul(lin.pinv(A), y_train_e)\n",
    "print(W.shape)\n",
    "print(W)"
   ]
  },
  {
   "cell_type": "code",
   "execution_count": 17,
   "metadata": {},
   "outputs": [
    {
     "name": "stdout",
     "output_type": "stream",
     "text": [
      "[ 7.44778176e-17  6.37351236e-16  5.70720542e-15 -6.89410182e-15\n",
      "  1.61921169e-15  6.01081563e-15  1.06678417e-15 -2.35600322e-15\n",
      " -1.58289428e-15  5.28664505e-15  1.76241660e-15  3.89576048e-15\n",
      "  3.02162834e-04  3.88864085e-04 -3.03538959e-04 -1.26474566e-05\n",
      " -5.69734437e-15  5.74454725e-15  8.25712682e-16  3.17557575e-15\n",
      " -9.67780512e-16  6.02280294e-15 -1.59623568e-15  3.28759776e-15\n",
      " -2.20570217e-15 -1.75501660e-15  3.72004608e-15 -2.80269838e-15\n",
      " -9.00127165e-16 -3.07402116e-15  5.85091557e-16  7.15061724e-15\n",
      " -7.99728688e-03  2.07102122e-03  2.37473673e-04  4.17736615e-04\n",
      "  1.25130340e-04  5.21710603e-06  1.07704793e-04  2.28418868e-04\n",
      " -1.42711146e-04  5.35057295e-04 -3.19725195e-04  1.21111359e-04\n",
      "  3.70121319e-07  1.51179376e-04 -1.21512767e-04  3.00575592e-05\n",
      "  1.67712928e-04 -2.78002180e-04  4.66517424e-04  7.11096870e-05\n",
      "  1.78253451e-15 -5.74546886e-15  3.12809877e-15  1.83356068e-15\n",
      " -2.18639760e-15  3.36444272e-15 -1.63857575e-02  1.91555200e-02\n",
      "  1.04795930e-03 -1.56986064e-03 -3.71169798e-04  1.97923477e-04\n",
      " -1.03489093e-04 -1.60399945e-04 -1.46721004e-04  9.84888622e-05\n",
      " -9.66732482e-05 -2.79440473e-05 -6.65553169e-05  7.17296351e-06\n",
      " -2.17383580e-04 -5.07822085e-05 -8.58926487e-05 -9.23833524e-05\n",
      " -1.93558665e-04  1.98621476e-04 -3.31149411e-04  2.03063689e-04\n",
      " -4.82052406e-04  8.02762737e-04  4.02604847e-15  7.76922512e-16\n",
      "  4.74941517e-15  2.36358989e-15  7.75084757e-03 -3.51674323e-03\n",
      " -1.67052698e-04 -1.60136442e-04 -1.24635781e-04 -3.99626795e-06\n",
      "  4.61199826e-05 -1.21977986e-04 -6.63081194e-05  1.07380282e-04\n",
      " -1.16543665e-04  9.04777993e-05 -8.98521697e-05 -6.02590206e-05\n",
      " -3.44602479e-05 -8.02979084e-05 -2.02944740e-04 -9.00206667e-05\n",
      " -2.11970947e-04 -2.05992308e-04 -1.35818508e-04 -1.31569567e-04\n",
      "  2.12109577e-04 -2.19391639e-04  4.48420916e-04 -4.82201184e-15\n",
      " -1.38731800e-15  1.21386532e-03 -5.62391198e-04 -1.12340367e-04\n",
      "  1.43468397e-04 -2.31980970e-05 -4.02361695e-05 -9.77238831e-05\n",
      "  7.30840002e-05 -8.53763448e-05 -4.39076523e-05 -5.55138254e-05\n",
      "  3.26650189e-06  6.01521849e-05 -6.83266745e-05  7.66483300e-05\n",
      " -3.25811929e-05  7.43978351e-06 -4.75926041e-06  5.04595834e-05\n",
      " -1.35397032e-05  5.44761787e-05 -4.82383769e-05 -1.29865616e-04\n",
      " -1.26317088e-04 -7.02850796e-05 -4.76356413e-04  2.60255840e-03\n",
      " -3.27130266e-15  5.90433208e-16 -1.80091955e-03 -1.47745970e-04\n",
      " -2.73372871e-05 -7.91988216e-05  7.55321395e-05 -2.97878096e-05\n",
      " -5.75936025e-05 -4.81474203e-05 -3.85662321e-05  1.97750925e-06\n",
      " -4.40692014e-05  7.01923009e-05  2.18242779e-07  3.80922537e-05\n",
      "  1.91443040e-05  2.77645733e-05 -2.89715048e-05  3.72764513e-05\n",
      " -4.99206447e-05 -3.57362121e-05 -1.00197566e-04 -1.23353729e-04\n",
      " -4.63021951e-05 -5.63670456e-05 -2.19022740e-04 -1.75791411e-03\n",
      "  2.43627982e-16 -5.00323283e-03  3.47542133e-04  1.30962426e-05\n",
      "  3.70815538e-05 -5.67003814e-05  2.89431861e-05 -3.28074106e-05\n",
      "  3.64752391e-05 -5.27742502e-05 -4.34435171e-05 -2.08604477e-05\n",
      " -3.40793443e-06  4.48213016e-05  5.78681687e-06 -9.83259329e-06\n",
      "  2.35754679e-05 -2.21277418e-06  2.95175075e-05 -2.71516038e-05\n",
      "  5.45150928e-06  3.77053414e-05  1.14505511e-05 -7.48846725e-05\n",
      " -2.03855153e-04 -6.19027052e-05 -1.49586132e-04 -1.69287493e-04\n",
      " -5.94572589e-02 -1.08114757e-04 -6.14234899e-04  8.09611296e-05\n",
      " -2.53618405e-05  2.94623498e-05 -1.53618276e-05  8.64158618e-06\n",
      " -5.07646449e-05  7.03692490e-05 -3.10905406e-05  2.79272959e-05\n",
      "  2.82951227e-05  2.69693526e-05  7.23750637e-05  6.29908079e-05\n",
      "  3.60894576e-06  7.50199382e-05  4.21176308e-05  3.70622806e-05\n",
      " -4.11362922e-05 -1.37862177e-05  7.18259200e-06 -3.31667220e-05\n",
      " -2.14345264e-04 -9.20133749e-05 -6.61334514e-05  2.33668145e-04\n",
      "  1.51714750e-02  1.57656747e-04  6.29295653e-05 -7.45710839e-05\n",
      " -8.98032093e-06 -2.12154213e-05  7.41337522e-05 -2.00716983e-05\n",
      "  9.66605953e-06 -9.04677989e-06  2.35959456e-06 -2.53119198e-05\n",
      "  2.95747872e-05  8.10456832e-06  3.92393848e-05  3.55715069e-05\n",
      "  1.02281403e-04  2.76196196e-05  3.13010396e-05  1.94994892e-06\n",
      "  6.12871416e-05 -5.30364844e-05  2.42391020e-05 -1.82517774e-06\n",
      " -2.40690828e-04 -2.48557210e-04 -5.21694424e-05 -1.47015465e-04\n",
      " -1.23835663e-03  2.48687732e-04 -1.04256313e-04  8.75525904e-06\n",
      " -3.37474685e-05 -3.43487914e-05 -4.55276709e-06  4.43621628e-05\n",
      "  2.30131772e-05  9.81418733e-06  2.15077755e-05 -3.52713272e-05\n",
      " -1.24484116e-05  5.73022207e-05  5.06844021e-05  6.44379950e-05\n",
      "  8.38248864e-06  2.29945161e-05  1.71905124e-05  8.13860930e-05\n",
      "  2.07062426e-05  4.11787595e-05 -6.88693831e-05  5.24515719e-05\n",
      " -6.52545047e-05 -4.31331449e-04  7.09105674e-06 -1.45541669e-04\n",
      "  8.26720837e-04 -4.28897874e-04 -1.18410470e-05 -4.15453670e-05\n",
      "  8.62459563e-06  4.41230942e-05 -2.42819575e-06 -2.67936808e-05\n",
      " -3.19903486e-05  5.60788587e-05 -7.76028279e-06  2.15570607e-05\n",
      "  3.39442810e-05  1.78479629e-05  1.74376512e-05  5.97223627e-05\n",
      "  3.74563704e-05  7.07668289e-05  6.72589800e-05  1.55073700e-05\n",
      "  1.30911452e-04  6.47342907e-05  8.51443610e-05  1.47476426e-04\n",
      " -1.49602501e-04 -4.37966013e-04 -3.30686567e-04  7.62915027e-04\n",
      " -7.47198405e-04  5.84459196e-04 -1.10168760e-04 -6.72092395e-05\n",
      "  5.48994408e-06 -1.36730037e-04  1.87212471e-06  3.79422351e-05\n",
      "  2.01285690e-05 -2.53812420e-05  4.61682067e-05  2.85647250e-05\n",
      " -4.03522310e-05 -2.85722773e-06 -8.29663432e-05 -5.01187640e-05\n",
      " -4.09185491e-05  1.40679387e-06  1.93445132e-05  8.19547557e-05\n",
      "  3.93037193e-05  1.26029978e-04  2.90253288e-05  1.38584411e-04\n",
      "  2.10174059e-04 -6.69003426e-04  2.86398150e-05 -1.31597016e-03\n",
      "  2.61451104e-04 -4.65954532e-04 -1.47065010e-04  4.48176334e-05\n",
      " -1.47168822e-04 -1.96069767e-05  3.65200569e-05 -3.02984918e-05\n",
      "  3.87625714e-05  1.88414168e-05  3.43323642e-05 -4.53485387e-05\n",
      "  2.89604185e-05 -2.16487665e-05 -1.50012143e-04 -5.68507622e-05\n",
      " -8.38558167e-05 -6.58100367e-05 -7.30364603e-05 -5.63972537e-05\n",
      "  5.24847816e-05  3.20304942e-05  5.54198437e-05  2.52100279e-04\n",
      "  1.63609558e-04 -7.38546079e-05 -6.44387339e-04  1.38351877e-03\n",
      "  7.13866308e-04  1.39727393e-03  4.79110456e-05 -4.08694027e-06\n",
      " -2.51330233e-05 -2.11395228e-05 -4.08822847e-05  3.82743242e-05\n",
      " -4.36830158e-05  3.01690248e-05  1.97547427e-05  1.53452155e-05\n",
      " -5.51966745e-05 -8.14254791e-05 -1.01979713e-04 -5.15366890e-05\n",
      " -4.51659162e-05 -9.52711816e-05 -9.79567190e-05 -4.54061325e-05\n",
      " -8.90990858e-05  3.59286926e-05  1.73079203e-04  1.41019851e-04\n",
      " -1.88713690e-04  2.01194074e-07  2.33674108e-04 -8.08128810e-04\n",
      " -6.57584123e-04 -8.56376501e-04 -1.21715678e-04 -1.18092203e-04\n",
      " -2.72284269e-04  4.09866892e-05  7.70518214e-05  4.73281866e-05\n",
      "  2.84362501e-05  4.03055844e-05  9.83081589e-05  1.93411087e-07\n",
      " -8.44011968e-05  1.01379395e-05 -1.36753200e-04  1.10100434e-05\n",
      " -7.84186005e-05 -8.41115589e-05 -5.79157403e-05 -7.50884276e-05\n",
      "  3.64095054e-05  1.57759281e-04  6.17437462e-07  4.66367491e-05\n",
      "  5.78020938e-05 -1.02495440e-04 -1.16746270e-04  1.30002734e-03\n",
      " -8.41674255e-04  4.93668327e-04  3.42913238e-05 -6.12535250e-05\n",
      "  9.54193248e-05  1.11876759e-04 -7.19885481e-05  6.89813866e-05\n",
      "  6.50015770e-05  7.32947073e-05  6.21803640e-05 -2.82176888e-05\n",
      " -6.34394777e-05 -4.33558002e-05 -1.13363489e-04 -1.58921419e-05\n",
      " -9.72555432e-05 -7.86935166e-05 -5.81655643e-05 -2.78855628e-05\n",
      "  6.21653788e-05 -9.84347990e-06 -2.67758726e-06  5.04055710e-05\n",
      " -4.98432004e-05 -1.00806602e-04 -6.15053551e-05  2.90710099e-04\n",
      " -3.57919485e-03  1.02573834e-04  5.89235384e-04 -4.63835210e-04\n",
      "  1.47449363e-05  1.96654949e-05  5.76982509e-05  1.35690121e-05\n",
      "  5.34241531e-05  1.87499575e-05  4.13919772e-05 -1.99899690e-05\n",
      " -1.10182593e-04 -7.24555501e-05 -6.94086343e-05 -5.87586727e-05\n",
      " -8.02378573e-05 -8.79654332e-05 -1.09107678e-05  3.01996260e-05\n",
      "  2.72799527e-05  2.10861015e-05 -1.07369133e-04  4.83073204e-05\n",
      "  4.61424354e-05 -2.47396358e-05 -1.25178743e-04 -8.34024097e-04\n",
      "  2.03581541e-15 -2.52150285e-04 -3.66984628e-04 -5.39171340e-05\n",
      "  3.28594595e-05  4.75829629e-05  5.55488136e-05  4.88272211e-05\n",
      " -8.22825026e-06  2.99075250e-05  3.31192703e-05 -2.95033014e-05\n",
      " -2.83411650e-05 -8.69521990e-05 -1.09703107e-04 -9.40964324e-05\n",
      " -3.57011171e-05  2.14205838e-05  1.80972040e-06  4.26532710e-05\n",
      " -2.82959886e-05 -3.16447741e-05  1.06214986e-04 -4.74161246e-05\n",
      "  9.90987976e-06 -3.55031253e-05  3.23472882e-04  3.23458528e-03\n",
      " -4.29493205e-04 -2.62426297e-04  4.98821881e-04 -4.63646555e-04\n",
      " -9.39433590e-06  6.70625418e-05 -1.65100102e-05  7.96779507e-05\n",
      "  6.54014280e-05  7.83061448e-06 -1.53486455e-05  1.67147938e-05\n",
      " -5.20574037e-05 -3.58975971e-05 -6.00628332e-05  5.64557556e-06\n",
      " -2.56028825e-05 -2.22149495e-05 -2.81308910e-05 -2.37577153e-06\n",
      " -5.39874968e-05 -1.04279948e-05 -1.31378873e-05 -1.39102264e-04\n",
      "  1.27113397e-04 -6.80140627e-05 -3.76417048e-04 -2.42305464e-03\n",
      " -2.20003823e-03  4.75545433e-04 -1.79418198e-04  2.46796585e-05\n",
      " -1.26502795e-05 -5.32588656e-05  3.04109018e-05  4.89148412e-05\n",
      "  2.41089514e-05  6.77698766e-05 -1.03228524e-05  3.54410694e-05\n",
      "  2.59234103e-05  2.26927248e-05  4.65265714e-06 -2.34535929e-05\n",
      " -7.23222993e-06  4.44466967e-06  1.01203269e-07 -2.61585289e-05\n",
      "  1.41019787e-05 -1.70304475e-05  1.56519308e-06  2.51669828e-05\n",
      " -3.56149654e-05 -1.03728732e-04  8.03380654e-05  1.68467880e-03\n",
      "  2.18354878e-16  1.94194636e-03  1.98406984e-04 -2.01681416e-04\n",
      " -5.38875484e-05  3.36357573e-05 -3.13524519e-05 -7.70876083e-07\n",
      "  2.18738162e-05  3.21971301e-06  4.11079627e-05  1.11217198e-06\n",
      "  4.28854010e-05  2.48204061e-05  2.86419104e-07  1.30809455e-05\n",
      " -5.05429429e-05  1.62615140e-05 -3.84733299e-05  3.47964916e-06\n",
      " -3.66128638e-05  6.31524619e-05 -3.90242528e-05 -1.13397260e-04\n",
      "  1.61948330e-05  1.91769246e-04 -2.13953390e-04 -6.00773411e-04\n",
      "  7.04912947e-04 -2.03547133e-03 -6.02794584e-05 -1.25921903e-05\n",
      "  1.10267643e-04 -5.04174146e-05 -1.53524182e-05 -1.91836063e-05\n",
      " -1.81956226e-05  5.39118752e-05  3.33247861e-05  4.16506174e-05\n",
      " -1.53180198e-06 -2.45789413e-05  6.27655004e-06  5.26237686e-05\n",
      "  1.13175159e-05 -4.62044753e-05  1.23067646e-05 -1.68434613e-05\n",
      " -7.49460537e-06 -3.17518180e-05  2.32746726e-05 -8.55728489e-05\n",
      "  4.31449570e-05 -2.12560848e-05  5.13631048e-04  1.12474105e-03\n",
      "  6.82884417e-04 -2.01477202e-03 -3.45701645e-05  1.96891960e-05\n",
      " -2.27945626e-04  5.02561523e-05  6.39516313e-05  1.97348528e-05\n",
      "  1.08405949e-05  3.33858776e-05  5.50584007e-06  3.79470589e-05\n",
      "  2.89713228e-05  8.26915090e-05  2.13929054e-05 -3.00283624e-05\n",
      " -1.18391693e-05 -1.13381850e-05 -6.87409325e-05  3.20969075e-05\n",
      " -9.53847287e-05  3.99325457e-05  2.57655260e-05 -2.91483496e-05\n",
      "  3.57210592e-05  2.01150619e-05  6.94315259e-04  2.07644502e-03\n",
      " -8.86056121e-17  2.13862218e-16  2.46090247e-04 -4.57651034e-05\n",
      " -1.15265174e-04 -3.59717423e-06 -1.18465230e-04  4.98609990e-05\n",
      " -3.73981223e-05  2.57945946e-05  6.17748222e-06  4.20013938e-05\n",
      "  5.03610331e-05  6.69522960e-06  5.93388203e-05  7.41768090e-05\n",
      "  4.26014800e-05  4.16972440e-05 -3.51539270e-05 -4.33443784e-05\n",
      " -2.18468843e-05 -1.03856352e-04  1.79871380e-05  3.78121275e-06\n",
      "  3.20402432e-05 -2.87518371e-04 -1.19763268e-03  2.58925380e-17\n",
      "  2.75716052e-17  2.31250202e-17 -1.32060846e-03  3.28148555e-04\n",
      "  4.51511831e-05 -1.73791741e-04  1.42351142e-04 -7.05891447e-05\n",
      "  9.95853227e-06 -5.35973975e-05 -9.57280962e-06 -8.96245524e-05\n",
      " -2.73340391e-05 -3.53993989e-05 -6.22068377e-05 -2.70156572e-05\n",
      " -7.93542638e-06  8.10437320e-06  7.60505981e-05 -1.75287327e-05\n",
      "  8.74110253e-05  6.25353852e-06 -1.98707721e-04  5.30033544e-05\n",
      " -2.76414970e-04  4.87125247e-04  8.71598494e-03 -1.13022852e-17\n",
      " -2.55157340e-17  1.11056526e-17  1.12670771e-03  1.37610741e-04\n",
      " -2.88741313e-06 -2.67243784e-04 -1.08244059e-04 -2.06431308e-04\n",
      " -1.08403896e-04 -9.42340744e-05 -1.30631766e-04 -5.29546882e-05\n",
      " -1.27085906e-04 -6.04399780e-05 -8.64677616e-05 -2.15205043e-05\n",
      " -5.94400186e-05 -6.72513857e-05 -4.30938426e-05  2.19864959e-05\n",
      " -1.41100343e-04  1.60526147e-05  2.79564377e-04 -3.32834043e-04\n",
      " -3.57083887e-04 -9.74638377e-04 -8.32517105e-03  0.00000000e+00\n",
      "  0.00000000e+00  0.00000000e+00  0.00000000e+00 -1.81579483e-03\n",
      "  5.13178474e-04 -4.05008093e-04  1.49920491e-05 -1.79865937e-04\n",
      " -9.28648905e-05 -2.28605528e-04 -8.45094814e-05 -1.98725847e-04\n",
      " -6.61464405e-05 -1.76889607e-04 -9.18665952e-05 -1.91696632e-04\n",
      " -1.06160959e-04 -6.41972169e-05 -1.46068500e-04 -1.48565636e-05\n",
      "  1.67458465e-05 -3.05540166e-04 -1.24765415e-04 -5.17146138e-04\n",
      "  4.04189505e-03 -5.35366833e-04  0.00000000e+00  0.00000000e+00\n",
      "  0.00000000e+00  0.00000000e+00  0.00000000e+00  0.00000000e+00\n",
      "  1.56676905e-03  4.97406377e-05 -7.40804763e-04  1.18338115e-04\n",
      " -2.52832227e-04 -2.22413739e-04 -6.82261922e-05 -3.52221131e-05\n",
      " -2.66557645e-04 -1.50467936e-05 -2.66197859e-04 -4.81558314e-05\n",
      " -8.47385509e-05 -2.25565847e-04 -8.79477540e-05  2.13637671e-05\n",
      " -2.01749150e-04  3.61712250e-04 -6.86466242e-04 -4.09034628e-03\n",
      "  0.00000000e+00  0.00000000e+00  0.00000000e+00  0.00000000e+00\n",
      "  1.57799659e-01]\n"
     ]
    }
   ],
   "source": [
    "print(W[:,0])"
   ]
  },
  {
   "cell_type": "code",
   "execution_count": 25,
   "metadata": {},
   "outputs": [
    {
     "name": "stdout",
     "output_type": "stream",
     "text": [
      "(10000, 10)\n"
     ]
    }
   ],
   "source": [
    "T = np.hstack((X_test, np.ones((10000, 1)) ))\n",
    "p = np.matmul(T, W)\n",
    "print(p.shape)"
   ]
  },
  {
   "cell_type": "markdown",
   "metadata": {},
   "source": [
    "샘플 하나에 10개의 클래스가 나옴.\n",
    "\n",
    "argmax를 통해 최대값을 가져옴"
   ]
  },
  {
   "cell_type": "code",
   "execution_count": 26,
   "metadata": {},
   "outputs": [
    {
     "name": "stdout",
     "output_type": "stream",
     "text": [
      "(10000,)\n",
      "[7 2 1 ... 4 5 6]\n"
     ]
    }
   ],
   "source": [
    "p = np.argmax(p, axis = 1)\n",
    "print(p.shape)\n",
    "print(p)"
   ]
  },
  {
   "cell_type": "code",
   "execution_count": 23,
   "metadata": {},
   "outputs": [
    {
     "name": "stdout",
     "output_type": "stream",
     "text": [
      "5\n",
      "[2 2 2]\n",
      "[1 1 1]\n"
     ]
    }
   ],
   "source": [
    "a = np.array([[1,2,3], \n",
    "              [7,8,9], \n",
    "              [4,5,6]])\n",
    "print(np.argmax(a))\n",
    "print(np.argmax(a, axis=1)) #각각의 행에서 최대값의 index를 출력\n",
    "print(np.argmax(a, axis=0)) #각각의 컬럼에서 최대값의 index를 출력"
   ]
  },
  {
   "cell_type": "code",
   "execution_count": 29,
   "metadata": {},
   "outputs": [
    {
     "data": {
      "text/plain": [
       "<matplotlib.image.AxesImage at 0x17069e29b88>"
      ]
     },
     "execution_count": 29,
     "metadata": {},
     "output_type": "execute_result"
    },
    {
     "data": {
      "image/png": "[encoded data removed]",
      "text/plain": [
       "<Figure size 432x288 with 1 Axes>"
      ]
     },
     "metadata": {
      "needs_background": "light"
     },
     "output_type": "display_data"
    }
   ],
   "source": [
    "plt.imshow(X_test[1, :].reshape(28,28), cmap=\"gray\")"
   ]
  },
  {
   "cell_type": "code",
   "execution_count": 31,
   "metadata": {},
   "outputs": [
    {
     "data": {
      "text/plain": [
       "0.8603"
      ]
     },
     "execution_count": 31,
     "metadata": {},
     "output_type": "execute_result"
    }
   ],
   "source": [
    "# 인식률 조사\n",
    "np.mean(p == y_test) # 1 0 1 0 -> 50%, so 평균하면 됨"
   ]
  },
  {
   "cell_type": "markdown",
   "metadata": {},
   "source": [
    "바이어스에 대한 이야기  \n",
    "\n",
    "바이어스를 뺴면 원점을 지나는 직선을 구하게 된다.  \n",
    "\n",
    "데이터들이 원점 근처에 있으면 크게 차이 안날 수도 있지만  \n",
    "\n",
    "일반적이지 않다. "
   ]
  },
  {
   "cell_type": "markdown",
   "metadata": {},
   "source": [
    "## 이것을 히든 레이어가 없는 신경망으로 풀어보자\n",
    "\n",
    "퍼셉트론"
   ]
  },
  {
   "cell_type": "code",
   "execution_count": 36,
   "metadata": {},
   "outputs": [],
   "source": [
    "model = Sequential()\n",
    "model.add(Dense(10, activation='softmax')) # 출력층 10개, 활성함수 softmax -> 확률값으로 해석하기 위해\n",
    "model.compile(loss='categorical_crossentropy', optimizer='adam', metrics=['accuracy'])\n",
    "\n",
    "# 0.1 0.9 1.2    \n",
    "# -> \n",
    "# 0.1/(0.1+0.9+1.2) #정규화\n",
    "# exp(0.1) / (exp(0.1) + exp(0.9) + exp(1.2))  지수로그 + 정규화 -> 소프트맥스\n",
    "# 작은것은 더 작게하고 큰것은 더 크게하자라는 발상"
   ]
  },
  {
   "cell_type": "code",
   "execution_count": 37,
   "metadata": {},
   "outputs": [
    {
     "name": "stdout",
     "output_type": "stream",
     "text": [
      "WARNING:tensorflow:From C:\\ProgramData\\Anaconda3\\lib\\site-packages\\keras\\backend\\tensorflow_backend.py:422: The name tf.global_variables is deprecated. Please use tf.compat.v1.global_variables instead.\n",
      "\n",
      "Epoch 1/10\n",
      "60000/60000 [==============================] - 3s 55us/step - loss: 9.6325 - accuracy: 0.8383\n",
      "Epoch 2/10\n",
      "60000/60000 [==============================] - 4s 60us/step - loss: 6.0792 - accuracy: 0.8797\n",
      "Epoch 3/10\n",
      "60000/60000 [==============================] - 4s 58us/step - loss: 5.6632 - accuracy: 0.8844\n",
      "Epoch 4/10\n",
      "60000/60000 [==============================] - 3s 50us/step - loss: 5.5253 - accuracy: 0.8843\n",
      "Epoch 5/10\n",
      "60000/60000 [==============================] - 3s 56us/step - loss: 5.3065 - accuracy: 0.8870\n",
      "Epoch 6/10\n",
      "60000/60000 [==============================] - 4s 60us/step - loss: 5.1862 - accuracy: 0.8863\n",
      "Epoch 7/10\n",
      "60000/60000 [==============================] - 3s 57us/step - loss: 5.3000 - accuracy: 0.8878\n",
      "Epoch 8/10\n",
      "60000/60000 [==============================] - 3s 54us/step - loss: 5.2889 - accuracy: 0.8885\n",
      "Epoch 9/10\n",
      "60000/60000 [==============================] - 4s 66us/step - loss: 5.2992 - accuracy: 0.8891\n",
      "Epoch 10/10\n",
      "60000/60000 [==============================] - 4s 64us/step - loss: 5.0989 - accuracy: 0.8917\n"
     ]
    }
   ],
   "source": [
    "hist = model.fit(x = X_train, y = y_train_e, # 원핫 인코팅된 y\n",
    "                epochs = 10, \n",
    "                verbose = 1, # 로그를 축약\n",
    "                batch_size=32) # 32개씩 랜덤하게 뽑음\n"
   ]
  },
  {
   "cell_type": "code",
   "execution_count": 38,
   "metadata": {},
   "outputs": [
    {
     "name": "stdout",
     "output_type": "stream",
     "text": [
      "Test loss: 6.490964854875902\n",
      "Test accuracy: 0.8851000070571899\n"
     ]
    }
   ],
   "source": [
    "# 인식률 계산\n",
    "score = model.evaluate(X_test, y_test_e, verbose=0)\n",
    "print(\"Test loss:\", score[0])\n",
    "print(\"Test accuracy:\", score[1])"
   ]
  },
  {
   "cell_type": "code",
   "execution_count": 42,
   "metadata": {},
   "outputs": [
    {
     "name": "stdout",
     "output_type": "stream",
     "text": [
      "(10000, 10)\n",
      "0.8851\n"
     ]
    }
   ],
   "source": [
    "# 예측\n",
    "p = model.predict(X_test)\n",
    "print(p.shape)\n",
    "p = np.argmax(p, axis=1)\n",
    "print(np.mean(p == y_test))"
   ]
  },
  {
   "cell_type": "code",
   "execution_count": 40,
   "metadata": {},
   "outputs": [
    {
     "name": "stdout",
     "output_type": "stream",
     "text": [
      "[0.0000000e+00 0.0000000e+00 0.0000000e+00 2.4618973e-30 0.0000000e+00\n",
      " 0.0000000e+00 0.0000000e+00 1.0000000e+00 0.0000000e+00 0.0000000e+00]\n"
     ]
    }
   ],
   "source": [
    "print(p[0])"
   ]
  },
  {
   "cell_type": "code",
   "execution_count": null,
   "metadata": {},
   "outputs": [],
   "source": []
  }
 ],
 "metadata": {
  "kernelspec": {
   "display_name": "Python 3",
   "language": "python",
   "name": "python3"
  },
  "language_info": {
   "codemirror_mode": {
    "name": "ipython",
    "version": 3
   },
   "file_extension": ".py",
   "mimetype": "text/x-python",
   "name": "python",
   "nbconvert_exporter": "python",
   "pygments_lexer": "ipython3",
   "version": "3.7.6"
  }
 },
 "nbformat": 4,
 "nbformat_minor": 4
}
